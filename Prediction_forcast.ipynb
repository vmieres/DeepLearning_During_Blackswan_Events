{
 "cells": [
  {
   "cell_type": "code",
   "execution_count": 116,
   "metadata": {},
   "outputs": [],
   "source": [
    "#importing libraries\n",
    "import pandas_datareader as pdr\n",
    "import matplotlib.pyplot as plt\n",
    "import numpy as np\n",
    "from sklearn.preprocessing import MinMaxScaler"
   ]
  },
  {
   "cell_type": "code",
   "execution_count": 117,
   "metadata": {},
   "outputs": [],
   "source": [
    "#Creating a new dataframe\n",
    "df = pdr.get_data_tiingo('DAL', api_key = 'ef99e4dc19153f1f55a9228a74d5ceb8d8c4fe55')"
   ]
  },
  {
   "cell_type": "code",
   "execution_count": 118,
   "metadata": {},
   "outputs": [],
   "source": [
    "#coverting the csv\n",
    "df.to_csv('AAPL.csv')"
   ]
  },
  {
   "cell_type": "code",
   "execution_count": 119,
   "metadata": {},
   "outputs": [],
   "source": [
    "#creating a new df\n",
    "df1 = df.reset_index()['close']"
   ]
  },
  {
   "cell_type": "code",
   "execution_count": 120,
   "metadata": {},
   "outputs": [
    {
     "data": {
      "text/plain": [
       "[<matplotlib.lines.Line2D at 0x7fd598b19c70>]"
      ]
     },
     "execution_count": 120,
     "metadata": {},
     "output_type": "execute_result"
    },
    {
     "data": {
      "image/png": "[encoded data removed]",
      "text/plain": [
       "<Figure size 432x288 with 1 Axes>"
      ]
     },
     "metadata": {
      "needs_background": "light"
     },
     "output_type": "display_data"
    }
   ],
   "source": [
    "#Plotting the df\n",
    "plt.plot(df1)"
   ]
  },
  {
   "cell_type": "code",
   "execution_count": 121,
   "metadata": {},
   "outputs": [],
   "source": [
    "#Normalizing the data using MinMaxScaler (making all the values between 0 and 1)\n",
    "scalar = MinMaxScaler(feature_range = (0,1))\n",
    "df1 = scalar.fit_transform(np.array(df1).reshape(-1,1))"
   ]
  },
  {
   "cell_type": "code",
   "execution_count": 122,
   "metadata": {},
   "outputs": [
    {
     "data": {
      "text/plain": [
       "(1259, 1)"
      ]
     },
     "execution_count": 122,
     "metadata": {},
     "output_type": "execute_result"
    }
   ],
   "source": [
    "#Checking the shapre of the df\n",
    "df1.shape"
   ]
  },
  {
   "cell_type": "code",
   "execution_count": 123,
   "metadata": {},
   "outputs": [],
   "source": [
    "#Preparing the training data using 65% of the data for training\n",
    "training_size = int(len(df1)*0.65)\n",
    "test_size = len(df1) - training_size\n",
    "train_data, test_data = df1[0:training_size, :], df1[training_size:len(df1), :1]"
   ]
  },
  {
   "cell_type": "code",
   "execution_count": 124,
   "metadata": {},
   "outputs": [
    {
     "data": {
      "text/plain": [
       "(818, 441)"
      ]
     },
     "execution_count": 124,
     "metadata": {},
     "output_type": "execute_result"
    }
   ],
   "source": [
    "training_size, test_size"
   ]
  },
  {
   "cell_type": "code",
   "execution_count": 125,
   "metadata": {},
   "outputs": [],
   "source": [
    "import numpy \n",
    "#Convert an array of values into a dataset matrix\n",
    "def create_dataset(dataset, time_step = 1):\n",
    "    dataX, dataY = [], []\n",
    "    for i in range(len(dataset)- time_step - 1):\n",
    "        a = dataset[i:(i+time_step), 0]\n",
    "        dataX.append(a)\n",
    "        dataY.append(dataset[i+time_step, 0])\n",
    "    return numpy.array(dataX), numpy.array(dataY)"
   ]
  },
  {
   "cell_type": "code",
   "execution_count": 126,
   "metadata": {},
   "outputs": [],
   "source": [
    "time_step = 100\n",
    "X_train, y_train = create_dataset(train_data, time_step)\n",
    "X_test, y_test = create_dataset(test_data, time_step)"
   ]
  },
  {
   "cell_type": "code",
   "execution_count": 127,
   "metadata": {},
   "outputs": [
    {
     "name": "stdout",
     "output_type": "stream",
     "text": [
      "(717, 100)\n",
      "(717,)\n"
     ]
    },
    {
     "data": {
      "text/plain": [
       "(None, None)"
      ]
     },
     "execution_count": 127,
     "metadata": {},
     "output_type": "execute_result"
    }
   ],
   "source": [
    "print(X_train.shape), print(y_train.shape)"
   ]
  },
  {
   "cell_type": "code",
   "execution_count": 128,
   "metadata": {},
   "outputs": [
    {
     "name": "stdout",
     "output_type": "stream",
     "text": [
      "(340, 100)\n",
      "(340,)\n"
     ]
    },
    {
     "data": {
      "text/plain": [
       "(None, None)"
      ]
     },
     "execution_count": 128,
     "metadata": {},
     "output_type": "execute_result"
    }
   ],
   "source": [
    "print(X_test.shape), print(y_test.shape)"
   ]
  },
  {
   "cell_type": "code",
   "execution_count": 129,
   "metadata": {},
   "outputs": [],
   "source": [
    "#Reshaping X_train and X_test\n",
    "X_train = X_train.reshape(X_train.shape[0], X_train.shape[1], 1)\n",
    "X_test = X_test.reshape(X_test.shape[0], X_test.shape[1], 1)"
   ]
  },
  {
   "cell_type": "code",
   "execution_count": 130,
   "metadata": {},
   "outputs": [],
   "source": [
    "#Importing libraries for the LSTM model\n",
    "from tensorflow.keras.models import Sequential\n",
    "from tensorflow.keras.layers import LSTM, Dense, Dropout"
   ]
  },
  {
   "cell_type": "code",
   "execution_count": 131,
   "metadata": {},
   "outputs": [],
   "source": [
    "#Creating LSTM Model\n",
    "model = Sequential()\n",
    "\n",
    "#Layer1\n",
    "model.add(LSTM(50, return_sequences = True, input_shape = (100,1)))\n",
    "\n",
    "#Layer2\n",
    "model.add(LSTM(50, return_sequences = True))\n",
    "\n",
    "#Layer3\n",
    "model.add(LSTM(50))\n",
    "\n",
    "#Output Layer\n",
    "model.add(Dense(1))\n",
    "model.compile(loss = 'mean_squared_error', optimizer = 'adam')"
   ]
  },
  {
   "cell_type": "code",
   "execution_count": 132,
   "metadata": {},
   "outputs": [
    {
     "name": "stdout",
     "output_type": "stream",
     "text": [
      "Model: \"sequential_1\"\n",
      "_________________________________________________________________\n",
      "Layer (type)                 Output Shape              Param #   \n",
      "=================================================================\n",
      "lstm_3 (LSTM)                (None, 100, 50)           10400     \n",
      "_________________________________________________________________\n",
      "lstm_4 (LSTM)                (None, 100, 50)           20200     \n",
      "_________________________________________________________________\n",
      "lstm_5 (LSTM)                (None, 50)                20200     \n",
      "_________________________________________________________________\n",
      "dense_1 (Dense)              (None, 1)                 51        \n",
      "=================================================================\n",
      "Total params: 50,851\n",
      "Trainable params: 50,851\n",
      "Non-trainable params: 0\n",
      "_________________________________________________________________\n"
     ]
    }
   ],
   "source": [
    "#Summarizing the model\n",
    "model.summary()"
   ]
  },
  {
   "cell_type": "code",
   "execution_count": 133,
   "metadata": {},
   "outputs": [
    {
     "name": "stdout",
     "output_type": "stream",
     "text": [
      "Epoch 1/100\n",
      "12/12 [==============================] - 13s 410ms/step - loss: 0.0902 - val_loss: 0.0223\n",
      "Epoch 2/100\n",
      "12/12 [==============================] - 3s 220ms/step - loss: 0.0074 - val_loss: 0.0455\n",
      "Epoch 3/100\n",
      "12/12 [==============================] - 3s 210ms/step - loss: 0.0194 - val_loss: 0.0304\n",
      "Epoch 4/100\n",
      "12/12 [==============================] - 3s 264ms/step - loss: 0.0125 - val_loss: 0.0231\n",
      "Epoch 5/100\n",
      "12/12 [==============================] - 3s 260ms/step - loss: 0.0067 - val_loss: 0.0244\n",
      "Epoch 6/100\n",
      "12/12 [==============================] - 3s 254ms/step - loss: 0.0086 - val_loss: 0.0218\n",
      "Epoch 7/100\n",
      "12/12 [==============================] - 3s 247ms/step - loss: 0.0083 - val_loss: 0.0181\n",
      "Epoch 8/100\n",
      "12/12 [==============================] - 3s 243ms/step - loss: 0.0069 - val_loss: 0.0157\n",
      "Epoch 9/100\n",
      "12/12 [==============================] - 3s 257ms/step - loss: 0.0060 - val_loss: 0.0141\n",
      "Epoch 10/100\n",
      "12/12 [==============================] - 3s 263ms/step - loss: 0.0056 - val_loss: 0.0130\n",
      "Epoch 11/100\n",
      "12/12 [==============================] - 3s 253ms/step - loss: 0.0054 - val_loss: 0.0122\n",
      "Epoch 12/100\n",
      "12/12 [==============================] - 3s 259ms/step - loss: 0.0055 - val_loss: 0.0114\n",
      "Epoch 13/100\n",
      "12/12 [==============================] - 3s 275ms/step - loss: 0.0055 - val_loss: 0.0107\n",
      "Epoch 14/100\n",
      "12/12 [==============================] - 3s 222ms/step - loss: 0.0052 - val_loss: 0.0100\n",
      "Epoch 15/100\n",
      "12/12 [==============================] - 3s 214ms/step - loss: 0.0047 - val_loss: 0.0096\n",
      "Epoch 16/100\n",
      "12/12 [==============================] - 3s 240ms/step - loss: 0.0040 - val_loss: 0.0093\n",
      "Epoch 17/100\n",
      "12/12 [==============================] - 3s 243ms/step - loss: 0.0035 - val_loss: 0.0091\n",
      "Epoch 18/100\n",
      "12/12 [==============================] - 3s 220ms/step - loss: 0.0032 - val_loss: 0.0090\n",
      "Epoch 19/100\n",
      "12/12 [==============================] - 3s 253ms/step - loss: 0.0030 - val_loss: 0.0089\n",
      "Epoch 20/100\n",
      "12/12 [==============================] - 3s 240ms/step - loss: 0.0029 - val_loss: 0.0088\n",
      "Epoch 21/100\n",
      "12/12 [==============================] - 3s 247ms/step - loss: 0.0030 - val_loss: 0.0087\n",
      "Epoch 22/100\n",
      "12/12 [==============================] - 3s 235ms/step - loss: 0.0030 - val_loss: 0.0085\n",
      "Epoch 23/100\n",
      "12/12 [==============================] - 3s 269ms/step - loss: 0.0031 - val_loss: 0.0083\n",
      "Epoch 24/100\n",
      "12/12 [==============================] - 3s 269ms/step - loss: 0.0031 - val_loss: 0.0081\n",
      "Epoch 25/100\n",
      "12/12 [==============================] - 3s 251ms/step - loss: 0.0031 - val_loss: 0.0080\n",
      "Epoch 26/100\n",
      "12/12 [==============================] - 3s 266ms/step - loss: 0.0031 - val_loss: 0.0078\n",
      "Epoch 27/100\n",
      "12/12 [==============================] - 4s 298ms/step - loss: 0.0030 - val_loss: 0.0077\n",
      "Epoch 28/100\n",
      "12/12 [==============================] - 3s 268ms/step - loss: 0.0029 - val_loss: 0.0075\n",
      "Epoch 29/100\n",
      "12/12 [==============================] - 3s 258ms/step - loss: 0.0028 - val_loss: 0.0074\n",
      "Epoch 30/100\n",
      "12/12 [==============================] - 3s 252ms/step - loss: 0.0028 - val_loss: 0.0072\n",
      "Epoch 31/100\n",
      "12/12 [==============================] - 3s 284ms/step - loss: 0.0027 - val_loss: 0.0071\n",
      "Epoch 32/100\n",
      "12/12 [==============================] - 3s 283ms/step - loss: 0.0026 - val_loss: 0.0069\n",
      "Epoch 33/100\n",
      "12/12 [==============================] - 3s 277ms/step - loss: 0.0026 - val_loss: 0.0068\n",
      "Epoch 34/100\n",
      "12/12 [==============================] - 3s 247ms/step - loss: 0.0025 - val_loss: 0.0066\n",
      "Epoch 35/100\n",
      "12/12 [==============================] - 3s 242ms/step - loss: 0.0025 - val_loss: 0.0065\n",
      "Epoch 36/100\n",
      "12/12 [==============================] - 3s 253ms/step - loss: 0.0024 - val_loss: 0.0063\n",
      "Epoch 37/100\n",
      "12/12 [==============================] - 3s 273ms/step - loss: 0.0023 - val_loss: 0.0062\n",
      "Epoch 38/100\n",
      "12/12 [==============================] - 3s 259ms/step - loss: 0.0022 - val_loss: 0.0061\n",
      "Epoch 39/100\n",
      "12/12 [==============================] - 3s 234ms/step - loss: 0.0021 - val_loss: 0.0069\n",
      "Epoch 40/100\n",
      "12/12 [==============================] - 3s 222ms/step - loss: 0.0020 - val_loss: 0.0072\n",
      "Epoch 41/100\n",
      "12/12 [==============================] - 3s 241ms/step - loss: 0.0023 - val_loss: 0.0064\n",
      "Epoch 42/100\n",
      "12/12 [==============================] - 3s 271ms/step - loss: 0.0025 - val_loss: 0.0062\n",
      "Epoch 43/100\n",
      "12/12 [==============================] - 3s 275ms/step - loss: 0.0027 - val_loss: 0.0061\n",
      "Epoch 44/100\n",
      "12/12 [==============================] - 3s 282ms/step - loss: 0.0026 - val_loss: 0.0059\n",
      "Epoch 45/100\n",
      "12/12 [==============================] - 3s 254ms/step - loss: 0.0024 - val_loss: 0.0057\n",
      "Epoch 46/100\n",
      "12/12 [==============================] - 3s 242ms/step - loss: 0.0022 - val_loss: 0.0056\n",
      "Epoch 47/100\n",
      "12/12 [==============================] - 3s 259ms/step - loss: 0.0019 - val_loss: 0.0056\n",
      "Epoch 48/100\n",
      "12/12 [==============================] - 3s 266ms/step - loss: 0.0016 - val_loss: 0.0055\n",
      "Epoch 49/100\n",
      "12/12 [==============================] - 3s 252ms/step - loss: 0.0015 - val_loss: 0.0055\n",
      "Epoch 50/100\n",
      "12/12 [==============================] - 3s 241ms/step - loss: 0.0014 - val_loss: 0.0055\n",
      "Epoch 51/100\n",
      "12/12 [==============================] - 3s 237ms/step - loss: 0.0014 - val_loss: 0.0055\n",
      "Epoch 52/100\n",
      "12/12 [==============================] - 3s 233ms/step - loss: 0.0013 - val_loss: 0.0054\n",
      "Epoch 53/100\n",
      "12/12 [==============================] - 3s 247ms/step - loss: 0.0013 - val_loss: 0.0054\n",
      "Epoch 54/100\n",
      "12/12 [==============================] - 3s 259ms/step - loss: 0.0014 - val_loss: 0.0053\n",
      "Epoch 55/100\n",
      "12/12 [==============================] - 3s 236ms/step - loss: 0.0014 - val_loss: 0.0053\n",
      "Epoch 56/100\n",
      "12/12 [==============================] - 3s 234ms/step - loss: 0.0014 - val_loss: 0.0053\n",
      "Epoch 57/100\n",
      "12/12 [==============================] - 3s 272ms/step - loss: 0.0014 - val_loss: 0.0052\n",
      "Epoch 58/100\n",
      "12/12 [==============================] - 3s 253ms/step - loss: 0.0015 - val_loss: 0.0052\n",
      "Epoch 59/100\n",
      "12/12 [==============================] - 3s 256ms/step - loss: 0.0015 - val_loss: 0.0052\n",
      "Epoch 60/100\n",
      "12/12 [==============================] - 3s 255ms/step - loss: 0.0015 - val_loss: 0.0052\n",
      "Epoch 61/100\n",
      "12/12 [==============================] - 3s 239ms/step - loss: 0.0015 - val_loss: 0.0052\n",
      "Epoch 62/100\n",
      "12/12 [==============================] - 3s 289ms/step - loss: 0.0015 - val_loss: 0.0051\n",
      "Epoch 63/100\n",
      "12/12 [==============================] - 3s 253ms/step - loss: 0.0015 - val_loss: 0.0051\n",
      "Epoch 64/100\n",
      "12/12 [==============================] - 3s 258ms/step - loss: 0.0015 - val_loss: 0.0051\n",
      "Epoch 65/100\n",
      "12/12 [==============================] - 3s 236ms/step - loss: 0.0015 - val_loss: 0.0051\n",
      "Epoch 66/100\n",
      "12/12 [==============================] - 3s 262ms/step - loss: 0.0015 - val_loss: 0.0050\n",
      "Epoch 67/100\n",
      "12/12 [==============================] - 3s 270ms/step - loss: 0.0015 - val_loss: 0.0050\n",
      "Epoch 68/100\n",
      "12/12 [==============================] - 3s 278ms/step - loss: 0.0014 - val_loss: 0.0050\n",
      "Epoch 69/100\n",
      "12/12 [==============================] - 3s 242ms/step - loss: 0.0014 - val_loss: 0.0049\n",
      "Epoch 70/100\n",
      "12/12 [==============================] - 3s 274ms/step - loss: 0.0014 - val_loss: 0.0049\n",
      "Epoch 71/100\n",
      "12/12 [==============================] - 3s 269ms/step - loss: 0.0014 - val_loss: 0.0048\n",
      "Epoch 72/100\n",
      "12/12 [==============================] - 3s 254ms/step - loss: 0.0013 - val_loss: 0.0048\n",
      "Epoch 73/100\n",
      "12/12 [==============================] - 3s 251ms/step - loss: 0.0013 - val_loss: 0.0049\n",
      "Epoch 74/100\n",
      "12/12 [==============================] - 3s 226ms/step - loss: 0.0010 - val_loss: 0.0049\n",
      "Epoch 75/100\n",
      "12/12 [==============================] - 3s 232ms/step - loss: 0.0012 - val_loss: 0.0047\n",
      "Epoch 76/100\n",
      "12/12 [==============================] - 3s 263ms/step - loss: 0.0014 - val_loss: 0.0047\n",
      "Epoch 77/100\n",
      "12/12 [==============================] - 3s 269ms/step - loss: 0.0015 - val_loss: 0.0048\n",
      "Epoch 78/100\n",
      "12/12 [==============================] - 3s 236ms/step - loss: 0.0015 - val_loss: 0.0048\n",
      "Epoch 79/100\n",
      "12/12 [==============================] - 3s 262ms/step - loss: 0.0015 - val_loss: 0.0048\n",
      "Epoch 80/100\n",
      "12/12 [==============================] - 3s 277ms/step - loss: 0.0016 - val_loss: 0.0047\n",
      "Epoch 81/100\n",
      "12/12 [==============================] - 3s 281ms/step - loss: 0.0014 - val_loss: 0.0048\n",
      "Epoch 82/100\n",
      "12/12 [==============================] - 3s 249ms/step - loss: 9.1905e-04 - val_loss: 0.0047\n",
      "Epoch 83/100\n",
      "12/12 [==============================] - 3s 231ms/step - loss: 0.0012 - val_loss: 0.0045\n",
      "Epoch 84/100\n",
      "12/12 [==============================] - 3s 256ms/step - loss: 0.0014 - val_loss: 0.0046\n",
      "Epoch 85/100\n",
      "12/12 [==============================] - 3s 260ms/step - loss: 0.0015 - val_loss: 0.0047\n",
      "Epoch 86/100\n",
      "12/12 [==============================] - 3s 258ms/step - loss: 0.0016 - val_loss: 0.0046\n",
      "Epoch 87/100\n",
      "12/12 [==============================] - 3s 246ms/step - loss: 0.0016 - val_loss: 0.0047\n",
      "Epoch 88/100\n",
      "12/12 [==============================] - 3s 272ms/step - loss: 0.0016 - val_loss: 0.0046\n",
      "Epoch 89/100\n",
      "12/12 [==============================] - 3s 242ms/step - loss: 0.0014 - val_loss: 0.0051\n",
      "Epoch 90/100\n",
      "12/12 [==============================] - 3s 254ms/step - loss: 9.8401e-04 - val_loss: 0.0045\n",
      "Epoch 91/100\n",
      "12/12 [==============================] - 3s 239ms/step - loss: 0.0013 - val_loss: 0.0045\n",
      "Epoch 92/100\n",
      "12/12 [==============================] - 3s 256ms/step - loss: 0.0015 - val_loss: 0.0046\n",
      "Epoch 93/100\n",
      "12/12 [==============================] - 3s 257ms/step - loss: 0.0017 - val_loss: 0.0046\n",
      "Epoch 94/100\n",
      "12/12 [==============================] - 3s 251ms/step - loss: 0.0018 - val_loss: 0.0045\n",
      "Epoch 95/100\n",
      "12/12 [==============================] - 3s 235ms/step - loss: 0.0018 - val_loss: 0.0045\n",
      "Epoch 96/100\n",
      "12/12 [==============================] - 3s 234ms/step - loss: 0.0018 - val_loss: 0.0044\n",
      "Epoch 97/100\n",
      "12/12 [==============================] - 3s 278ms/step - loss: 0.0017 - val_loss: 0.0044\n",
      "Epoch 98/100\n",
      "12/12 [==============================] - 3s 236ms/step - loss: 0.0015 - val_loss: 0.0045\n",
      "Epoch 99/100\n",
      "12/12 [==============================] - 3s 260ms/step - loss: 0.0013 - val_loss: 0.0045\n",
      "Epoch 100/100\n",
      "12/12 [==============================] - 3s 247ms/step - loss: 0.0016 - val_loss: 0.0042\n"
     ]
    },
    {
     "data": {
      "text/plain": [
       "<tensorflow.python.keras.callbacks.History at 0x7fd598f751f0>"
      ]
     },
     "execution_count": 133,
     "metadata": {},
     "output_type": "execute_result"
    }
   ],
   "source": [
    "# Training the model\n",
    "# Using at least 10 epochs\n",
    "model.fit(X_train, y_train, validation_data = (X_test, y_test), epochs=100, shuffle=False, batch_size=64, verbose=1)"
   ]
  },
  {
   "cell_type": "code",
   "execution_count": 134,
   "metadata": {},
   "outputs": [],
   "source": [
    "#Making some predictions\n",
    "train_predict = model.predict(X_train)\n",
    "test_predict = model.predict(X_test)\n",
    "\n",
    "#getting the values of prediction\n",
    "train_predict = scalar.inverse_transform(train_predict)\n",
    "test_predict = scalar.inverse_transform(test_predict)"
   ]
  },
  {
   "cell_type": "code",
   "execution_count": 135,
   "metadata": {},
   "outputs": [
    {
     "data": {
      "text/plain": [
       "49.62503601946489"
      ]
     },
     "execution_count": 135,
     "metadata": {},
     "output_type": "execute_result"
    }
   ],
   "source": [
    "#Importing libraries for evaluating the model\n",
    "import math\n",
    "from sklearn.metrics import mean_squared_error\n",
    "math.sqrt(mean_squared_error(y_train, train_predict))"
   ]
  },
  {
   "cell_type": "code",
   "execution_count": 136,
   "metadata": {},
   "outputs": [
    {
     "data": {
      "text/plain": [
       "49.62503601946489"
      ]
     },
     "execution_count": 136,
     "metadata": {},
     "output_type": "execute_result"
    }
   ],
   "source": [
    "math.sqrt(mean_squared_error(y_train,train_predict))"
   ]
  },
  {
   "cell_type": "code",
   "execution_count": 137,
   "metadata": {},
   "outputs": [
    {
     "data": {
      "image/png": "[encoded data removed]",
      "text/plain": [
       "<Figure size 432x288 with 1 Axes>"
      ]
     },
     "metadata": {
      "needs_background": "light"
     },
     "output_type": "display_data"
    }
   ],
   "source": [
    "#Plotting and the actual values data as a line chart\n",
    "look_back = 100\n",
    "trainPredictPlot = numpy.empty_like(df1)\n",
    "trainPredictPlot[:,:] = np.nan\n",
    "trainPredictPlot[look_back:len(train_predict)+look_back, :] = train_predict \n",
    "testPredictPlot = numpy.empty_like(df1)\n",
    "testPredictPlot[:,:] = np.nan\n",
    "testPredictPlot[len(train_predict)+(look_back*2)+1:len(df1)-1, :] = test_predict \n",
    "#plots\n",
    "plt.plot(scalar.inverse_transform(df1))\n",
    "plt.plot(trainPredictPlot)\n",
    "plt.plot(testPredictPlot)\n",
    "plt.show()"
   ]
  },
  {
   "cell_type": "code",
   "execution_count": 138,
   "metadata": {},
   "outputs": [
    {
     "data": {
      "text/plain": [
       "441"
      ]
     },
     "execution_count": 138,
     "metadata": {},
     "output_type": "execute_result"
    }
   ],
   "source": [
    "len(test_data)"
   ]
  },
  {
   "cell_type": "code",
   "execution_count": 139,
   "metadata": {},
   "outputs": [
    {
     "data": {
      "text/plain": [
       "(1, 100)"
      ]
     },
     "execution_count": 139,
     "metadata": {},
     "output_type": "execute_result"
    }
   ],
   "source": [
    "x_input = test_data[341:].reshape(1,-1)\n",
    "x_input.shape"
   ]
  },
  {
   "cell_type": "code",
   "execution_count": 140,
   "metadata": {},
   "outputs": [],
   "source": [
    "temp_input=list(x_input)\n",
    "temp_input=temp_input[0].tolist()"
   ]
  },
  {
   "cell_type": "code",
   "execution_count": 141,
   "metadata": {},
   "outputs": [
    {
     "name": "stdout",
     "output_type": "stream",
     "text": [
      "[0.47651455]\n",
      "101\n",
      "1 day input [0.26199682 0.27177621 0.27359563 0.28610416 0.3036161  0.28587673\n",
      " 0.28655902 0.28451217 0.30998408 0.3256766  0.34978394 0.33591085\n",
      " 0.31043894 0.24175574 0.25085285 0.23584262 0.22333409 0.24084603\n",
      " 0.27632477 0.25972254 0.25904025 0.2708665  0.28564931 0.291335\n",
      " 0.26995679 0.29474642 0.30680009 0.30975665 0.30589038 0.28610416\n",
      " 0.28587673 0.27632477 0.27928133 0.27996361 0.29088015 0.27996361\n",
      " 0.33045258 0.33682056 0.28974301 0.26199682 0.23788947 0.26313395\n",
      " 0.26040482 0.25085285 0.26631794 0.25562884 0.29088015 0.27814419\n",
      " 0.39981806 0.40595861 0.36001819 0.34546282 0.3927678  0.42779168\n",
      " 0.41869456 0.42574483 0.42574483 0.40800546 0.44575847 0.50193314\n",
      " 0.50261542 0.49738458 0.47896293 0.47236752 0.49761201 0.54036843\n",
      " 0.52695019 0.52672277 0.52808733 0.5212645  0.53286332 0.51284967\n",
      " 0.48896975 0.51535138 0.49783944 0.49852172 0.48874232 0.47646122\n",
      " 0.44916989 0.4787355  0.46713668 0.47668865 0.47395952 0.48601319\n",
      " 0.47805322 0.4443939  0.46304298 0.48191949 0.47850807 0.47373209\n",
      " 0.45985899 0.48010007 0.48351149 0.50670912 0.47282238 0.4803275\n",
      " 0.51012054 0.4885149  0.47327723 0.47651455]\n",
      "1 day output [[0.4736808]]\n",
      "2 day input [0.27177621 0.27359563 0.28610416 0.3036161  0.28587673 0.28655902\n",
      " 0.28451217 0.30998408 0.3256766  0.34978394 0.33591085 0.31043894\n",
      " 0.24175574 0.25085285 0.23584262 0.22333409 0.24084603 0.27632477\n",
      " 0.25972254 0.25904025 0.2708665  0.28564931 0.291335   0.26995679\n",
      " 0.29474642 0.30680009 0.30975665 0.30589038 0.28610416 0.28587673\n",
      " 0.27632477 0.27928133 0.27996361 0.29088015 0.27996361 0.33045258\n",
      " 0.33682056 0.28974301 0.26199682 0.23788947 0.26313395 0.26040482\n",
      " 0.25085285 0.26631794 0.25562884 0.29088015 0.27814419 0.39981806\n",
      " 0.40595861 0.36001819 0.34546282 0.3927678  0.42779168 0.41869456\n",
      " 0.42574483 0.42574483 0.40800546 0.44575847 0.50193314 0.50261542\n",
      " 0.49738458 0.47896293 0.47236752 0.49761201 0.54036843 0.52695019\n",
      " 0.52672277 0.52808733 0.5212645  0.53286332 0.51284967 0.48896975\n",
      " 0.51535138 0.49783944 0.49852172 0.48874232 0.47646122 0.44916989\n",
      " 0.4787355  0.46713668 0.47668865 0.47395952 0.48601319 0.47805322\n",
      " 0.4443939  0.46304298 0.48191949 0.47850807 0.47373209 0.45985899\n",
      " 0.48010007 0.48351149 0.50670912 0.47282238 0.4803275  0.51012054\n",
      " 0.4885149  0.47327723 0.47651455 0.47368079]\n",
      "2 day output [[0.46956018]]\n",
      "3 day input [0.27359563 0.28610416 0.3036161  0.28587673 0.28655902 0.28451217\n",
      " 0.30998408 0.3256766  0.34978394 0.33591085 0.31043894 0.24175574\n",
      " 0.25085285 0.23584262 0.22333409 0.24084603 0.27632477 0.25972254\n",
      " 0.25904025 0.2708665  0.28564931 0.291335   0.26995679 0.29474642\n",
      " 0.30680009 0.30975665 0.30589038 0.28610416 0.28587673 0.27632477\n",
      " 0.27928133 0.27996361 0.29088015 0.27996361 0.33045258 0.33682056\n",
      " 0.28974301 0.26199682 0.23788947 0.26313395 0.26040482 0.25085285\n",
      " 0.26631794 0.25562884 0.29088015 0.27814419 0.39981806 0.40595861\n",
      " 0.36001819 0.34546282 0.3927678  0.42779168 0.41869456 0.42574483\n",
      " 0.42574483 0.40800546 0.44575847 0.50193314 0.50261542 0.49738458\n",
      " 0.47896293 0.47236752 0.49761201 0.54036843 0.52695019 0.52672277\n",
      " 0.52808733 0.5212645  0.53286332 0.51284967 0.48896975 0.51535138\n",
      " 0.49783944 0.49852172 0.48874232 0.47646122 0.44916989 0.4787355\n",
      " 0.46713668 0.47668865 0.47395952 0.48601319 0.47805322 0.4443939\n",
      " 0.46304298 0.48191949 0.47850807 0.47373209 0.45985899 0.48010007\n",
      " 0.48351149 0.50670912 0.47282238 0.4803275  0.51012054 0.4885149\n",
      " 0.47327723 0.47651455 0.47368079 0.46956018]\n",
      "3 day output [[0.46496496]]\n",
      "4 day input [0.28610416 0.3036161  0.28587673 0.28655902 0.28451217 0.30998408\n",
      " 0.3256766  0.34978394 0.33591085 0.31043894 0.24175574 0.25085285\n",
      " 0.23584262 0.22333409 0.24084603 0.27632477 0.25972254 0.25904025\n",
      " 0.2708665  0.28564931 0.291335   0.26995679 0.29474642 0.30680009\n",
      " 0.30975665 0.30589038 0.28610416 0.28587673 0.27632477 0.27928133\n",
      " 0.27996361 0.29088015 0.27996361 0.33045258 0.33682056 0.28974301\n",
      " 0.26199682 0.23788947 0.26313395 0.26040482 0.25085285 0.26631794\n",
      " 0.25562884 0.29088015 0.27814419 0.39981806 0.40595861 0.36001819\n",
      " 0.34546282 0.3927678  0.42779168 0.41869456 0.42574483 0.42574483\n",
      " 0.40800546 0.44575847 0.50193314 0.50261542 0.49738458 0.47896293\n",
      " 0.47236752 0.49761201 0.54036843 0.52695019 0.52672277 0.52808733\n",
      " 0.5212645  0.53286332 0.51284967 0.48896975 0.51535138 0.49783944\n",
      " 0.49852172 0.48874232 0.47646122 0.44916989 0.4787355  0.46713668\n",
      " 0.47668865 0.47395952 0.48601319 0.47805322 0.4443939  0.46304298\n",
      " 0.48191949 0.47850807 0.47373209 0.45985899 0.48010007 0.48351149\n",
      " 0.50670912 0.47282238 0.4803275  0.51012054 0.4885149  0.47327723\n",
      " 0.47651455 0.47368079 0.46956018 0.46496496]\n",
      "4 day output [[0.46037176]]\n",
      "5 day input [0.3036161  0.28587673 0.28655902 0.28451217 0.30998408 0.3256766\n",
      " 0.34978394 0.33591085 0.31043894 0.24175574 0.25085285 0.23584262\n",
      " 0.22333409 0.24084603 0.27632477 0.25972254 0.25904025 0.2708665\n",
      " 0.28564931 0.291335   0.26995679 0.29474642 0.30680009 0.30975665\n",
      " 0.30589038 0.28610416 0.28587673 0.27632477 0.27928133 0.27996361\n",
      " 0.29088015 0.27996361 0.33045258 0.33682056 0.28974301 0.26199682\n",
      " 0.23788947 0.26313395 0.26040482 0.25085285 0.26631794 0.25562884\n",
      " 0.29088015 0.27814419 0.39981806 0.40595861 0.36001819 0.34546282\n",
      " 0.3927678  0.42779168 0.41869456 0.42574483 0.42574483 0.40800546\n",
      " 0.44575847 0.50193314 0.50261542 0.49738458 0.47896293 0.47236752\n",
      " 0.49761201 0.54036843 0.52695019 0.52672277 0.52808733 0.5212645\n",
      " 0.53286332 0.51284967 0.48896975 0.51535138 0.49783944 0.49852172\n",
      " 0.48874232 0.47646122 0.44916989 0.4787355  0.46713668 0.47668865\n",
      " 0.47395952 0.48601319 0.47805322 0.4443939  0.46304298 0.48191949\n",
      " 0.47850807 0.47373209 0.45985899 0.48010007 0.48351149 0.50670912\n",
      " 0.47282238 0.4803275  0.51012054 0.4885149  0.47327723 0.47651455\n",
      " 0.47368079 0.46956018 0.46496496 0.46037176]\n",
      "5 day output [[0.455999]]\n",
      "6 day input [0.28587673 0.28655902 0.28451217 0.30998408 0.3256766  0.34978394\n",
      " 0.33591085 0.31043894 0.24175574 0.25085285 0.23584262 0.22333409\n",
      " 0.24084603 0.27632477 0.25972254 0.25904025 0.2708665  0.28564931\n",
      " 0.291335   0.26995679 0.29474642 0.30680009 0.30975665 0.30589038\n",
      " 0.28610416 0.28587673 0.27632477 0.27928133 0.27996361 0.29088015\n",
      " 0.27996361 0.33045258 0.33682056 0.28974301 0.26199682 0.23788947\n",
      " 0.26313395 0.26040482 0.25085285 0.26631794 0.25562884 0.29088015\n",
      " 0.27814419 0.39981806 0.40595861 0.36001819 0.34546282 0.3927678\n",
      " 0.42779168 0.41869456 0.42574483 0.42574483 0.40800546 0.44575847\n",
      " 0.50193314 0.50261542 0.49738458 0.47896293 0.47236752 0.49761201\n",
      " 0.54036843 0.52695019 0.52672277 0.52808733 0.5212645  0.53286332\n",
      " 0.51284967 0.48896975 0.51535138 0.49783944 0.49852172 0.48874232\n",
      " 0.47646122 0.44916989 0.4787355  0.46713668 0.47668865 0.47395952\n",
      " 0.48601319 0.47805322 0.4443939  0.46304298 0.48191949 0.47850807\n",
      " 0.47373209 0.45985899 0.48010007 0.48351149 0.50670912 0.47282238\n",
      " 0.4803275  0.51012054 0.4885149  0.47327723 0.47651455 0.47368079\n",
      " 0.46956018 0.46496496 0.46037176 0.45599899]\n",
      "6 day output [[0.45190832]]\n",
      "7 day input [0.28655902 0.28451217 0.30998408 0.3256766  0.34978394 0.33591085\n",
      " 0.31043894 0.24175574 0.25085285 0.23584262 0.22333409 0.24084603\n",
      " 0.27632477 0.25972254 0.25904025 0.2708665  0.28564931 0.291335\n",
      " 0.26995679 0.29474642 0.30680009 0.30975665 0.30589038 0.28610416\n",
      " 0.28587673 0.27632477 0.27928133 0.27996361 0.29088015 0.27996361\n",
      " 0.33045258 0.33682056 0.28974301 0.26199682 0.23788947 0.26313395\n",
      " 0.26040482 0.25085285 0.26631794 0.25562884 0.29088015 0.27814419\n",
      " 0.39981806 0.40595861 0.36001819 0.34546282 0.3927678  0.42779168\n",
      " 0.41869456 0.42574483 0.42574483 0.40800546 0.44575847 0.50193314\n",
      " 0.50261542 0.49738458 0.47896293 0.47236752 0.49761201 0.54036843\n",
      " 0.52695019 0.52672277 0.52808733 0.5212645  0.53286332 0.51284967\n",
      " 0.48896975 0.51535138 0.49783944 0.49852172 0.48874232 0.47646122\n",
      " 0.44916989 0.4787355  0.46713668 0.47668865 0.47395952 0.48601319\n",
      " 0.47805322 0.4443939  0.46304298 0.48191949 0.47850807 0.47373209\n",
      " 0.45985899 0.48010007 0.48351149 0.50670912 0.47282238 0.4803275\n",
      " 0.51012054 0.4885149  0.47327723 0.47651455 0.47368079 0.46956018\n",
      " 0.46496496 0.46037176 0.45599899 0.45190832]\n",
      "7 day output [[0.44808424]]\n",
      "8 day input [0.28451217 0.30998408 0.3256766  0.34978394 0.33591085 0.31043894\n",
      " 0.24175574 0.25085285 0.23584262 0.22333409 0.24084603 0.27632477\n",
      " 0.25972254 0.25904025 0.2708665  0.28564931 0.291335   0.26995679\n",
      " 0.29474642 0.30680009 0.30975665 0.30589038 0.28610416 0.28587673\n",
      " 0.27632477 0.27928133 0.27996361 0.29088015 0.27996361 0.33045258\n",
      " 0.33682056 0.28974301 0.26199682 0.23788947 0.26313395 0.26040482\n",
      " 0.25085285 0.26631794 0.25562884 0.29088015 0.27814419 0.39981806\n",
      " 0.40595861 0.36001819 0.34546282 0.3927678  0.42779168 0.41869456\n",
      " 0.42574483 0.42574483 0.40800546 0.44575847 0.50193314 0.50261542\n",
      " 0.49738458 0.47896293 0.47236752 0.49761201 0.54036843 0.52695019\n",
      " 0.52672277 0.52808733 0.5212645  0.53286332 0.51284967 0.48896975\n",
      " 0.51535138 0.49783944 0.49852172 0.48874232 0.47646122 0.44916989\n",
      " 0.4787355  0.46713668 0.47668865 0.47395952 0.48601319 0.47805322\n",
      " 0.4443939  0.46304298 0.48191949 0.47850807 0.47373209 0.45985899\n",
      " 0.48010007 0.48351149 0.50670912 0.47282238 0.4803275  0.51012054\n",
      " 0.4885149  0.47327723 0.47651455 0.47368079 0.46956018 0.46496496\n",
      " 0.46037176 0.45599899 0.45190832 0.44808424]\n",
      "8 day output [[0.44448102]]\n",
      "9 day input [0.30998408 0.3256766  0.34978394 0.33591085 0.31043894 0.24175574\n",
      " 0.25085285 0.23584262 0.22333409 0.24084603 0.27632477 0.25972254\n",
      " 0.25904025 0.2708665  0.28564931 0.291335   0.26995679 0.29474642\n",
      " 0.30680009 0.30975665 0.30589038 0.28610416 0.28587673 0.27632477\n",
      " 0.27928133 0.27996361 0.29088015 0.27996361 0.33045258 0.33682056\n",
      " 0.28974301 0.26199682 0.23788947 0.26313395 0.26040482 0.25085285\n",
      " 0.26631794 0.25562884 0.29088015 0.27814419 0.39981806 0.40595861\n",
      " 0.36001819 0.34546282 0.3927678  0.42779168 0.41869456 0.42574483\n",
      " 0.42574483 0.40800546 0.44575847 0.50193314 0.50261542 0.49738458\n",
      " 0.47896293 0.47236752 0.49761201 0.54036843 0.52695019 0.52672277\n",
      " 0.52808733 0.5212645  0.53286332 0.51284967 0.48896975 0.51535138\n",
      " 0.49783944 0.49852172 0.48874232 0.47646122 0.44916989 0.4787355\n",
      " 0.46713668 0.47668865 0.47395952 0.48601319 0.47805322 0.4443939\n",
      " 0.46304298 0.48191949 0.47850807 0.47373209 0.45985899 0.48010007\n",
      " 0.48351149 0.50670912 0.47282238 0.4803275  0.51012054 0.4885149\n",
      " 0.47327723 0.47651455 0.47368079 0.46956018 0.46496496 0.46037176\n",
      " 0.45599899 0.45190832 0.44808424 0.44448102]\n",
      "9 day output [[0.4410482]]\n",
      "10 day input [0.3256766  0.34978394 0.33591085 0.31043894 0.24175574 0.25085285\n",
      " 0.23584262 0.22333409 0.24084603 0.27632477 0.25972254 0.25904025\n",
      " 0.2708665  0.28564931 0.291335   0.26995679 0.29474642 0.30680009\n",
      " 0.30975665 0.30589038 0.28610416 0.28587673 0.27632477 0.27928133\n",
      " 0.27996361 0.29088015 0.27996361 0.33045258 0.33682056 0.28974301\n",
      " 0.26199682 0.23788947 0.26313395 0.26040482 0.25085285 0.26631794\n",
      " 0.25562884 0.29088015 0.27814419 0.39981806 0.40595861 0.36001819\n",
      " 0.34546282 0.3927678  0.42779168 0.41869456 0.42574483 0.42574483\n",
      " 0.40800546 0.44575847 0.50193314 0.50261542 0.49738458 0.47896293\n",
      " 0.47236752 0.49761201 0.54036843 0.52695019 0.52672277 0.52808733\n",
      " 0.5212645  0.53286332 0.51284967 0.48896975 0.51535138 0.49783944\n",
      " 0.49852172 0.48874232 0.47646122 0.44916989 0.4787355  0.46713668\n",
      " 0.47668865 0.47395952 0.48601319 0.47805322 0.4443939  0.46304298\n",
      " 0.48191949 0.47850807 0.47373209 0.45985899 0.48010007 0.48351149\n",
      " 0.50670912 0.47282238 0.4803275  0.51012054 0.4885149  0.47327723\n",
      " 0.47651455 0.47368079 0.46956018 0.46496496 0.46037176 0.45599899\n",
      " 0.45190832 0.44808424 0.44448102 0.4410482 ]\n",
      "10 day output [[0.4377409]]\n",
      "11 day input [0.34978394 0.33591085 0.31043894 0.24175574 0.25085285 0.23584262\n",
      " 0.22333409 0.24084603 0.27632477 0.25972254 0.25904025 0.2708665\n",
      " 0.28564931 0.291335   0.26995679 0.29474642 0.30680009 0.30975665\n",
      " 0.30589038 0.28610416 0.28587673 0.27632477 0.27928133 0.27996361\n",
      " 0.29088015 0.27996361 0.33045258 0.33682056 0.28974301 0.26199682\n",
      " 0.23788947 0.26313395 0.26040482 0.25085285 0.26631794 0.25562884\n",
      " 0.29088015 0.27814419 0.39981806 0.40595861 0.36001819 0.34546282\n",
      " 0.3927678  0.42779168 0.41869456 0.42574483 0.42574483 0.40800546\n",
      " 0.44575847 0.50193314 0.50261542 0.49738458 0.47896293 0.47236752\n",
      " 0.49761201 0.54036843 0.52695019 0.52672277 0.52808733 0.5212645\n",
      " 0.53286332 0.51284967 0.48896975 0.51535138 0.49783944 0.49852172\n",
      " 0.48874232 0.47646122 0.44916989 0.4787355  0.46713668 0.47668865\n",
      " 0.47395952 0.48601319 0.47805322 0.4443939  0.46304298 0.48191949\n",
      " 0.47850807 0.47373209 0.45985899 0.48010007 0.48351149 0.50670912\n",
      " 0.47282238 0.4803275  0.51012054 0.4885149  0.47327723 0.47651455\n",
      " 0.47368079 0.46956018 0.46496496 0.46037176 0.45599899 0.45190832\n",
      " 0.44808424 0.44448102 0.4410482  0.43774089]\n",
      "11 day output [[0.4345241]]\n",
      "12 day input [0.33591085 0.31043894 0.24175574 0.25085285 0.23584262 0.22333409\n",
      " 0.24084603 0.27632477 0.25972254 0.25904025 0.2708665  0.28564931\n",
      " 0.291335   0.26995679 0.29474642 0.30680009 0.30975665 0.30589038\n",
      " 0.28610416 0.28587673 0.27632477 0.27928133 0.27996361 0.29088015\n",
      " 0.27996361 0.33045258 0.33682056 0.28974301 0.26199682 0.23788947\n",
      " 0.26313395 0.26040482 0.25085285 0.26631794 0.25562884 0.29088015\n",
      " 0.27814419 0.39981806 0.40595861 0.36001819 0.34546282 0.3927678\n",
      " 0.42779168 0.41869456 0.42574483 0.42574483 0.40800546 0.44575847\n",
      " 0.50193314 0.50261542 0.49738458 0.47896293 0.47236752 0.49761201\n",
      " 0.54036843 0.52695019 0.52672277 0.52808733 0.5212645  0.53286332\n",
      " 0.51284967 0.48896975 0.51535138 0.49783944 0.49852172 0.48874232\n",
      " 0.47646122 0.44916989 0.4787355  0.46713668 0.47668865 0.47395952\n",
      " 0.48601319 0.47805322 0.4443939  0.46304298 0.48191949 0.47850807\n",
      " 0.47373209 0.45985899 0.48010007 0.48351149 0.50670912 0.47282238\n",
      " 0.4803275  0.51012054 0.4885149  0.47327723 0.47651455 0.47368079\n",
      " 0.46956018 0.46496496 0.46037176 0.45599899 0.45190832 0.44808424\n",
      " 0.44448102 0.4410482  0.43774089 0.43452409]\n",
      "12 day output [[0.43137303]]\n",
      "13 day input [0.31043894 0.24175574 0.25085285 0.23584262 0.22333409 0.24084603\n",
      " 0.27632477 0.25972254 0.25904025 0.2708665  0.28564931 0.291335\n",
      " 0.26995679 0.29474642 0.30680009 0.30975665 0.30589038 0.28610416\n",
      " 0.28587673 0.27632477 0.27928133 0.27996361 0.29088015 0.27996361\n",
      " 0.33045258 0.33682056 0.28974301 0.26199682 0.23788947 0.26313395\n",
      " 0.26040482 0.25085285 0.26631794 0.25562884 0.29088015 0.27814419\n",
      " 0.39981806 0.40595861 0.36001819 0.34546282 0.3927678  0.42779168\n",
      " 0.41869456 0.42574483 0.42574483 0.40800546 0.44575847 0.50193314\n",
      " 0.50261542 0.49738458 0.47896293 0.47236752 0.49761201 0.54036843\n",
      " 0.52695019 0.52672277 0.52808733 0.5212645  0.53286332 0.51284967\n",
      " 0.48896975 0.51535138 0.49783944 0.49852172 0.48874232 0.47646122\n",
      " 0.44916989 0.4787355  0.46713668 0.47668865 0.47395952 0.48601319\n",
      " 0.47805322 0.4443939  0.46304298 0.48191949 0.47850807 0.47373209\n",
      " 0.45985899 0.48010007 0.48351149 0.50670912 0.47282238 0.4803275\n",
      " 0.51012054 0.4885149  0.47327723 0.47651455 0.47368079 0.46956018\n",
      " 0.46496496 0.46037176 0.45599899 0.45190832 0.44808424 0.44448102\n",
      " 0.4410482  0.43774089 0.43452409 0.43137303]\n",
      "13 day output [[0.4282718]]\n",
      "14 day input [0.24175574 0.25085285 0.23584262 0.22333409 0.24084603 0.27632477\n",
      " 0.25972254 0.25904025 0.2708665  0.28564931 0.291335   0.26995679\n",
      " 0.29474642 0.30680009 0.30975665 0.30589038 0.28610416 0.28587673\n",
      " 0.27632477 0.27928133 0.27996361 0.29088015 0.27996361 0.33045258\n",
      " 0.33682056 0.28974301 0.26199682 0.23788947 0.26313395 0.26040482\n",
      " 0.25085285 0.26631794 0.25562884 0.29088015 0.27814419 0.39981806\n",
      " 0.40595861 0.36001819 0.34546282 0.3927678  0.42779168 0.41869456\n",
      " 0.42574483 0.42574483 0.40800546 0.44575847 0.50193314 0.50261542\n",
      " 0.49738458 0.47896293 0.47236752 0.49761201 0.54036843 0.52695019\n",
      " 0.52672277 0.52808733 0.5212645  0.53286332 0.51284967 0.48896975\n",
      " 0.51535138 0.49783944 0.49852172 0.48874232 0.47646122 0.44916989\n",
      " 0.4787355  0.46713668 0.47668865 0.47395952 0.48601319 0.47805322\n",
      " 0.4443939  0.46304298 0.48191949 0.47850807 0.47373209 0.45985899\n",
      " 0.48010007 0.48351149 0.50670912 0.47282238 0.4803275  0.51012054\n",
      " 0.4885149  0.47327723 0.47651455 0.47368079 0.46956018 0.46496496\n",
      " 0.46037176 0.45599899 0.45190832 0.44808424 0.44448102 0.4410482\n",
      " 0.43774089 0.43452409 0.43137303 0.4282718 ]\n",
      "14 day output [[0.42521182]]\n",
      "15 day input [0.25085285 0.23584262 0.22333409 0.24084603 0.27632477 0.25972254\n",
      " 0.25904025 0.2708665  0.28564931 0.291335   0.26995679 0.29474642\n",
      " 0.30680009 0.30975665 0.30589038 0.28610416 0.28587673 0.27632477\n",
      " 0.27928133 0.27996361 0.29088015 0.27996361 0.33045258 0.33682056\n",
      " 0.28974301 0.26199682 0.23788947 0.26313395 0.26040482 0.25085285\n",
      " 0.26631794 0.25562884 0.29088015 0.27814419 0.39981806 0.40595861\n",
      " 0.36001819 0.34546282 0.3927678  0.42779168 0.41869456 0.42574483\n",
      " 0.42574483 0.40800546 0.44575847 0.50193314 0.50261542 0.49738458\n",
      " 0.47896293 0.47236752 0.49761201 0.54036843 0.52695019 0.52672277\n",
      " 0.52808733 0.5212645  0.53286332 0.51284967 0.48896975 0.51535138\n",
      " 0.49783944 0.49852172 0.48874232 0.47646122 0.44916989 0.4787355\n",
      " 0.46713668 0.47668865 0.47395952 0.48601319 0.47805322 0.4443939\n",
      " 0.46304298 0.48191949 0.47850807 0.47373209 0.45985899 0.48010007\n",
      " 0.48351149 0.50670912 0.47282238 0.4803275  0.51012054 0.4885149\n",
      " 0.47327723 0.47651455 0.47368079 0.46956018 0.46496496 0.46037176\n",
      " 0.45599899 0.45190832 0.44808424 0.44448102 0.4410482  0.43774089\n",
      " 0.43452409 0.43137303 0.4282718  0.42521182]\n",
      "15 day output [[0.42219025]]\n",
      "16 day input [0.23584262 0.22333409 0.24084603 0.27632477 0.25972254 0.25904025\n",
      " 0.2708665  0.28564931 0.291335   0.26995679 0.29474642 0.30680009\n",
      " 0.30975665 0.30589038 0.28610416 0.28587673 0.27632477 0.27928133\n",
      " 0.27996361 0.29088015 0.27996361 0.33045258 0.33682056 0.28974301\n",
      " 0.26199682 0.23788947 0.26313395 0.26040482 0.25085285 0.26631794\n",
      " 0.25562884 0.29088015 0.27814419 0.39981806 0.40595861 0.36001819\n",
      " 0.34546282 0.3927678  0.42779168 0.41869456 0.42574483 0.42574483\n",
      " 0.40800546 0.44575847 0.50193314 0.50261542 0.49738458 0.47896293\n",
      " 0.47236752 0.49761201 0.54036843 0.52695019 0.52672277 0.52808733\n",
      " 0.5212645  0.53286332 0.51284967 0.48896975 0.51535138 0.49783944\n",
      " 0.49852172 0.48874232 0.47646122 0.44916989 0.4787355  0.46713668\n",
      " 0.47668865 0.47395952 0.48601319 0.47805322 0.4443939  0.46304298\n",
      " 0.48191949 0.47850807 0.47373209 0.45985899 0.48010007 0.48351149\n",
      " 0.50670912 0.47282238 0.4803275  0.51012054 0.4885149  0.47327723\n",
      " 0.47651455 0.47368079 0.46956018 0.46496496 0.46037176 0.45599899\n",
      " 0.45190832 0.44808424 0.44448102 0.4410482  0.43774089 0.43452409\n",
      " 0.43137303 0.4282718  0.42521182 0.42219025]\n",
      "16 day output [[0.41920793]]\n",
      "17 day input [0.22333409 0.24084603 0.27632477 0.25972254 0.25904025 0.2708665\n",
      " 0.28564931 0.291335   0.26995679 0.29474642 0.30680009 0.30975665\n",
      " 0.30589038 0.28610416 0.28587673 0.27632477 0.27928133 0.27996361\n",
      " 0.29088015 0.27996361 0.33045258 0.33682056 0.28974301 0.26199682\n",
      " 0.23788947 0.26313395 0.26040482 0.25085285 0.26631794 0.25562884\n",
      " 0.29088015 0.27814419 0.39981806 0.40595861 0.36001819 0.34546282\n",
      " 0.3927678  0.42779168 0.41869456 0.42574483 0.42574483 0.40800546\n",
      " 0.44575847 0.50193314 0.50261542 0.49738458 0.47896293 0.47236752\n",
      " 0.49761201 0.54036843 0.52695019 0.52672277 0.52808733 0.5212645\n",
      " 0.53286332 0.51284967 0.48896975 0.51535138 0.49783944 0.49852172\n",
      " 0.48874232 0.47646122 0.44916989 0.4787355  0.46713668 0.47668865\n",
      " 0.47395952 0.48601319 0.47805322 0.4443939  0.46304298 0.48191949\n",
      " 0.47850807 0.47373209 0.45985899 0.48010007 0.48351149 0.50670912\n",
      " 0.47282238 0.4803275  0.51012054 0.4885149  0.47327723 0.47651455\n",
      " 0.47368079 0.46956018 0.46496496 0.46037176 0.45599899 0.45190832\n",
      " 0.44808424 0.44448102 0.4410482  0.43774089 0.43452409 0.43137303\n",
      " 0.4282718  0.42521182 0.42219025 0.41920793]\n",
      "17 day output [[0.4162675]]\n",
      "18 day input [0.24084603 0.27632477 0.25972254 0.25904025 0.2708665  0.28564931\n",
      " 0.291335   0.26995679 0.29474642 0.30680009 0.30975665 0.30589038\n",
      " 0.28610416 0.28587673 0.27632477 0.27928133 0.27996361 0.29088015\n",
      " 0.27996361 0.33045258 0.33682056 0.28974301 0.26199682 0.23788947\n",
      " 0.26313395 0.26040482 0.25085285 0.26631794 0.25562884 0.29088015\n",
      " 0.27814419 0.39981806 0.40595861 0.36001819 0.34546282 0.3927678\n",
      " 0.42779168 0.41869456 0.42574483 0.42574483 0.40800546 0.44575847\n",
      " 0.50193314 0.50261542 0.49738458 0.47896293 0.47236752 0.49761201\n",
      " 0.54036843 0.52695019 0.52672277 0.52808733 0.5212645  0.53286332\n",
      " 0.51284967 0.48896975 0.51535138 0.49783944 0.49852172 0.48874232\n",
      " 0.47646122 0.44916989 0.4787355  0.46713668 0.47668865 0.47395952\n",
      " 0.48601319 0.47805322 0.4443939  0.46304298 0.48191949 0.47850807\n",
      " 0.47373209 0.45985899 0.48010007 0.48351149 0.50670912 0.47282238\n",
      " 0.4803275  0.51012054 0.4885149  0.47327723 0.47651455 0.47368079\n",
      " 0.46956018 0.46496496 0.46037176 0.45599899 0.45190832 0.44808424\n",
      " 0.44448102 0.4410482  0.43774089 0.43452409 0.43137303 0.4282718\n",
      " 0.42521182 0.42219025 0.41920793 0.41626751]\n",
      "18 day output [[0.41337177]]\n",
      "19 day input [0.27632477 0.25972254 0.25904025 0.2708665  0.28564931 0.291335\n",
      " 0.26995679 0.29474642 0.30680009 0.30975665 0.30589038 0.28610416\n",
      " 0.28587673 0.27632477 0.27928133 0.27996361 0.29088015 0.27996361\n",
      " 0.33045258 0.33682056 0.28974301 0.26199682 0.23788947 0.26313395\n",
      " 0.26040482 0.25085285 0.26631794 0.25562884 0.29088015 0.27814419\n",
      " 0.39981806 0.40595861 0.36001819 0.34546282 0.3927678  0.42779168\n",
      " 0.41869456 0.42574483 0.42574483 0.40800546 0.44575847 0.50193314\n",
      " 0.50261542 0.49738458 0.47896293 0.47236752 0.49761201 0.54036843\n",
      " 0.52695019 0.52672277 0.52808733 0.5212645  0.53286332 0.51284967\n",
      " 0.48896975 0.51535138 0.49783944 0.49852172 0.48874232 0.47646122\n",
      " 0.44916989 0.4787355  0.46713668 0.47668865 0.47395952 0.48601319\n",
      " 0.47805322 0.4443939  0.46304298 0.48191949 0.47850807 0.47373209\n",
      " 0.45985899 0.48010007 0.48351149 0.50670912 0.47282238 0.4803275\n",
      " 0.51012054 0.4885149  0.47327723 0.47651455 0.47368079 0.46956018\n",
      " 0.46496496 0.46037176 0.45599899 0.45190832 0.44808424 0.44448102\n",
      " 0.4410482  0.43774089 0.43452409 0.43137303 0.4282718  0.42521182\n",
      " 0.42219025 0.41920793 0.41626751 0.41337177]\n",
      "19 day output [[0.41052318]]\n",
      "20 day input [0.25972254 0.25904025 0.2708665  0.28564931 0.291335   0.26995679\n",
      " 0.29474642 0.30680009 0.30975665 0.30589038 0.28610416 0.28587673\n",
      " 0.27632477 0.27928133 0.27996361 0.29088015 0.27996361 0.33045258\n",
      " 0.33682056 0.28974301 0.26199682 0.23788947 0.26313395 0.26040482\n",
      " 0.25085285 0.26631794 0.25562884 0.29088015 0.27814419 0.39981806\n",
      " 0.40595861 0.36001819 0.34546282 0.3927678  0.42779168 0.41869456\n",
      " 0.42574483 0.42574483 0.40800546 0.44575847 0.50193314 0.50261542\n",
      " 0.49738458 0.47896293 0.47236752 0.49761201 0.54036843 0.52695019\n",
      " 0.52672277 0.52808733 0.5212645  0.53286332 0.51284967 0.48896975\n",
      " 0.51535138 0.49783944 0.49852172 0.48874232 0.47646122 0.44916989\n",
      " 0.4787355  0.46713668 0.47668865 0.47395952 0.48601319 0.47805322\n",
      " 0.4443939  0.46304298 0.48191949 0.47850807 0.47373209 0.45985899\n",
      " 0.48010007 0.48351149 0.50670912 0.47282238 0.4803275  0.51012054\n",
      " 0.4885149  0.47327723 0.47651455 0.47368079 0.46956018 0.46496496\n",
      " 0.46037176 0.45599899 0.45190832 0.44808424 0.44448102 0.4410482\n",
      " 0.43774089 0.43452409 0.43137303 0.4282718  0.42521182 0.42219025\n",
      " 0.41920793 0.41626751 0.41337177 0.41052318]\n",
      "20 day output [[0.40772238]]\n",
      "21 day input [0.25904025 0.2708665  0.28564931 0.291335   0.26995679 0.29474642\n",
      " 0.30680009 0.30975665 0.30589038 0.28610416 0.28587673 0.27632477\n",
      " 0.27928133 0.27996361 0.29088015 0.27996361 0.33045258 0.33682056\n",
      " 0.28974301 0.26199682 0.23788947 0.26313395 0.26040482 0.25085285\n",
      " 0.26631794 0.25562884 0.29088015 0.27814419 0.39981806 0.40595861\n",
      " 0.36001819 0.34546282 0.3927678  0.42779168 0.41869456 0.42574483\n",
      " 0.42574483 0.40800546 0.44575847 0.50193314 0.50261542 0.49738458\n",
      " 0.47896293 0.47236752 0.49761201 0.54036843 0.52695019 0.52672277\n",
      " 0.52808733 0.5212645  0.53286332 0.51284967 0.48896975 0.51535138\n",
      " 0.49783944 0.49852172 0.48874232 0.47646122 0.44916989 0.4787355\n",
      " 0.46713668 0.47668865 0.47395952 0.48601319 0.47805322 0.4443939\n",
      " 0.46304298 0.48191949 0.47850807 0.47373209 0.45985899 0.48010007\n",
      " 0.48351149 0.50670912 0.47282238 0.4803275  0.51012054 0.4885149\n",
      " 0.47327723 0.47651455 0.47368079 0.46956018 0.46496496 0.46037176\n",
      " 0.45599899 0.45190832 0.44808424 0.44448102 0.4410482  0.43774089\n",
      " 0.43452409 0.43137303 0.4282718  0.42521182 0.42219025 0.41920793\n",
      " 0.41626751 0.41337177 0.41052318 0.40772238]\n",
      "21 day output [[0.40496874]]\n",
      "22 day input [0.2708665  0.28564931 0.291335   0.26995679 0.29474642 0.30680009\n",
      " 0.30975665 0.30589038 0.28610416 0.28587673 0.27632477 0.27928133\n",
      " 0.27996361 0.29088015 0.27996361 0.33045258 0.33682056 0.28974301\n",
      " 0.26199682 0.23788947 0.26313395 0.26040482 0.25085285 0.26631794\n",
      " 0.25562884 0.29088015 0.27814419 0.39981806 0.40595861 0.36001819\n",
      " 0.34546282 0.3927678  0.42779168 0.41869456 0.42574483 0.42574483\n",
      " 0.40800546 0.44575847 0.50193314 0.50261542 0.49738458 0.47896293\n",
      " 0.47236752 0.49761201 0.54036843 0.52695019 0.52672277 0.52808733\n",
      " 0.5212645  0.53286332 0.51284967 0.48896975 0.51535138 0.49783944\n",
      " 0.49852172 0.48874232 0.47646122 0.44916989 0.4787355  0.46713668\n",
      " 0.47668865 0.47395952 0.48601319 0.47805322 0.4443939  0.46304298\n",
      " 0.48191949 0.47850807 0.47373209 0.45985899 0.48010007 0.48351149\n",
      " 0.50670912 0.47282238 0.4803275  0.51012054 0.4885149  0.47327723\n",
      " 0.47651455 0.47368079 0.46956018 0.46496496 0.46037176 0.45599899\n",
      " 0.45190832 0.44808424 0.44448102 0.4410482  0.43774089 0.43452409\n",
      " 0.43137303 0.4282718  0.42521182 0.42219025 0.41920793 0.41626751\n",
      " 0.41337177 0.41052318 0.40772238 0.40496874]\n",
      "22 day output [[0.40225935]]\n",
      "23 day input [0.28564931 0.291335   0.26995679 0.29474642 0.30680009 0.30975665\n",
      " 0.30589038 0.28610416 0.28587673 0.27632477 0.27928133 0.27996361\n",
      " 0.29088015 0.27996361 0.33045258 0.33682056 0.28974301 0.26199682\n",
      " 0.23788947 0.26313395 0.26040482 0.25085285 0.26631794 0.25562884\n",
      " 0.29088015 0.27814419 0.39981806 0.40595861 0.36001819 0.34546282\n",
      " 0.3927678  0.42779168 0.41869456 0.42574483 0.42574483 0.40800546\n",
      " 0.44575847 0.50193314 0.50261542 0.49738458 0.47896293 0.47236752\n",
      " 0.49761201 0.54036843 0.52695019 0.52672277 0.52808733 0.5212645\n",
      " 0.53286332 0.51284967 0.48896975 0.51535138 0.49783944 0.49852172\n",
      " 0.48874232 0.47646122 0.44916989 0.4787355  0.46713668 0.47668865\n",
      " 0.47395952 0.48601319 0.47805322 0.4443939  0.46304298 0.48191949\n",
      " 0.47850807 0.47373209 0.45985899 0.48010007 0.48351149 0.50670912\n",
      " 0.47282238 0.4803275  0.51012054 0.4885149  0.47327723 0.47651455\n",
      " 0.47368079 0.46956018 0.46496496 0.46037176 0.45599899 0.45190832\n",
      " 0.44808424 0.44448102 0.4410482  0.43774089 0.43452409 0.43137303\n",
      " 0.4282718  0.42521182 0.42219025 0.41920793 0.41626751 0.41337177\n",
      " 0.41052318 0.40772238 0.40496874 0.40225935]\n",
      "23 day output [[0.39959025]]\n",
      "24 day input [0.291335   0.26995679 0.29474642 0.30680009 0.30975665 0.30589038\n",
      " 0.28610416 0.28587673 0.27632477 0.27928133 0.27996361 0.29088015\n",
      " 0.27996361 0.33045258 0.33682056 0.28974301 0.26199682 0.23788947\n",
      " 0.26313395 0.26040482 0.25085285 0.26631794 0.25562884 0.29088015\n",
      " 0.27814419 0.39981806 0.40595861 0.36001819 0.34546282 0.3927678\n",
      " 0.42779168 0.41869456 0.42574483 0.42574483 0.40800546 0.44575847\n",
      " 0.50193314 0.50261542 0.49738458 0.47896293 0.47236752 0.49761201\n",
      " 0.54036843 0.52695019 0.52672277 0.52808733 0.5212645  0.53286332\n",
      " 0.51284967 0.48896975 0.51535138 0.49783944 0.49852172 0.48874232\n",
      " 0.47646122 0.44916989 0.4787355  0.46713668 0.47668865 0.47395952\n",
      " 0.48601319 0.47805322 0.4443939  0.46304298 0.48191949 0.47850807\n",
      " 0.47373209 0.45985899 0.48010007 0.48351149 0.50670912 0.47282238\n",
      " 0.4803275  0.51012054 0.4885149  0.47327723 0.47651455 0.47368079\n",
      " 0.46956018 0.46496496 0.46037176 0.45599899 0.45190832 0.44808424\n",
      " 0.44448102 0.4410482  0.43774089 0.43452409 0.43137303 0.4282718\n",
      " 0.42521182 0.42219025 0.41920793 0.41626751 0.41337177 0.41052318\n",
      " 0.40772238 0.40496874 0.40225935 0.39959025]\n",
      "24 day output [[0.39695582]]\n",
      "25 day input [0.26995679 0.29474642 0.30680009 0.30975665 0.30589038 0.28610416\n",
      " 0.28587673 0.27632477 0.27928133 0.27996361 0.29088015 0.27996361\n",
      " 0.33045258 0.33682056 0.28974301 0.26199682 0.23788947 0.26313395\n",
      " 0.26040482 0.25085285 0.26631794 0.25562884 0.29088015 0.27814419\n",
      " 0.39981806 0.40595861 0.36001819 0.34546282 0.3927678  0.42779168\n",
      " 0.41869456 0.42574483 0.42574483 0.40800546 0.44575847 0.50193314\n",
      " 0.50261542 0.49738458 0.47896293 0.47236752 0.49761201 0.54036843\n",
      " 0.52695019 0.52672277 0.52808733 0.5212645  0.53286332 0.51284967\n",
      " 0.48896975 0.51535138 0.49783944 0.49852172 0.48874232 0.47646122\n",
      " 0.44916989 0.4787355  0.46713668 0.47668865 0.47395952 0.48601319\n",
      " 0.47805322 0.4443939  0.46304298 0.48191949 0.47850807 0.47373209\n",
      " 0.45985899 0.48010007 0.48351149 0.50670912 0.47282238 0.4803275\n",
      " 0.51012054 0.4885149  0.47327723 0.47651455 0.47368079 0.46956018\n",
      " 0.46496496 0.46037176 0.45599899 0.45190832 0.44808424 0.44448102\n",
      " 0.4410482  0.43774089 0.43452409 0.43137303 0.4282718  0.42521182\n",
      " 0.42219025 0.41920793 0.41626751 0.41337177 0.41052318 0.40772238\n",
      " 0.40496874 0.40225935 0.39959025 0.39695582]\n",
      "25 day output [[0.39434996]]\n",
      "26 day input [0.29474642 0.30680009 0.30975665 0.30589038 0.28610416 0.28587673\n",
      " 0.27632477 0.27928133 0.27996361 0.29088015 0.27996361 0.33045258\n",
      " 0.33682056 0.28974301 0.26199682 0.23788947 0.26313395 0.26040482\n",
      " 0.25085285 0.26631794 0.25562884 0.29088015 0.27814419 0.39981806\n",
      " 0.40595861 0.36001819 0.34546282 0.3927678  0.42779168 0.41869456\n",
      " 0.42574483 0.42574483 0.40800546 0.44575847 0.50193314 0.50261542\n",
      " 0.49738458 0.47896293 0.47236752 0.49761201 0.54036843 0.52695019\n",
      " 0.52672277 0.52808733 0.5212645  0.53286332 0.51284967 0.48896975\n",
      " 0.51535138 0.49783944 0.49852172 0.48874232 0.47646122 0.44916989\n",
      " 0.4787355  0.46713668 0.47668865 0.47395952 0.48601319 0.47805322\n",
      " 0.4443939  0.46304298 0.48191949 0.47850807 0.47373209 0.45985899\n",
      " 0.48010007 0.48351149 0.50670912 0.47282238 0.4803275  0.51012054\n",
      " 0.4885149  0.47327723 0.47651455 0.47368079 0.46956018 0.46496496\n",
      " 0.46037176 0.45599899 0.45190832 0.44808424 0.44448102 0.4410482\n",
      " 0.43774089 0.43452409 0.43137303 0.4282718  0.42521182 0.42219025\n",
      " 0.41920793 0.41626751 0.41337177 0.41052318 0.40772238 0.40496874\n",
      " 0.40225935 0.39959025 0.39695582 0.39434996]\n",
      "26 day output [[0.39176637]]\n",
      "27 day input [0.30680009 0.30975665 0.30589038 0.28610416 0.28587673 0.27632477\n",
      " 0.27928133 0.27996361 0.29088015 0.27996361 0.33045258 0.33682056\n",
      " 0.28974301 0.26199682 0.23788947 0.26313395 0.26040482 0.25085285\n",
      " 0.26631794 0.25562884 0.29088015 0.27814419 0.39981806 0.40595861\n",
      " 0.36001819 0.34546282 0.3927678  0.42779168 0.41869456 0.42574483\n",
      " 0.42574483 0.40800546 0.44575847 0.50193314 0.50261542 0.49738458\n",
      " 0.47896293 0.47236752 0.49761201 0.54036843 0.52695019 0.52672277\n",
      " 0.52808733 0.5212645  0.53286332 0.51284967 0.48896975 0.51535138\n",
      " 0.49783944 0.49852172 0.48874232 0.47646122 0.44916989 0.4787355\n",
      " 0.46713668 0.47668865 0.47395952 0.48601319 0.47805322 0.4443939\n",
      " 0.46304298 0.48191949 0.47850807 0.47373209 0.45985899 0.48010007\n",
      " 0.48351149 0.50670912 0.47282238 0.4803275  0.51012054 0.4885149\n",
      " 0.47327723 0.47651455 0.47368079 0.46956018 0.46496496 0.46037176\n",
      " 0.45599899 0.45190832 0.44808424 0.44448102 0.4410482  0.43774089\n",
      " 0.43452409 0.43137303 0.4282718  0.42521182 0.42219025 0.41920793\n",
      " 0.41626751 0.41337177 0.41052318 0.40772238 0.40496874 0.40225935\n",
      " 0.39959025 0.39695582 0.39434996 0.39176637]\n",
      "27 day output [[0.38919836]]\n",
      "28 day input [0.30975665 0.30589038 0.28610416 0.28587673 0.27632477 0.27928133\n",
      " 0.27996361 0.29088015 0.27996361 0.33045258 0.33682056 0.28974301\n",
      " 0.26199682 0.23788947 0.26313395 0.26040482 0.25085285 0.26631794\n",
      " 0.25562884 0.29088015 0.27814419 0.39981806 0.40595861 0.36001819\n",
      " 0.34546282 0.3927678  0.42779168 0.41869456 0.42574483 0.42574483\n",
      " 0.40800546 0.44575847 0.50193314 0.50261542 0.49738458 0.47896293\n",
      " 0.47236752 0.49761201 0.54036843 0.52695019 0.52672277 0.52808733\n",
      " 0.5212645  0.53286332 0.51284967 0.48896975 0.51535138 0.49783944\n",
      " 0.49852172 0.48874232 0.47646122 0.44916989 0.4787355  0.46713668\n",
      " 0.47668865 0.47395952 0.48601319 0.47805322 0.4443939  0.46304298\n",
      " 0.48191949 0.47850807 0.47373209 0.45985899 0.48010007 0.48351149\n",
      " 0.50670912 0.47282238 0.4803275  0.51012054 0.4885149  0.47327723\n",
      " 0.47651455 0.47368079 0.46956018 0.46496496 0.46037176 0.45599899\n",
      " 0.45190832 0.44808424 0.44448102 0.4410482  0.43774089 0.43452409\n",
      " 0.43137303 0.4282718  0.42521182 0.42219025 0.41920793 0.41626751\n",
      " 0.41337177 0.41052318 0.40772238 0.40496874 0.40225935 0.39959025\n",
      " 0.39695582 0.39434996 0.39176637 0.38919836]\n",
      "28 day output [[0.38664004]]\n",
      "29 day input [0.30589038 0.28610416 0.28587673 0.27632477 0.27928133 0.27996361\n",
      " 0.29088015 0.27996361 0.33045258 0.33682056 0.28974301 0.26199682\n",
      " 0.23788947 0.26313395 0.26040482 0.25085285 0.26631794 0.25562884\n",
      " 0.29088015 0.27814419 0.39981806 0.40595861 0.36001819 0.34546282\n",
      " 0.3927678  0.42779168 0.41869456 0.42574483 0.42574483 0.40800546\n",
      " 0.44575847 0.50193314 0.50261542 0.49738458 0.47896293 0.47236752\n",
      " 0.49761201 0.54036843 0.52695019 0.52672277 0.52808733 0.5212645\n",
      " 0.53286332 0.51284967 0.48896975 0.51535138 0.49783944 0.49852172\n",
      " 0.48874232 0.47646122 0.44916989 0.4787355  0.46713668 0.47668865\n",
      " 0.47395952 0.48601319 0.47805322 0.4443939  0.46304298 0.48191949\n",
      " 0.47850807 0.47373209 0.45985899 0.48010007 0.48351149 0.50670912\n",
      " 0.47282238 0.4803275  0.51012054 0.4885149  0.47327723 0.47651455\n",
      " 0.47368079 0.46956018 0.46496496 0.46037176 0.45599899 0.45190832\n",
      " 0.44808424 0.44448102 0.4410482  0.43774089 0.43452409 0.43137303\n",
      " 0.4282718  0.42521182 0.42219025 0.41920793 0.41626751 0.41337177\n",
      " 0.41052318 0.40772238 0.40496874 0.40225935 0.39959025 0.39695582\n",
      " 0.39434996 0.39176637 0.38919836 0.38664004]\n",
      "29 day output [[0.38408563]]\n",
      "[[0.4765145480632782], [0.4736807942390442], [0.4695601761341095], [0.46496495604515076], [0.4603717625141144], [0.4559989869594574], [0.45190832018852234], [0.4480842351913452], [0.4444810152053833], [0.44104820489883423], [0.43774089217185974], [0.4345240890979767], [0.4313730299472809], [0.4282718002796173], [0.4252118170261383], [0.42219024896621704], [0.41920793056488037], [0.4162675142288208], [0.4133717715740204], [0.4105231761932373], [0.4077223837375641], [0.4049687385559082], [0.40225934982299805], [0.39959025382995605], [0.39695581793785095], [0.39434996247291565], [0.39176636934280396], [0.389198362827301], [0.3866400420665741], [0.38408562541007996]]\n"
     ]
    }
   ],
   "source": [
    "# demonstrating prediction for next 10 days\n",
    "from numpy import array\n",
    "\n",
    "lst_output=[]\n",
    "n_steps=100\n",
    "i=0\n",
    "while(i<30):\n",
    "    \n",
    "    if(len(temp_input)>100):\n",
    "        #print(temp_input)\n",
    "        x_input=np.array(temp_input[1:])\n",
    "        print(\"{} day input {}\".format(i,x_input))\n",
    "        x_input=x_input.reshape(1,-1)\n",
    "        x_input = x_input.reshape((1, n_steps, 1))\n",
    "        #print(x_input)\n",
    "        yhat = model.predict(x_input, verbose=0)\n",
    "        print(\"{} day output {}\".format(i,yhat))\n",
    "        temp_input.extend(yhat[0].tolist())\n",
    "        temp_input=temp_input[1:]\n",
    "        #print(temp_input)\n",
    "        lst_output.extend(yhat.tolist())\n",
    "        i=i+1\n",
    "    else:\n",
    "        x_input = x_input.reshape((1, n_steps,1))\n",
    "        yhat = model.predict(x_input, verbose=0)\n",
    "        print(yhat[0])\n",
    "        temp_input.extend(yhat[0].tolist())\n",
    "        print(len(temp_input))\n",
    "        lst_output.extend(yhat.tolist())\n",
    "        i=i+1\n",
    "    \n",
    "\n",
    "print(lst_output)"
   ]
  },
  {
   "cell_type": "code",
   "execution_count": 142,
   "metadata": {},
   "outputs": [],
   "source": [
    "day_new=np.arange(1,101)\n",
    "day_pred=np.arange(101,131)"
   ]
  },
  {
   "cell_type": "code",
   "execution_count": 143,
   "metadata": {},
   "outputs": [],
   "source": [
    "import matplotlib.pyplot as plt"
   ]
  },
  {
   "cell_type": "code",
   "execution_count": 144,
   "metadata": {},
   "outputs": [
    {
     "data": {
      "text/plain": [
       "1259"
      ]
     },
     "execution_count": 144,
     "metadata": {},
     "output_type": "execute_result"
    }
   ],
   "source": [
    "len(df1)"
   ]
  },
  {
   "cell_type": "code",
   "execution_count": 151,
   "metadata": {},
   "outputs": [
    {
     "data": {
      "text/plain": [
       "[<matplotlib.lines.Line2D at 0x7fd5826926d0>]"
      ]
     },
     "execution_count": 151,
     "metadata": {},
     "output_type": "execute_result"
    },
    {
     "data": {
      "image/png": "[encoded data removed]",
      "text/plain": [
       "<Figure size 432x288 with 1 Axes>"
      ]
     },
     "metadata": {
      "needs_background": "light"
     },
     "output_type": "display_data"
    }
   ],
   "source": [
    "df3=df1.tolist()\n",
    "df3.extend(lst_output)\n",
    "plt.plot(df3[1200:])"
   ]
  },
  {
   "cell_type": "code",
   "execution_count": 153,
   "metadata": {},
   "outputs": [
    {
     "data": {
      "text/plain": [
       "[<matplotlib.lines.Line2D at 0x7fd5831d0640>]"
      ]
     },
     "execution_count": 153,
     "metadata": {},
     "output_type": "execute_result"
    },
    {
     "data": {
      "image/png": "[encoded data removed]",
      "text/plain": [
       "<Figure size 432x288 with 1 Axes>"
      ]
     },
     "metadata": {
      "needs_background": "light"
     },
     "output_type": "display_data"
    }
   ],
   "source": [
    "df3=df1.tolist()\n",
    "df3.extend(lst_output)\n",
    "plt.plot(df3[1200:])"
   ]
  },
  {
   "cell_type": "code",
   "execution_count": 154,
   "metadata": {},
   "outputs": [
    {
     "data": {
      "text/plain": [
       "[<matplotlib.lines.Line2D at 0x7fd58329d460>]"
      ]
     },
     "execution_count": 154,
     "metadata": {},
     "output_type": "execute_result"
    },
    {
     "data": {
      "image/png": "[encoded data removed]",
      "text/plain": [
       "<Figure size 432x288 with 1 Axes>"
      ]
     },
     "metadata": {
      "needs_background": "light"
     },
     "output_type": "display_data"
    }
   ],
   "source": [
    "plt.plot(df3)\n"
   ]
  }
 ],
 "metadata": {
  "kernelspec": {
   "display_name": "Python 3",
   "language": "python",
   "name": "python3"
  },
  "language_info": {
   "codemirror_mode": {
    "name": "ipython",
    "version": 3
   },
   "file_extension": ".py",
   "mimetype": "text/x-python",
   "name": "python",
   "nbconvert_exporter": "python",
   "pygments_lexer": "ipython3",
   "version": "3.8.3"
  }
 },
 "nbformat": 4,
 "nbformat_minor": 4
}
