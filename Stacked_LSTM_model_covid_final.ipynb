{
 "cells": [
  {
   "cell_type": "markdown",
   "metadata": {},
   "source": [
    "# Stock Price Prediction and Forecasting Using Stacked LSTM - Deep Learning"
   ]
  },
  {
   "cell_type": "code",
   "execution_count": 1,
   "metadata": {},
   "outputs": [],
   "source": [
    "#importing libraries\n",
    "import warnings\n",
    "warnings.filterwarnings('ignore')\n",
    "import pandas as pd\n",
    "import numpy as np\n",
    "import yfinance as yf\n",
    "import keras\n",
    "\n",
    "import math\n",
    "from sklearn.preprocessing import MinMaxScaler\n",
    "import tensorflow as tf\n",
    "from tensorflow.keras.models import Sequential\n",
    "from tensorflow.keras.layers import Dense, LSTM\n",
    "import matplotlib.pyplot as plt"
   ]
  },
  {
   "cell_type": "code",
   "execution_count": 2,
   "metadata": {},
   "outputs": [
    {
     "name": "stdout",
     "output_type": "stream",
     "text": [
      "[*********************100%***********************]  1 of 1 completed\n"
     ]
    }
   ],
   "source": [
    "# Historical Carnival Cruise Stock Price:\n",
    "# OHLCV using yfinance\n",
    "# Loading the stocks data\n",
    "ccl = yf.download(\"CCL\", start=\"2016-01-01\", end=\"2021-01-21\", \n",
    "    index_col=\"Date\", infer_datetime_format=True, parse_dates=True)\n",
    "ccl.dropna(inplace=True)"
   ]
  },
  {
   "cell_type": "code",
   "execution_count": 3,
   "metadata": {},
   "outputs": [
    {
     "name": "stdout",
     "output_type": "stream",
     "text": [
      "[*********************100%***********************]  1 of 1 completed\n"
     ]
    }
   ],
   "source": [
    "# Historical Delta Airlines Stock Price:\n",
    "# OHLCV using yfinance\n",
    "# Loading the stocks data\n",
    "dal = yf.download(\"DAL\", start=\"2016-01-01\", end=\"2021-01-21\", \n",
    "    index_col=\"Date\", infer_datetime_format=True, parse_dates=True)\n",
    "dal.dropna(inplace=True)"
   ]
  },
  {
   "cell_type": "code",
   "execution_count": 4,
   "metadata": {},
   "outputs": [
    {
     "name": "stdout",
     "output_type": "stream",
     "text": [
      "[*********************100%***********************]  1 of 1 completed\n"
     ]
    }
   ],
   "source": [
    "# Historical ETSY Stock Price:\n",
    "# OHLCV using yfinance\n",
    "# Loading the stocks data\n",
    "etsy = yf.download(\"ETSY\", start=\"2016-01-01\", end=\"2021-01-21\", \n",
    "    index_col=\"Date\", infer_datetime_format=True, parse_dates=True)\n",
    "etsy.dropna(inplace=True)"
   ]
  },
  {
   "cell_type": "code",
   "execution_count": 5,
   "metadata": {},
   "outputs": [
    {
     "name": "stdout",
     "output_type": "stream",
     "text": [
      "[*********************100%***********************]  1 of 1 completed\n"
     ]
    }
   ],
   "source": [
    "# Historical L Brands Stock Price:\n",
    "# OHLCV using yfinance\n",
    "# Loading the stocks data\n",
    "PP = yf.download(\"PYPL\", start=\"2016-01-01\", end=\"2021-01-21\", \n",
    "    index_col=\"Date\", infer_datetime_format=True, parse_dates=True)\n",
    "PP.dropna(inplace=True)"
   ]
  },
  {
   "cell_type": "code",
   "execution_count": 6,
   "metadata": {},
   "outputs": [
    {
     "name": "stdout",
     "output_type": "stream",
     "text": [
      "[*********************100%***********************]  1 of 1 completed\n"
     ]
    }
   ],
   "source": [
    "# Historical SPY Stock Price:\n",
    "# OHLCV using yfinance\n",
    "# Loading the stocks data\n",
    "spy = yf.download(\"SPY\", start=\"2016-01-01\", end=\"2021-01-21\", \n",
    "    index_col=\"Date\", infer_datetime_format=True, parse_dates=True)\n",
    "spy.dropna(inplace=True)"
   ]
  },
  {
   "cell_type": "code",
   "execution_count": 7,
   "metadata": {},
   "outputs": [
    {
     "data": {
      "text/html": [
       "<div>\n",
       "<style scoped>\n",
       "    .dataframe tbody tr th:only-of-type {\n",
       "        vertical-align: middle;\n",
       "    }\n",
       "\n",
       "    .dataframe tbody tr th {\n",
       "        vertical-align: top;\n",
       "    }\n",
       "\n",
       "    .dataframe thead th {\n",
       "        text-align: right;\n",
       "    }\n",
       "</style>\n",
       "<table border=\"1\" class=\"dataframe\">\n",
       "  <thead>\n",
       "    <tr style=\"text-align: right;\">\n",
       "      <th></th>\n",
       "      <th>Open</th>\n",
       "      <th>High</th>\n",
       "      <th>Low</th>\n",
       "      <th>Close</th>\n",
       "      <th>Adj Close</th>\n",
       "      <th>Volume</th>\n",
       "    </tr>\n",
       "    <tr>\n",
       "      <th>Date</th>\n",
       "      <th></th>\n",
       "      <th></th>\n",
       "      <th></th>\n",
       "      <th></th>\n",
       "      <th></th>\n",
       "      <th></th>\n",
       "    </tr>\n",
       "  </thead>\n",
       "  <tbody>\n",
       "    <tr>\n",
       "      <th>2020-02-21</th>\n",
       "      <td>335.470001</td>\n",
       "      <td>335.809998</td>\n",
       "      <td>332.579987</td>\n",
       "      <td>333.480011</td>\n",
       "      <td>327.366516</td>\n",
       "      <td>113788200</td>\n",
       "    </tr>\n",
       "    <tr>\n",
       "      <th>2020-02-24</th>\n",
       "      <td>323.140015</td>\n",
       "      <td>333.559998</td>\n",
       "      <td>321.239990</td>\n",
       "      <td>322.420013</td>\n",
       "      <td>316.509247</td>\n",
       "      <td>161088400</td>\n",
       "    </tr>\n",
       "    <tr>\n",
       "      <th>2020-02-25</th>\n",
       "      <td>323.940002</td>\n",
       "      <td>324.609985</td>\n",
       "      <td>311.690002</td>\n",
       "      <td>312.649994</td>\n",
       "      <td>306.918335</td>\n",
       "      <td>218913200</td>\n",
       "    </tr>\n",
       "    <tr>\n",
       "      <th>2020-02-26</th>\n",
       "      <td>314.179993</td>\n",
       "      <td>318.109985</td>\n",
       "      <td>310.700012</td>\n",
       "      <td>311.500000</td>\n",
       "      <td>305.789459</td>\n",
       "      <td>194773800</td>\n",
       "    </tr>\n",
       "    <tr>\n",
       "      <th>2020-02-27</th>\n",
       "      <td>305.459991</td>\n",
       "      <td>311.559998</td>\n",
       "      <td>297.510010</td>\n",
       "      <td>297.510010</td>\n",
       "      <td>292.055939</td>\n",
       "      <td>284353500</td>\n",
       "    </tr>\n",
       "  </tbody>\n",
       "</table>\n",
       "</div>"
      ],
      "text/plain": [
       "                  Open        High         Low       Close   Adj Close  \\\n",
       "Date                                                                     \n",
       "2020-02-21  335.470001  335.809998  332.579987  333.480011  327.366516   \n",
       "2020-02-24  323.140015  333.559998  321.239990  322.420013  316.509247   \n",
       "2020-02-25  323.940002  324.609985  311.690002  312.649994  306.918335   \n",
       "2020-02-26  314.179993  318.109985  310.700012  311.500000  305.789459   \n",
       "2020-02-27  305.459991  311.559998  297.510010  297.510010  292.055939   \n",
       "\n",
       "               Volume  \n",
       "Date                   \n",
       "2020-02-21  113788200  \n",
       "2020-02-24  161088400  \n",
       "2020-02-25  218913200  \n",
       "2020-02-26  194773800  \n",
       "2020-02-27  284353500  "
      ]
     },
     "execution_count": 7,
     "metadata": {},
     "output_type": "execute_result"
    }
   ],
   "source": [
    "#Creating a new dataframe for the SPY during covid\n",
    "covid_spy = spy['2020-02-21' :'2021-01-22']\n",
    "covid_spy.head()"
   ]
  },
  {
   "cell_type": "code",
   "execution_count": 8,
   "metadata": {},
   "outputs": [
    {
     "data": {
      "text/plain": [
       "Text(0, 0.5, 'SPY Close price in $')"
      ]
     },
     "execution_count": 8,
     "metadata": {},
     "output_type": "execute_result"
    },
    {
     "data": {
      "image/png": "[encoded data removed]",
      "text/plain": [
       "<Figure size 1152x576 with 1 Axes>"
      ]
     },
     "metadata": {
      "needs_background": "light"
     },
     "output_type": "display_data"
    }
   ],
   "source": [
    "#Plotting the SPY historical close prices\n",
    "plt.figure(figsize=(16,8))\n",
    "plt.title(\"SPY CLose Price\")\n",
    "plt.plot(covid_spy[\"Close\"])\n",
    "plt.xlabel(\"Date\", fontsize=18)\n",
    "plt.ylabel(\"SPY Close price in $\", fontsize=18)"
   ]
  },
  {
   "cell_type": "code",
   "execution_count": 9,
   "metadata": {},
   "outputs": [
    {
     "data": {
      "text/plain": [
       "231"
      ]
     },
     "execution_count": 9,
     "metadata": {},
     "output_type": "execute_result"
    }
   ],
   "source": [
    "#Creating a new dataframe with only the closing price\n",
    "data = covid_spy.filter(['Close'])\n",
    "\n",
    "#converting data to a numpy array\n",
    "dataset = data.values\n",
    "len(dataset)"
   ]
  },
  {
   "cell_type": "code",
   "execution_count": 10,
   "metadata": {},
   "outputs": [
    {
     "data": {
      "text/plain": [
       "162"
      ]
     },
     "execution_count": 10,
     "metadata": {},
     "output_type": "execute_result"
    }
   ],
   "source": [
    "#Preparing the training data using 70% of the data for training\n",
    "training_data_size = math.ceil(len(dataset)*.7)\n",
    "training_data_size"
   ]
  },
  {
   "cell_type": "code",
   "execution_count": 11,
   "metadata": {},
   "outputs": [
    {
     "data": {
      "text/plain": [
       "array([[0.68677769],\n",
       "       [0.61805645],\n",
       "       [0.55735049],\n",
       "       [0.550205  ],\n",
       "       [0.46327827],\n",
       "       [0.4555114 ],\n",
       "       [0.53523046],\n",
       "       [0.48024099],\n",
       "       [0.55865527],\n",
       "       [0.49403496],\n",
       "       [0.46296748],\n",
       "       [0.31862811],\n",
       "       [0.40679762],\n",
       "       [0.31943571],\n",
       "       [0.15633156],\n",
       "       [0.28811983],\n",
       "       [0.10500812],\n",
       "       [0.18547286],\n",
       "       [0.10594011],\n",
       "       [0.10910896],\n",
       "       [0.03634898],\n",
       "       [0.        ],\n",
       "       [0.12551258],\n",
       "       [0.1481297 ],\n",
       "       [0.23766628],\n",
       "       [0.1893252 ],\n",
       "       [0.24046224],\n",
       "       [0.21622965],\n",
       "       [0.14415307],\n",
       "       [0.17944577],\n",
       "       [0.15682865],\n",
       "       [0.2604075 ],\n",
       "       [0.26208527],\n",
       "       [0.31738534],\n",
       "       [0.3432957 ],\n",
       "       [0.32751336],\n",
       "       [0.37802911],\n",
       "       [0.34056174],\n",
       "       [0.3488878 ],\n",
       "       [0.39573761],\n",
       "       [0.36435934],\n",
       "       [0.31123404],\n",
       "       [0.3488878 ],\n",
       "       [0.34876341],\n",
       "       [0.372934  ],\n",
       "       [0.39828497],\n",
       "       [0.39008331],\n",
       "       [0.43656013],\n",
       "       [0.41959741],\n",
       "       [0.37181561],\n",
       "       [0.37666213],\n",
       "       [0.39294146],\n",
       "       [0.38088726],\n",
       "       [0.40219951],\n",
       "       [0.4317758 ],\n",
       "       [0.4321486 ],\n",
       "       [0.39592401],\n",
       "       [0.36442154],\n",
       "       [0.38536099],\n",
       "       [0.39350065],\n",
       "       [0.44768234],\n",
       "       [0.42885545],\n",
       "       [0.45967434],\n",
       "       [0.44693675],\n",
       "       [0.45041629],\n",
       "       [0.47303331],\n",
       "       [0.50068344],\n",
       "       [0.4972039 ],\n",
       "       [0.50559216],\n",
       "       [0.51323463],\n",
       "       [0.52895477],\n",
       "       [0.55443013],\n",
       "       [0.54933502],\n",
       "       [0.59891878],\n",
       "       [0.62290297],\n",
       "       [0.60792843],\n",
       "       [0.59680622],\n",
       "       [0.48253995],\n",
       "       [0.50490857],\n",
       "       [0.52255488],\n",
       "       [0.55927665],\n",
       "       [0.55119919],\n",
       "       [0.55194477],\n",
       "       [0.5324345 ],\n",
       "       [0.5447371 ],\n",
       "       [0.55362235],\n",
       "       [0.50416298],\n",
       "       [0.52441904],\n",
       "       [0.47906041],\n",
       "       [0.50646195],\n",
       "       [0.53069454],\n",
       "       [0.54411571],\n",
       "       [0.55474092],\n",
       "       [0.58468983],\n",
       "       [0.56437176],\n",
       "       [0.57928412],\n",
       "       [0.5680999 ],\n",
       "       [0.58804517],\n",
       "       [0.57095805],\n",
       "       [0.59630922],\n",
       "       [0.61451472],\n",
       "       [0.60792843],\n",
       "       [0.61370693],\n",
       "       [0.62986206],\n",
       "       [0.63414938],\n",
       "       [0.6456442 ],\n",
       "       [0.6214116 ],\n",
       "       [0.60848762],\n",
       "       [0.62302717],\n",
       "       [0.61028958],\n",
       "       [0.63483278],\n",
       "       [0.6276251 ],\n",
       "       [0.64353163],\n",
       "       [0.65763639],\n",
       "       [0.66552746],\n",
       "       [0.67826505],\n",
       "       [0.69205901],\n",
       "       [0.69355038],\n",
       "       [0.69976387],\n",
       "       [0.68255237],\n",
       "       [0.71138308],\n",
       "       [0.70759275],\n",
       "       [0.70765495],\n",
       "       [0.71430343],\n",
       "       [0.71883935],\n",
       "       [0.7100783 ],\n",
       "       [0.71660239],\n",
       "       [0.72405866],\n",
       "       [0.7454331 ],\n",
       "       [0.75288918],\n",
       "       [0.77432582],\n",
       "       [0.77904794],\n",
       "       [0.79302831],\n",
       "       [0.78513724],\n",
       "       [0.80557969],\n",
       "       [0.83726855],\n",
       "       [0.76078044],\n",
       "       [0.74325834],\n",
       "       [0.68509993],\n",
       "       [0.72598483],\n",
       "       [0.68932525],\n",
       "       [0.69038144],\n",
       "       [0.71772078],\n",
       "       [0.72834599],\n",
       "       [0.71995773],\n",
       "       [0.70144145],\n",
       "       [0.6691934 ],\n",
       "       [0.64632778],\n",
       "       [0.66701863],\n",
       "       [0.61942343],\n",
       "       [0.62476694],\n",
       "       [0.65726359],\n",
       "       [0.69118922],\n",
       "       [0.67988061],\n",
       "       [0.69553874],\n",
       "       [0.70889772],\n",
       "       [0.68901446],\n",
       "       [0.72579843],\n",
       "       [0.69578715],\n",
       "       [0.73201193],\n",
       "       [0.75077662],\n",
       "       [0.76985209],\n",
       "       [0.80452331],\n",
       "       [0.79023235],\n",
       "       [0.77656258],\n",
       "       [0.77389082],\n",
       "       [0.77258604],\n",
       "       [0.7397788 ],\n",
       "       [0.74829126],\n",
       "       [0.74425252],\n",
       "       [0.75593373],\n",
       "       [0.76320361],\n",
       "       [0.72349947],\n",
       "       [0.7162296 ],\n",
       "       [0.64440161],\n",
       "       [0.66503046],\n",
       "       [0.64365602],\n",
       "       [0.66639744],\n",
       "       [0.70262203],\n",
       "       [0.74928544],\n",
       "       [0.79091574],\n",
       "       [0.79041874],\n",
       "       [0.81775808],\n",
       "       [0.81452714],\n",
       "       [0.83086866],\n",
       "       [0.80936983],\n",
       "       [0.83975391],\n",
       "       [0.86752824],\n",
       "       [0.85541185],\n",
       "       [0.8284453 ],\n",
       "       [0.83776555],\n",
       "       [0.82254241],\n",
       "       [0.83577718],\n",
       "       [0.87156697],\n",
       "       [0.86808743],\n",
       "       [0.87436312],\n",
       "       [0.8643593 ],\n",
       "       [0.88896468],\n",
       "       [0.8937492 ],\n",
       "       [0.89312781],\n",
       "       [0.91276248],\n",
       "       [0.90804016],\n",
       "       [0.91475084],\n",
       "       [0.89412199],\n",
       "       [0.8933764 ],\n",
       "       [0.89070446],\n",
       "       [0.88051442],\n",
       "       [0.91114691],\n",
       "       [0.91475084],\n",
       "       [0.92761263],\n",
       "       [0.90859935],\n",
       "       [0.90039749],\n",
       "       [0.89654516],\n",
       "       [0.89859572],\n",
       "       [0.90748097],\n",
       "       [0.92717783],\n",
       "       [0.92276611],\n",
       "       [0.92605926],\n",
       "       [0.93780285],\n",
       "       [0.90617619],\n",
       "       [0.92195833],\n",
       "       [0.93575229],\n",
       "       [0.97023731],\n",
       "       [0.98365848],\n",
       "       [0.96768975],\n",
       "       [0.96818675],\n",
       "       [0.97452463],\n",
       "       [0.96626058],\n",
       "       [0.94911146],\n",
       "       [0.96744116],\n",
       "       [1.        ]])"
      ]
     },
     "execution_count": 11,
     "metadata": {},
     "output_type": "execute_result"
    }
   ],
   "source": [
    "#Normalizing the data using MinMaxScaler (making all the values between 0 and 1)\n",
    "scaler = MinMaxScaler(feature_range=(0,1))\n",
    "\n",
    "#fitting and scaling the features\n",
    "scaled_data = scaler.fit_transform(dataset)\n",
    "scaled_data"
   ]
  },
  {
   "cell_type": "code",
   "execution_count": 12,
   "metadata": {},
   "outputs": [],
   "source": [
    "#LSTM specifying the shape of the input (3 dimetional, number of samples, steps and features) \n",
    "#Creating the training dataset\n",
    "train_data = scaled_data[0:training_data_size, :]\n",
    "\n",
    "#splitting the data into x_train and y_train\n",
    "x_train = []\n",
    "y_train = []\n",
    "for i in range(60, len(train_data)):\n",
    "    x_train.append(train_data[i-30:i, 0])\n",
    "    y_train.append(train_data[i,0])\n",
    "    if i<=31:\n",
    "        print(x_train)\n",
    "        print(y_train)"
   ]
  },
  {
   "cell_type": "code",
   "execution_count": 13,
   "metadata": {},
   "outputs": [],
   "source": [
    "#Converting y_train to a numpy array\n",
    "y_train = np.asarray(y_train)"
   ]
  },
  {
   "cell_type": "code",
   "execution_count": 14,
   "metadata": {},
   "outputs": [
    {
     "data": {
      "text/plain": [
       "(102, 30, 1)"
      ]
     },
     "execution_count": 14,
     "metadata": {},
     "output_type": "execute_result"
    }
   ],
   "source": [
    "#Converting x_train to a numpy array\n",
    "x_train, Y_train = np.array(x_train), np.array(y_train)\n",
    "\n",
    "#reshaping the data into 3d\n",
    "x_train = np.reshape(x_train, (x_train.shape[0], x_train.shape[1], 1))\n",
    "x_train.shape"
   ]
  },
  {
   "cell_type": "markdown",
   "metadata": {},
   "source": [
    "### Building Compiling training and testing the LSTM model"
   ]
  },
  {
   "cell_type": "code",
   "execution_count": 15,
   "metadata": {},
   "outputs": [],
   "source": [
    "#Building the LSTM model using sequential\n",
    "model=Sequential()\n",
    "\n",
    "#Layer1\n",
    "model.add(LSTM(50, return_sequences=True, input_shape=(x_train.shape[1], 1)))\n",
    "\n",
    "#Layer2\n",
    "model.add(LSTM(50, return_sequences=False))\n",
    "\n",
    "#Layer3\n",
    "model.add(Dense(25))\n",
    "\n",
    "#Output layer\n",
    "model.add(Dense(1))"
   ]
  },
  {
   "cell_type": "code",
   "execution_count": 16,
   "metadata": {},
   "outputs": [
    {
     "name": "stdout",
     "output_type": "stream",
     "text": [
      "Model: \"sequential\"\n",
      "_________________________________________________________________\n",
      "Layer (type)                 Output Shape              Param #   \n",
      "=================================================================\n",
      "lstm (LSTM)                  (None, 30, 50)            10400     \n",
      "_________________________________________________________________\n",
      "lstm_1 (LSTM)                (None, 50)                20200     \n",
      "_________________________________________________________________\n",
      "dense (Dense)                (None, 25)                1275      \n",
      "_________________________________________________________________\n",
      "dense_1 (Dense)              (None, 1)                 26        \n",
      "=================================================================\n",
      "Total params: 31,901\n",
      "Trainable params: 31,901\n",
      "Non-trainable params: 0\n",
      "_________________________________________________________________\n"
     ]
    }
   ],
   "source": [
    "#Summarizing the model\n",
    "model.summary()"
   ]
  },
  {
   "cell_type": "code",
   "execution_count": 17,
   "metadata": {},
   "outputs": [],
   "source": [
    "#Compiling the model\n",
    "model.compile(optimizer='adam', loss='mean_squared_error')"
   ]
  },
  {
   "cell_type": "code",
   "execution_count": 18,
   "metadata": {},
   "outputs": [
    {
     "name": "stdout",
     "output_type": "stream",
     "text": [
      "Epoch 1/10\n",
      "21/21 [==============================] - 19s 123ms/step - loss: 0.1100\n",
      "Epoch 2/10\n",
      "21/21 [==============================] - 3s 123ms/step - loss: 0.0026\n",
      "Epoch 3/10\n",
      "21/21 [==============================] - 3s 158ms/step - loss: 0.0026\n",
      "Epoch 4/10\n",
      "21/21 [==============================] - 3s 145ms/step - loss: 0.0028\n",
      "Epoch 5/10\n",
      "21/21 [==============================] - 3s 130ms/step - loss: 0.0034\n",
      "Epoch 6/10\n",
      "21/21 [==============================] - 3s 137ms/step - loss: 0.0045\n",
      "Epoch 7/10\n",
      "21/21 [==============================] - 3s 130ms/step - loss: 0.0065\n",
      "Epoch 8/10\n",
      "21/21 [==============================] - 3s 126ms/step - loss: 0.0089\n",
      "Epoch 9/10\n",
      "21/21 [==============================] - 3s 138ms/step - loss: 0.0105 0s - loss: 0.0\n",
      "Epoch 10/10\n",
      "21/21 [==============================] - 3s 152ms/step - loss: 0.0106\n"
     ]
    },
    {
     "data": {
      "text/plain": [
       "<tensorflow.python.keras.callbacks.History at 0x1f49cde9f88>"
      ]
     },
     "execution_count": 18,
     "metadata": {},
     "output_type": "execute_result"
    }
   ],
   "source": [
    "# Training the model\n",
    "# Using at least 10 epochs\n",
    "model.fit(x_train, y_train, batch_size=5, epochs=10, shuffle = False)"
   ]
  },
  {
   "cell_type": "code",
   "execution_count": 19,
   "metadata": {},
   "outputs": [],
   "source": [
    "#Using 30% of dataset for testing the model\n",
    "test_data = scaled_data[training_data_size - 30: , :]\n",
    "x_test = []\n",
    "y_test = dataset[training_data_size:, :]\n",
    "for i in range(30, len(test_data)):\n",
    "    x_test.append(test_data[i-30:i, 0])"
   ]
  },
  {
   "cell_type": "code",
   "execution_count": 20,
   "metadata": {},
   "outputs": [],
   "source": [
    "#Converting the x_test to a numpy array\n",
    "x_test = np.array(x_test)"
   ]
  },
  {
   "cell_type": "code",
   "execution_count": 21,
   "metadata": {},
   "outputs": [],
   "source": [
    "#Reshaping the data\n",
    "x_test = np.reshape(x_test, (x_test.shape[0], x_test.shape[1],1))"
   ]
  },
  {
   "cell_type": "code",
   "execution_count": 22,
   "metadata": {},
   "outputs": [],
   "source": [
    "#Making some predictions\n",
    "predictions = model.predict(x_test)\n",
    "\n",
    "#getting the values of prediction\n",
    "predictions = scaler.inverse_transform(predictions)"
   ]
  },
  {
   "cell_type": "code",
   "execution_count": 23,
   "metadata": {},
   "outputs": [
    {
     "data": {
      "text/plain": [
       "1.260100876075634"
      ]
     },
     "execution_count": 23,
     "metadata": {},
     "output_type": "execute_result"
    }
   ],
   "source": [
    "#Evaluating the model using Root Mean Square Error\n",
    "rmse = np.sqrt(np.mean(predictions - y_test)**2)\n",
    "rmse"
   ]
  },
  {
   "cell_type": "code",
   "execution_count": 24,
   "metadata": {},
   "outputs": [
    {
     "data": {
      "text/plain": [
       "<function matplotlib.pyplot.show(close=None, block=None)>"
      ]
     },
     "execution_count": 24,
     "metadata": {},
     "output_type": "execute_result"
    },
    {
     "data": {
      "image/png": "[encoded data removed]",
      "text/plain": [
       "<Figure size 1152x576 with 1 Axes>"
      ]
     },
     "metadata": {
      "needs_background": "light"
     },
     "output_type": "display_data"
    }
   ],
   "source": [
    "#Plotting the prediction and the actual values data as a line chart\n",
    "train = data[:training_data_size]\n",
    "valid = data[training_data_size:]\n",
    "valid['predictions'] = predictions\n",
    "plt.figure(figsize=(16,8))\n",
    "plt.title('SPY Covid')\n",
    "plt.xlabel('Date', fontsize=18)\n",
    "plt.ylabel('close price in $', fontsize=18)\n",
    "plt.plot(train['Close'])\n",
    "plt.plot(valid[['Close', 'predictions']])\n",
    "plt.legend(['Train', 'Val', 'predictions'], loc='lower right')\n",
    "plt.show"
   ]
  },
  {
   "cell_type": "code",
   "execution_count": 25,
   "metadata": {},
   "outputs": [
    {
     "data": {
      "text/html": [
       "<div>\n",
       "<style scoped>\n",
       "    .dataframe tbody tr th:only-of-type {\n",
       "        vertical-align: middle;\n",
       "    }\n",
       "\n",
       "    .dataframe tbody tr th {\n",
       "        vertical-align: top;\n",
       "    }\n",
       "\n",
       "    .dataframe thead th {\n",
       "        text-align: right;\n",
       "    }\n",
       "</style>\n",
       "<table border=\"1\" class=\"dataframe\">\n",
       "  <thead>\n",
       "    <tr style=\"text-align: right;\">\n",
       "      <th></th>\n",
       "      <th>Close</th>\n",
       "      <th>predictions</th>\n",
       "    </tr>\n",
       "    <tr>\n",
       "      <th>Date</th>\n",
       "      <th></th>\n",
       "      <th></th>\n",
       "    </tr>\n",
       "  </thead>\n",
       "  <tbody>\n",
       "    <tr>\n",
       "      <th>2020-10-12</th>\n",
       "      <td>352.429993</td>\n",
       "      <td>347.937622</td>\n",
       "    </tr>\n",
       "    <tr>\n",
       "      <th>2020-10-13</th>\n",
       "      <td>350.130005</td>\n",
       "      <td>348.892181</td>\n",
       "    </tr>\n",
       "    <tr>\n",
       "      <th>2020-10-14</th>\n",
       "      <td>347.929993</td>\n",
       "      <td>349.855133</td>\n",
       "    </tr>\n",
       "    <tr>\n",
       "      <th>2020-10-15</th>\n",
       "      <td>347.500000</td>\n",
       "      <td>350.704895</td>\n",
       "    </tr>\n",
       "    <tr>\n",
       "      <th>2020-10-16</th>\n",
       "      <td>347.290009</td>\n",
       "      <td>351.427429</td>\n",
       "    </tr>\n",
       "    <tr>\n",
       "      <th>...</th>\n",
       "      <td>...</td>\n",
       "      <td>...</td>\n",
       "    </tr>\n",
       "    <tr>\n",
       "      <th>2021-01-13</th>\n",
       "      <td>379.790009</td>\n",
       "      <td>368.507782</td>\n",
       "    </tr>\n",
       "    <tr>\n",
       "      <th>2021-01-14</th>\n",
       "      <td>378.459991</td>\n",
       "      <td>368.948212</td>\n",
       "    </tr>\n",
       "    <tr>\n",
       "      <th>2021-01-15</th>\n",
       "      <td>375.700012</td>\n",
       "      <td>369.312256</td>\n",
       "    </tr>\n",
       "    <tr>\n",
       "      <th>2021-01-19</th>\n",
       "      <td>378.649994</td>\n",
       "      <td>369.530212</td>\n",
       "    </tr>\n",
       "    <tr>\n",
       "      <th>2021-01-20</th>\n",
       "      <td>383.890015</td>\n",
       "      <td>369.741180</td>\n",
       "    </tr>\n",
       "  </tbody>\n",
       "</table>\n",
       "<p>69 rows × 2 columns</p>\n",
       "</div>"
      ],
      "text/plain": [
       "                 Close  predictions\n",
       "Date                               \n",
       "2020-10-12  352.429993   347.937622\n",
       "2020-10-13  350.130005   348.892181\n",
       "2020-10-14  347.929993   349.855133\n",
       "2020-10-15  347.500000   350.704895\n",
       "2020-10-16  347.290009   351.427429\n",
       "...                ...          ...\n",
       "2021-01-13  379.790009   368.507782\n",
       "2021-01-14  378.459991   368.948212\n",
       "2021-01-15  375.700012   369.312256\n",
       "2021-01-19  378.649994   369.530212\n",
       "2021-01-20  383.890015   369.741180\n",
       "\n",
       "[69 rows x 2 columns]"
      ]
     },
     "execution_count": 25,
     "metadata": {},
     "output_type": "execute_result"
    }
   ],
   "source": [
    "#Printing the data in a table\n",
    "valid"
   ]
  },
  {
   "cell_type": "code",
   "execution_count": null,
   "metadata": {},
   "outputs": [],
   "source": []
  },
  {
   "cell_type": "code",
   "execution_count": 26,
   "metadata": {},
   "outputs": [
    {
     "data": {
      "text/html": [
       "<div>\n",
       "<style scoped>\n",
       "    .dataframe tbody tr th:only-of-type {\n",
       "        vertical-align: middle;\n",
       "    }\n",
       "\n",
       "    .dataframe tbody tr th {\n",
       "        vertical-align: top;\n",
       "    }\n",
       "\n",
       "    .dataframe thead th {\n",
       "        text-align: right;\n",
       "    }\n",
       "</style>\n",
       "<table border=\"1\" class=\"dataframe\">\n",
       "  <thead>\n",
       "    <tr style=\"text-align: right;\">\n",
       "      <th></th>\n",
       "      <th>Open</th>\n",
       "      <th>High</th>\n",
       "      <th>Low</th>\n",
       "      <th>Close</th>\n",
       "      <th>Adj Close</th>\n",
       "      <th>Volume</th>\n",
       "    </tr>\n",
       "    <tr>\n",
       "      <th>Date</th>\n",
       "      <th></th>\n",
       "      <th></th>\n",
       "      <th></th>\n",
       "      <th></th>\n",
       "      <th></th>\n",
       "      <th></th>\n",
       "    </tr>\n",
       "  </thead>\n",
       "  <tbody>\n",
       "    <tr>\n",
       "      <th>2020-02-21</th>\n",
       "      <td>42.110001</td>\n",
       "      <td>42.189999</td>\n",
       "      <td>41.650002</td>\n",
       "      <td>41.689999</td>\n",
       "      <td>41.689999</td>\n",
       "      <td>8009800</td>\n",
       "    </tr>\n",
       "    <tr>\n",
       "      <th>2020-02-24</th>\n",
       "      <td>39.380001</td>\n",
       "      <td>39.750000</td>\n",
       "      <td>37.759998</td>\n",
       "      <td>37.759998</td>\n",
       "      <td>37.759998</td>\n",
       "      <td>15441400</td>\n",
       "    </tr>\n",
       "    <tr>\n",
       "      <th>2020-02-25</th>\n",
       "      <td>38.000000</td>\n",
       "      <td>38.110001</td>\n",
       "      <td>35.669998</td>\n",
       "      <td>35.840000</td>\n",
       "      <td>35.840000</td>\n",
       "      <td>16153700</td>\n",
       "    </tr>\n",
       "    <tr>\n",
       "      <th>2020-02-26</th>\n",
       "      <td>36.169998</td>\n",
       "      <td>36.189999</td>\n",
       "      <td>32.380001</td>\n",
       "      <td>33.139999</td>\n",
       "      <td>33.139999</td>\n",
       "      <td>23492300</td>\n",
       "    </tr>\n",
       "    <tr>\n",
       "      <th>2020-02-27</th>\n",
       "      <td>32.650002</td>\n",
       "      <td>33.700001</td>\n",
       "      <td>30.190001</td>\n",
       "      <td>31.850000</td>\n",
       "      <td>31.850000</td>\n",
       "      <td>31486400</td>\n",
       "    </tr>\n",
       "  </tbody>\n",
       "</table>\n",
       "</div>"
      ],
      "text/plain": [
       "                 Open       High        Low      Close  Adj Close    Volume\n",
       "Date                                                                       \n",
       "2020-02-21  42.110001  42.189999  41.650002  41.689999  41.689999   8009800\n",
       "2020-02-24  39.380001  39.750000  37.759998  37.759998  37.759998  15441400\n",
       "2020-02-25  38.000000  38.110001  35.669998  35.840000  35.840000  16153700\n",
       "2020-02-26  36.169998  36.189999  32.380001  33.139999  33.139999  23492300\n",
       "2020-02-27  32.650002  33.700001  30.190001  31.850000  31.850000  31486400"
      ]
     },
     "execution_count": 26,
     "metadata": {},
     "output_type": "execute_result"
    }
   ],
   "source": [
    "#Slicing cc_df to covid times and creating a new dataframe.\n",
    "covid_ccl = ccl['2020-02-21' :'2021-01-22']\n",
    "covid_ccl.head()"
   ]
  },
  {
   "cell_type": "code",
   "execution_count": 27,
   "metadata": {},
   "outputs": [
    {
     "data": {
      "text/plain": [
       "Text(0, 0.5, 'CCL Close price in $')"
      ]
     },
     "execution_count": 27,
     "metadata": {},
     "output_type": "execute_result"
    },
    {
     "data": {
      "image/png": "[encoded data removed]",
      "text/plain": [
       "<Figure size 1152x576 with 1 Axes>"
      ]
     },
     "metadata": {
      "needs_background": "light"
     },
     "output_type": "display_data"
    }
   ],
   "source": [
    "#Plotting the historical close price\n",
    "plt.figure(figsize=(16,8))\n",
    "plt.title(\"CCL CLose Price\")\n",
    "plt.plot(covid_ccl[\"Close\"])\n",
    "plt.xlabel(\"Date\", fontsize=18)\n",
    "plt.ylabel(\"CCL Close price in $\", fontsize=18)"
   ]
  },
  {
   "cell_type": "code",
   "execution_count": 28,
   "metadata": {},
   "outputs": [
    {
     "data": {
      "text/plain": [
       "231"
      ]
     },
     "execution_count": 28,
     "metadata": {},
     "output_type": "execute_result"
    }
   ],
   "source": [
    "#Creating a new dataframe with only the closing price\n",
    "data = covid_ccl.filter(['Close'])\n",
    "\n",
    "#converting data to a numpy array\n",
    "dataset = data.values\n",
    "len(dataset)"
   ]
  },
  {
   "cell_type": "code",
   "execution_count": 29,
   "metadata": {},
   "outputs": [
    {
     "data": {
      "text/plain": [
       "162"
      ]
     },
     "execution_count": 29,
     "metadata": {},
     "output_type": "execute_result"
    }
   ],
   "source": [
    "#Preparing the training data using 70% of the data for training\n",
    "training_data_size = math.ceil(len(dataset)*.7)\n",
    "training_data_size"
   ]
  },
  {
   "cell_type": "code",
   "execution_count": 30,
   "metadata": {},
   "outputs": [
    {
     "data": {
      "text/plain": [
       "array([[1.        ],\n",
       "       [0.88345194],\n",
       "       [0.82651249],\n",
       "       [0.7464413 ],\n",
       "       [0.7081851 ],\n",
       "       [0.7559312 ],\n",
       "       [0.74406887],\n",
       "       [0.70759196],\n",
       "       [0.72627521],\n",
       "       [0.59015426],\n",
       "       [0.56880191],\n",
       "       [0.408363  ],\n",
       "       [0.47597868],\n",
       "       [0.40865957],\n",
       "       [0.20759195],\n",
       "       [0.28499408],\n",
       "       [0.19572954],\n",
       "       [0.14056941],\n",
       "       [0.03944248],\n",
       "       [0.06020167],\n",
       "       [0.11951365],\n",
       "       [0.11951365],\n",
       "       [0.16933573],\n",
       "       [0.22479243],\n",
       "       [0.29211151],\n",
       "       [0.19098459],\n",
       "       [0.14323845],\n",
       "       [0.15421116],\n",
       "       [0.02461448],\n",
       "       [0.        ],\n",
       "       [0.01542112],\n",
       "       [0.06642943],\n",
       "       [0.09875446],\n",
       "       [0.11921709],\n",
       "       [0.13196917],\n",
       "       [0.10468566],\n",
       "       [0.13463821],\n",
       "       [0.13078293],\n",
       "       [0.11506526],\n",
       "       [0.13612102],\n",
       "       [0.12603798],\n",
       "       [0.1147687 ],\n",
       "       [0.10883751],\n",
       "       [0.12455517],\n",
       "       [0.11684461],\n",
       "       [0.14857651],\n",
       "       [0.19246739],\n",
       "       [0.25860027],\n",
       "       [0.23517201],\n",
       "       [0.17674972],\n",
       "       [0.18890868],\n",
       "       [0.15183869],\n",
       "       [0.14383156],\n",
       "       [0.16488731],\n",
       "       [0.18505339],\n",
       "       [0.17437725],\n",
       "       [0.15480427],\n",
       "       [0.12722422],\n",
       "       [0.12752078],\n",
       "       [0.14264532],\n",
       "       [0.20017796],\n",
       "       [0.18208778],\n",
       "       [0.18327402],\n",
       "       [0.19661924],\n",
       "       [0.19246739],\n",
       "       [0.24644132],\n",
       "       [0.27491104],\n",
       "       [0.23606171],\n",
       "       [0.23042705],\n",
       "       [0.26186239],\n",
       "       [0.26393836],\n",
       "       [0.27520761],\n",
       "       [0.31168446],\n",
       "       [0.40154214],\n",
       "       [0.5023725 ],\n",
       "       [0.44691583],\n",
       "       [0.37425862],\n",
       "       [0.28084226],\n",
       "       [0.35616845],\n",
       "       [0.34015424],\n",
       "       [0.3692171 ],\n",
       "       [0.32977464],\n",
       "       [0.32176751],\n",
       "       [0.29240808],\n",
       "       [0.27461447],\n",
       "       [0.2974496 ],\n",
       "       [0.23813762],\n",
       "       [0.23813762],\n",
       "       [0.23161329],\n",
       "       [0.26126931],\n",
       "       [0.25059314],\n",
       "       [0.24881379],\n",
       "       [0.2345789 ],\n",
       "       [0.22657177],\n",
       "       [0.19572954],\n",
       "       [0.21797153],\n",
       "       [0.19602611],\n",
       "       [0.24288257],\n",
       "       [0.2167853 ],\n",
       "       [0.20966787],\n",
       "       [0.28202847],\n",
       "       [0.23161329],\n",
       "       [0.22241995],\n",
       "       [0.20848163],\n",
       "       [0.21411625],\n",
       "       [0.21263348],\n",
       "       [0.20255043],\n",
       "       [0.20255043],\n",
       "       [0.17141164],\n",
       "       [0.18861211],\n",
       "       [0.19810202],\n",
       "       [0.18890868],\n",
       "       [0.17526692],\n",
       "       [0.15124555],\n",
       "       [0.17111507],\n",
       "       [0.17941877],\n",
       "       [0.17230131],\n",
       "       [0.18534996],\n",
       "       [0.22153025],\n",
       "       [0.23279953],\n",
       "       [0.21411625],\n",
       "       [0.21500595],\n",
       "       [0.22241995],\n",
       "       [0.19899172],\n",
       "       [0.19098459],\n",
       "       [0.19661924],\n",
       "       [0.19483987],\n",
       "       [0.19810202],\n",
       "       [0.24228944],\n",
       "       [0.23487547],\n",
       "       [0.2167853 ],\n",
       "       [0.24169636],\n",
       "       [0.27402134],\n",
       "       [0.25237248],\n",
       "       [0.25326218],\n",
       "       [0.25919335],\n",
       "       [0.28499408],\n",
       "       [0.3131673 ],\n",
       "       [0.30604987],\n",
       "       [0.28736656],\n",
       "       [0.29389086],\n",
       "       [0.28825626],\n",
       "       [0.29300121],\n",
       "       [0.23606171],\n",
       "       [0.25177935],\n",
       "       [0.24525505],\n",
       "       [0.217675  ],\n",
       "       [0.18742587],\n",
       "       [0.19098459],\n",
       "       [0.18268092],\n",
       "       [0.17111507],\n",
       "       [0.21055754],\n",
       "       [0.217675  ],\n",
       "       [0.21055754],\n",
       "       [0.21381971],\n",
       "       [0.2093713 ],\n",
       "       [0.21322658],\n",
       "       [0.20729539],\n",
       "       [0.21411625],\n",
       "       [0.23784105],\n",
       "       [0.22657177],\n",
       "       [0.22894425],\n",
       "       [0.21470939],\n",
       "       [0.17971531],\n",
       "       [0.17793596],\n",
       "       [0.17941877],\n",
       "       [0.18119811],\n",
       "       [0.18327402],\n",
       "       [0.19691578],\n",
       "       [0.1930605 ],\n",
       "       [0.21411625],\n",
       "       [0.21915777],\n",
       "       [0.17971531],\n",
       "       [0.1717082 ],\n",
       "       [0.12841046],\n",
       "       [0.14857651],\n",
       "       [0.1702254 ],\n",
       "       [0.16548044],\n",
       "       [0.1702254 ],\n",
       "       [0.15925269],\n",
       "       [0.18416372],\n",
       "       [0.17348755],\n",
       "       [0.33451959],\n",
       "       [0.25978648],\n",
       "       [0.24436535],\n",
       "       [0.20640572],\n",
       "       [0.23843418],\n",
       "       [0.28469752],\n",
       "       [0.29893238],\n",
       "       [0.28529065],\n",
       "       [0.30308426],\n",
       "       [0.27876635],\n",
       "       [0.30278769],\n",
       "       [0.36358245],\n",
       "       [0.37603797],\n",
       "       [0.40361805],\n",
       "       [0.35616845],\n",
       "       [0.36120997],\n",
       "       [0.39116253],\n",
       "       [0.44217082],\n",
       "       [0.45907478],\n",
       "       [0.45166078],\n",
       "       [0.46263347],\n",
       "       [0.43653622],\n",
       "       [0.42556348],\n",
       "       [0.39590748],\n",
       "       [0.38434167],\n",
       "       [0.40213527],\n",
       "       [0.40895614],\n",
       "       [0.40510083],\n",
       "       [0.4000593 ],\n",
       "       [0.38819692],\n",
       "       [0.35112693],\n",
       "       [0.38463823],\n",
       "       [0.38167262],\n",
       "       [0.4074733 ],\n",
       "       [0.39916966],\n",
       "       [0.40984584],\n",
       "       [0.40599053],\n",
       "       [0.36803084],\n",
       "       [0.37455519],\n",
       "       [0.36862397],\n",
       "       [0.37870701],\n",
       "       [0.37069988],\n",
       "       [0.36091341],\n",
       "       [0.36061684],\n",
       "       [0.35972719],\n",
       "       [0.3840451 ],\n",
       "       [0.38018984],\n",
       "       [0.38256232],\n",
       "       [0.37989328]])"
      ]
     },
     "execution_count": 30,
     "metadata": {},
     "output_type": "execute_result"
    }
   ],
   "source": [
    "#Normalizing the data using MinMaxScaler (making all the values between 0 and 1)\n",
    "scaler = MinMaxScaler(feature_range=(0,1))\n",
    "\n",
    "#fitting and scaling the features\n",
    "scaled_data = scaler.fit_transform(dataset)\n",
    "scaled_data"
   ]
  },
  {
   "cell_type": "code",
   "execution_count": 31,
   "metadata": {},
   "outputs": [],
   "source": [
    "#LSTM specifying the shape of the input (3 dimetional, number of samples, steps and features) \n",
    "#Creating the training dataset \n",
    "train_data = scaled_data[0:training_data_size, :]\n",
    "\n",
    "#splitting the data into x_train and y_train\n",
    "x_train = []\n",
    "y_train = []\n",
    "for i in range(60, len(train_data)):\n",
    "    x_train.append(train_data[i-30:i, 0])\n",
    "    y_train.append(train_data[i,0])\n",
    "    if i<=31:\n",
    "        print(x_train)\n",
    "        print(y_train)"
   ]
  },
  {
   "cell_type": "code",
   "execution_count": 32,
   "metadata": {},
   "outputs": [],
   "source": [
    "#converting y_train to a numpy array\n",
    "y_train = np.asarray(y_train)"
   ]
  },
  {
   "cell_type": "code",
   "execution_count": 33,
   "metadata": {},
   "outputs": [
    {
     "data": {
      "text/plain": [
       "(102, 30, 1)"
      ]
     },
     "execution_count": 33,
     "metadata": {},
     "output_type": "execute_result"
    }
   ],
   "source": [
    "#converting x_train to a numpy array\n",
    "x_train, Y_train = np.array(x_train), np.array(y_train)\n",
    "\n",
    "#reshaping the data into 3d\n",
    "x_train = np.reshape(x_train, (x_train.shape[0], x_train.shape[1], 1))\n",
    "x_train.shape"
   ]
  },
  {
   "cell_type": "markdown",
   "metadata": {},
   "source": [
    "### Building Compiling training and testing the LSTM model"
   ]
  },
  {
   "cell_type": "code",
   "execution_count": 34,
   "metadata": {},
   "outputs": [],
   "source": [
    "#Building the LSTM model using sequential\n",
    "model=Sequential()\n",
    "\n",
    "#Layer1\n",
    "model.add(LSTM(50, return_sequences=True, input_shape=(x_train.shape[1], 1)))\n",
    "\n",
    "#Layer2\n",
    "model.add(LSTM(50, return_sequences=False))\n",
    "\n",
    "#Layer3\n",
    "model.add(Dense(25))\n",
    "\n",
    "#Output Layer\n",
    "model.add(Dense(1))"
   ]
  },
  {
   "cell_type": "code",
   "execution_count": 35,
   "metadata": {},
   "outputs": [
    {
     "name": "stdout",
     "output_type": "stream",
     "text": [
      "Model: \"sequential_1\"\n",
      "_________________________________________________________________\n",
      "Layer (type)                 Output Shape              Param #   \n",
      "=================================================================\n",
      "lstm_2 (LSTM)                (None, 30, 50)            10400     \n",
      "_________________________________________________________________\n",
      "lstm_3 (LSTM)                (None, 50)                20200     \n",
      "_________________________________________________________________\n",
      "dense_2 (Dense)              (None, 25)                1275      \n",
      "_________________________________________________________________\n",
      "dense_3 (Dense)              (None, 1)                 26        \n",
      "=================================================================\n",
      "Total params: 31,901\n",
      "Trainable params: 31,901\n",
      "Non-trainable params: 0\n",
      "_________________________________________________________________\n"
     ]
    }
   ],
   "source": [
    "# Summarizing the model\n",
    "model.summary()"
   ]
  },
  {
   "cell_type": "code",
   "execution_count": 36,
   "metadata": {},
   "outputs": [],
   "source": [
    "#Compiling the model\n",
    "model.compile(optimizer='adam', loss='mean_squared_error')"
   ]
  },
  {
   "cell_type": "code",
   "execution_count": 37,
   "metadata": {},
   "outputs": [
    {
     "name": "stdout",
     "output_type": "stream",
     "text": [
      "Epoch 1/10\n",
      "21/21 [==============================] - 15s 109ms/step - loss: 0.0240\n",
      "Epoch 2/10\n",
      "21/21 [==============================] - 3s 129ms/step - loss: 0.0075\n",
      "Epoch 3/10\n",
      "21/21 [==============================] - 3s 129ms/step - loss: 0.0055\n",
      "Epoch 4/10\n",
      "21/21 [==============================] - 3s 137ms/step - loss: 0.0049\n",
      "Epoch 5/10\n",
      "21/21 [==============================] - 3s 130ms/step - loss: 0.0051\n",
      "Epoch 6/10\n",
      "21/21 [==============================] - 3s 147ms/step - loss: 0.0050\n",
      "Epoch 7/10\n",
      "21/21 [==============================] - 3s 131ms/step - loss: 0.0048\n",
      "Epoch 8/10\n",
      "21/21 [==============================] - 3s 134ms/step - loss: 0.0047\n",
      "Epoch 9/10\n",
      "21/21 [==============================] - 3s 127ms/step - loss: 0.0045\n",
      "Epoch 10/10\n",
      "21/21 [==============================] - 3s 123ms/step - loss: 0.0043\n"
     ]
    },
    {
     "data": {
      "text/plain": [
       "<tensorflow.python.keras.callbacks.History at 0x1f49cdbcf88>"
      ]
     },
     "execution_count": 37,
     "metadata": {},
     "output_type": "execute_result"
    }
   ],
   "source": [
    "# Training the model\n",
    "# Using at least 10 epochs\n",
    "model.fit(x_train, y_train, batch_size=5, epochs=10, shuffle = False)"
   ]
  },
  {
   "cell_type": "code",
   "execution_count": 38,
   "metadata": {},
   "outputs": [],
   "source": [
    "#Using 30% of dataset for testing the model\n",
    "test_data = scaled_data[training_data_size - 30: , :]\n",
    "x_test = []\n",
    "y_test = dataset[training_data_size:, :]\n",
    "for i in range(30, len(test_data)):\n",
    "    x_test.append(test_data[i-30:i, 0])"
   ]
  },
  {
   "cell_type": "code",
   "execution_count": 39,
   "metadata": {},
   "outputs": [],
   "source": [
    "#Converting the x_test to a numpy array\n",
    "x_test = np.array(x_test)"
   ]
  },
  {
   "cell_type": "code",
   "execution_count": 40,
   "metadata": {},
   "outputs": [],
   "source": [
    "#Reshaping the data\n",
    "x_test = np.reshape(x_test, (x_test.shape[0], x_test.shape[1],1))"
   ]
  },
  {
   "cell_type": "code",
   "execution_count": 41,
   "metadata": {},
   "outputs": [],
   "source": [
    "#Making some predictions\n",
    "predictions = model.predict(x_test)\n",
    "\n",
    "#getting the values of prediction\n",
    "predictions = scaler.inverse_transform(predictions)"
   ]
  },
  {
   "cell_type": "code",
   "execution_count": 42,
   "metadata": {},
   "outputs": [
    {
     "data": {
      "text/plain": [
       "2.2856080290200054"
      ]
     },
     "execution_count": 42,
     "metadata": {},
     "output_type": "execute_result"
    }
   ],
   "source": [
    "#Evaluating the model using Root Mean Square Error\n",
    "rmse = np.sqrt(np.mean(predictions - y_test)**2)\n",
    "rmse"
   ]
  },
  {
   "cell_type": "code",
   "execution_count": 43,
   "metadata": {},
   "outputs": [
    {
     "data": {
      "text/plain": [
       "<function matplotlib.pyplot.show(close=None, block=None)>"
      ]
     },
     "execution_count": 43,
     "metadata": {},
     "output_type": "execute_result"
    },
    {
     "data": {
      "image/png": "[encoded data removed]",
      "text/plain": [
       "<Figure size 1152x576 with 1 Axes>"
      ]
     },
     "metadata": {
      "needs_background": "light"
     },
     "output_type": "display_data"
    }
   ],
   "source": [
    "#Plotting the prediction and the actual values data as a line chart\n",
    "train = data[:training_data_size]\n",
    "valid = data[training_data_size:]\n",
    "valid['predictions'] = predictions\n",
    "plt.figure(figsize=(16,8))\n",
    "plt.title('CCL Covid')\n",
    "plt.xlabel('Date', fontsize=18)\n",
    "plt.ylabel('close price in $', fontsize=18)\n",
    "plt.plot(train['Close'])\n",
    "plt.plot(valid[['Close', 'predictions']])\n",
    "plt.legend(['Train', 'Val', 'predictions'], loc='lower right')\n",
    "plt.show"
   ]
  },
  {
   "cell_type": "code",
   "execution_count": 44,
   "metadata": {},
   "outputs": [
    {
     "data": {
      "text/html": [
       "<div>\n",
       "<style scoped>\n",
       "    .dataframe tbody tr th:only-of-type {\n",
       "        vertical-align: middle;\n",
       "    }\n",
       "\n",
       "    .dataframe tbody tr th {\n",
       "        vertical-align: top;\n",
       "    }\n",
       "\n",
       "    .dataframe thead th {\n",
       "        text-align: right;\n",
       "    }\n",
       "</style>\n",
       "<table border=\"1\" class=\"dataframe\">\n",
       "  <thead>\n",
       "    <tr style=\"text-align: right;\">\n",
       "      <th></th>\n",
       "      <th>Close</th>\n",
       "      <th>predictions</th>\n",
       "    </tr>\n",
       "    <tr>\n",
       "      <th>Date</th>\n",
       "      <th></th>\n",
       "      <th></th>\n",
       "    </tr>\n",
       "  </thead>\n",
       "  <tbody>\n",
       "    <tr>\n",
       "      <th>2020-10-12</th>\n",
       "      <td>15.210000</td>\n",
       "      <td>15.043754</td>\n",
       "    </tr>\n",
       "    <tr>\n",
       "      <th>2020-10-13</th>\n",
       "      <td>14.030000</td>\n",
       "      <td>15.086662</td>\n",
       "    </tr>\n",
       "    <tr>\n",
       "      <th>2020-10-14</th>\n",
       "      <td>13.970000</td>\n",
       "      <td>15.052407</td>\n",
       "    </tr>\n",
       "    <tr>\n",
       "      <th>2020-10-15</th>\n",
       "      <td>14.020000</td>\n",
       "      <td>14.973789</td>\n",
       "    </tr>\n",
       "    <tr>\n",
       "      <th>2020-10-16</th>\n",
       "      <td>14.080000</td>\n",
       "      <td>14.878621</td>\n",
       "    </tr>\n",
       "    <tr>\n",
       "      <th>...</th>\n",
       "      <td>...</td>\n",
       "      <td>...</td>\n",
       "    </tr>\n",
       "    <tr>\n",
       "      <th>2021-01-13</th>\n",
       "      <td>20.100000</td>\n",
       "      <td>16.935913</td>\n",
       "    </tr>\n",
       "    <tr>\n",
       "      <th>2021-01-14</th>\n",
       "      <td>20.920000</td>\n",
       "      <td>16.885614</td>\n",
       "    </tr>\n",
       "    <tr>\n",
       "      <th>2021-01-15</th>\n",
       "      <td>20.790001</td>\n",
       "      <td>16.881985</td>\n",
       "    </tr>\n",
       "    <tr>\n",
       "      <th>2021-01-19</th>\n",
       "      <td>20.870001</td>\n",
       "      <td>16.899256</td>\n",
       "    </tr>\n",
       "    <tr>\n",
       "      <th>2021-01-20</th>\n",
       "      <td>20.780001</td>\n",
       "      <td>16.931427</td>\n",
       "    </tr>\n",
       "  </tbody>\n",
       "</table>\n",
       "<p>69 rows × 2 columns</p>\n",
       "</div>"
      ],
      "text/plain": [
       "                Close  predictions\n",
       "Date                              \n",
       "2020-10-12  15.210000    15.043754\n",
       "2020-10-13  14.030000    15.086662\n",
       "2020-10-14  13.970000    15.052407\n",
       "2020-10-15  14.020000    14.973789\n",
       "2020-10-16  14.080000    14.878621\n",
       "...               ...          ...\n",
       "2021-01-13  20.100000    16.935913\n",
       "2021-01-14  20.920000    16.885614\n",
       "2021-01-15  20.790001    16.881985\n",
       "2021-01-19  20.870001    16.899256\n",
       "2021-01-20  20.780001    16.931427\n",
       "\n",
       "[69 rows x 2 columns]"
      ]
     },
     "execution_count": 44,
     "metadata": {},
     "output_type": "execute_result"
    }
   ],
   "source": [
    "#Printing the data in a table\n",
    "valid"
   ]
  },
  {
   "cell_type": "code",
   "execution_count": null,
   "metadata": {},
   "outputs": [],
   "source": []
  },
  {
   "cell_type": "code",
   "execution_count": 45,
   "metadata": {},
   "outputs": [
    {
     "data": {
      "text/html": [
       "<div>\n",
       "<style scoped>\n",
       "    .dataframe tbody tr th:only-of-type {\n",
       "        vertical-align: middle;\n",
       "    }\n",
       "\n",
       "    .dataframe tbody tr th {\n",
       "        vertical-align: top;\n",
       "    }\n",
       "\n",
       "    .dataframe thead th {\n",
       "        text-align: right;\n",
       "    }\n",
       "</style>\n",
       "<table border=\"1\" class=\"dataframe\">\n",
       "  <thead>\n",
       "    <tr style=\"text-align: right;\">\n",
       "      <th></th>\n",
       "      <th>Open</th>\n",
       "      <th>High</th>\n",
       "      <th>Low</th>\n",
       "      <th>Close</th>\n",
       "      <th>Adj Close</th>\n",
       "      <th>Volume</th>\n",
       "    </tr>\n",
       "    <tr>\n",
       "      <th>Date</th>\n",
       "      <th></th>\n",
       "      <th></th>\n",
       "      <th></th>\n",
       "      <th></th>\n",
       "      <th></th>\n",
       "      <th></th>\n",
       "    </tr>\n",
       "  </thead>\n",
       "  <tbody>\n",
       "    <tr>\n",
       "      <th>2020-02-21</th>\n",
       "      <td>57.959999</td>\n",
       "      <td>58.020000</td>\n",
       "      <td>56.869999</td>\n",
       "      <td>57.869999</td>\n",
       "      <td>57.869999</td>\n",
       "      <td>6295600</td>\n",
       "    </tr>\n",
       "    <tr>\n",
       "      <th>2020-02-24</th>\n",
       "      <td>54.830002</td>\n",
       "      <td>55.380001</td>\n",
       "      <td>53.340000</td>\n",
       "      <td>54.230000</td>\n",
       "      <td>54.230000</td>\n",
       "      <td>17983100</td>\n",
       "    </tr>\n",
       "    <tr>\n",
       "      <th>2020-02-25</th>\n",
       "      <td>54.540001</td>\n",
       "      <td>54.709999</td>\n",
       "      <td>50.750000</td>\n",
       "      <td>50.889999</td>\n",
       "      <td>50.889999</td>\n",
       "      <td>15836500</td>\n",
       "    </tr>\n",
       "    <tr>\n",
       "      <th>2020-02-26</th>\n",
       "      <td>51.439999</td>\n",
       "      <td>51.770000</td>\n",
       "      <td>49.000000</td>\n",
       "      <td>49.590000</td>\n",
       "      <td>49.590000</td>\n",
       "      <td>15985900</td>\n",
       "    </tr>\n",
       "    <tr>\n",
       "      <th>2020-02-27</th>\n",
       "      <td>46.720001</td>\n",
       "      <td>50.980000</td>\n",
       "      <td>45.029999</td>\n",
       "      <td>48.189999</td>\n",
       "      <td>48.189999</td>\n",
       "      <td>21949100</td>\n",
       "    </tr>\n",
       "  </tbody>\n",
       "</table>\n",
       "</div>"
      ],
      "text/plain": [
       "                 Open       High        Low      Close  Adj Close    Volume\n",
       "Date                                                                       \n",
       "2020-02-21  57.959999  58.020000  56.869999  57.869999  57.869999   6295600\n",
       "2020-02-24  54.830002  55.380001  53.340000  54.230000  54.230000  17983100\n",
       "2020-02-25  54.540001  54.709999  50.750000  50.889999  50.889999  15836500\n",
       "2020-02-26  51.439999  51.770000  49.000000  49.590000  49.590000  15985900\n",
       "2020-02-27  46.720001  50.980000  45.029999  48.189999  48.189999  21949100"
      ]
     },
     "execution_count": 45,
     "metadata": {},
     "output_type": "execute_result"
    }
   ],
   "source": [
    "#Slicing dal_df to covid times and creating a new dataframe.\n",
    "covid_dal = dal['2020-02-21' :'2021-01-22']\n",
    "covid_dal.head()"
   ]
  },
  {
   "cell_type": "code",
   "execution_count": 46,
   "metadata": {},
   "outputs": [
    {
     "data": {
      "text/plain": [
       "Text(0, 0.5, 'Delta Close price in $')"
      ]
     },
     "execution_count": 46,
     "metadata": {},
     "output_type": "execute_result"
    },
    {
     "data": {
      "image/png": "[encoded data removed]",
      "text/plain": [
       "<Figure size 1152x576 with 1 Axes>"
      ]
     },
     "metadata": {
      "needs_background": "light"
     },
     "output_type": "display_data"
    }
   ],
   "source": [
    "#Plotting dal historical close prices\n",
    "plt.figure(figsize=(16,8))\n",
    "plt.title(\"DAL CLose Price\")\n",
    "plt.plot(covid_dal[\"Close\"])\n",
    "plt.xlabel(\"Date\", fontsize=18)\n",
    "plt.ylabel(\"Delta Close price in $\", fontsize=18)"
   ]
  },
  {
   "cell_type": "code",
   "execution_count": 47,
   "metadata": {},
   "outputs": [
    {
     "data": {
      "text/plain": [
       "231"
      ]
     },
     "execution_count": 47,
     "metadata": {},
     "output_type": "execute_result"
    }
   ],
   "source": [
    "#Creating a new dataframe with only the closing price\n",
    "data = covid_dal.filter(['Close'])\n",
    "\n",
    "#converting data to a numpy array\n",
    "dataset = data.values\n",
    "len(dataset)"
   ]
  },
  {
   "cell_type": "code",
   "execution_count": 48,
   "metadata": {},
   "outputs": [
    {
     "data": {
      "text/plain": [
       "162"
      ]
     },
     "execution_count": 48,
     "metadata": {},
     "output_type": "execute_result"
    }
   ],
   "source": [
    "#Preparing the training data using 70% of the data for training\n",
    "training_data_size = math.ceil(len(dataset)*.7)\n",
    "training_data_size"
   ]
  },
  {
   "cell_type": "code",
   "execution_count": 49,
   "metadata": {},
   "outputs": [
    {
     "data": {
      "text/plain": [
       "array([[1.        ],\n",
       "       [0.90589453],\n",
       "       [0.81954499],\n",
       "       [0.78593591],\n",
       "       [0.74974145],\n",
       "       [0.69648401],\n",
       "       [0.72311273],\n",
       "       [0.69777665],\n",
       "       [0.75775596],\n",
       "       [0.66752841],\n",
       "       [0.69027921],\n",
       "       [0.62900726],\n",
       "       [0.67942094],\n",
       "       [0.60703202],\n",
       "       [0.37538778],\n",
       "       [0.49560499],\n",
       "       [0.42967946],\n",
       "       [0.32445708],\n",
       "       [0.11116855],\n",
       "       [0.05997931],\n",
       "       [0.05584281],\n",
       "       [0.07833503],\n",
       "       [0.19906927],\n",
       "       [0.30791107],\n",
       "       [0.32342298],\n",
       "       [0.26783865],\n",
       "       [0.2450879 ],\n",
       "       [0.24146847],\n",
       "       [0.12099277],\n",
       "       [0.09022751],\n",
       "       [0.08505685],\n",
       "       [0.08092035],\n",
       "       [0.07911064],\n",
       "       [0.10444672],\n",
       "       [0.13443638],\n",
       "       [0.1049638 ],\n",
       "       [0.13831439],\n",
       "       [0.13340228],\n",
       "       [0.09281283],\n",
       "       [0.13133403],\n",
       "       [0.11504651],\n",
       "       [0.10108583],\n",
       "       [0.08479832],\n",
       "       [0.08505685],\n",
       "       [0.08324714],\n",
       "       [0.07678385],\n",
       "       [0.13314374],\n",
       "       [0.21018613],\n",
       "       [0.17373318],\n",
       "       [0.12745606],\n",
       "       [0.08738364],\n",
       "       [0.06514991],\n",
       "       [0.0467942 ],\n",
       "       [0.06437435],\n",
       "       [0.09126161],\n",
       "       [0.07290589],\n",
       "       [0.04756981],\n",
       "       [0.00568768],\n",
       "       [0.00491206],\n",
       "       [0.        ],\n",
       "       [0.06902793],\n",
       "       [0.0664426 ],\n",
       "       [0.09126161],\n",
       "       [0.10263701],\n",
       "       [0.09048604],\n",
       "       [0.16701136],\n",
       "       [0.18433297],\n",
       "       [0.1672699 ],\n",
       "       [0.15563596],\n",
       "       [0.18045501],\n",
       "       [0.18665976],\n",
       "       [0.23991725],\n",
       "       [0.34100313],\n",
       "       [0.38702171],\n",
       "       [0.45966912],\n",
       "       [0.3872802 ],\n",
       "       [0.32187175],\n",
       "       [0.20708378],\n",
       "       [0.29058946],\n",
       "       [0.29136502],\n",
       "       [0.31308168],\n",
       "       [0.29808685],\n",
       "       [0.29989661],\n",
       "       [0.26680455],\n",
       "       [0.2616339 ],\n",
       "       [0.27016544],\n",
       "       [0.2107032 ],\n",
       "       [0.22802482],\n",
       "       [0.19958634],\n",
       "       [0.24353672],\n",
       "       [0.22905892],\n",
       "       [0.22001036],\n",
       "       [0.22052738],\n",
       "       [0.23914169],\n",
       "       [0.20217167],\n",
       "       [0.20217167],\n",
       "       [0.16701136],\n",
       "       [0.20423992],\n",
       "       [0.19725955],\n",
       "       [0.17890384],\n",
       "       [0.24327819],\n",
       "       [0.20863495],\n",
       "       [0.20320577],\n",
       "       [0.18174765],\n",
       "       [0.18717684],\n",
       "       [0.18252326],\n",
       "       [0.19622545],\n",
       "       [0.17502582],\n",
       "       [0.1631334 ],\n",
       "       [0.1745088 ],\n",
       "       [0.16882107],\n",
       "       [0.14865564],\n",
       "       [0.14943121],\n",
       "       [0.15537747],\n",
       "       [0.16752843],\n",
       "       [0.18821094],\n",
       "       [0.20398138],\n",
       "       [0.2065667 ],\n",
       "       [0.26240951],\n",
       "       [0.27016544],\n",
       "       [0.25594623],\n",
       "       [0.24586351],\n",
       "       [0.2523268 ],\n",
       "       [0.22828336],\n",
       "       [0.21820059],\n",
       "       [0.21923474],\n",
       "       [0.21794211],\n",
       "       [0.20889349],\n",
       "       [0.27430194],\n",
       "       [0.28205792],\n",
       "       [0.27817996],\n",
       "       [0.30067217],\n",
       "       [0.33092037],\n",
       "       [0.30144779],\n",
       "       [0.29782831],\n",
       "       [0.30894517],\n",
       "       [0.31101342],\n",
       "       [0.32523269],\n",
       "       [0.34513963],\n",
       "       [0.32497415],\n",
       "       [0.32574976],\n",
       "       [0.32342298],\n",
       "       [0.35237848],\n",
       "       [0.37021712],\n",
       "       [0.3976215 ],\n",
       "       [0.38185106],\n",
       "       [0.35289556],\n",
       "       [0.27481902],\n",
       "       [0.28516027],\n",
       "       [0.26809719],\n",
       "       [0.25387798],\n",
       "       [0.27378492],\n",
       "       [0.31411583],\n",
       "       [0.29524303],\n",
       "       [0.29446742],\n",
       "       [0.30791107],\n",
       "       [0.32471561],\n",
       "       [0.3311789 ],\n",
       "       [0.30687692],\n",
       "       [0.33505692],\n",
       "       [0.34875906],\n",
       "       [0.35211999],\n",
       "       [0.34772491],\n",
       "       [0.32523269],\n",
       "       [0.32497415],\n",
       "       [0.31411583],\n",
       "       [0.31747671],\n",
       "       [0.31825233],\n",
       "       [0.33066183],\n",
       "       [0.31825233],\n",
       "       [0.37564636],\n",
       "       [0.38288521],\n",
       "       [0.32936919],\n",
       "       [0.29782831],\n",
       "       [0.27042398],\n",
       "       [0.299121  ],\n",
       "       [0.2960186 ],\n",
       "       [0.28516027],\n",
       "       [0.30274042],\n",
       "       [0.29058946],\n",
       "       [0.33066183],\n",
       "       [0.31618408],\n",
       "       [0.45449847],\n",
       "       [0.46147883],\n",
       "       [0.40925544],\n",
       "       [0.39270944],\n",
       "       [0.44648395],\n",
       "       [0.48629783],\n",
       "       [0.47595653],\n",
       "       [0.48397105],\n",
       "       [0.48397105],\n",
       "       [0.46380562],\n",
       "       [0.50672185],\n",
       "       [0.57057908],\n",
       "       [0.57135474],\n",
       "       [0.56540852],\n",
       "       [0.54446743],\n",
       "       [0.53697   ],\n",
       "       [0.56566701],\n",
       "       [0.61427097],\n",
       "       [0.59901761],\n",
       "       [0.59875902],\n",
       "       [0.60031024],\n",
       "       [0.59255432],\n",
       "       [0.60573938],\n",
       "       [0.58298868],\n",
       "       [0.55584279],\n",
       "       [0.58583244],\n",
       "       [0.5659256 ],\n",
       "       [0.56670116],\n",
       "       [0.5555843 ],\n",
       "       [0.54162357],\n",
       "       [0.51059977],\n",
       "       [0.54420895],\n",
       "       [0.53102378],\n",
       "       [0.54188216],\n",
       "       [0.53877971],\n",
       "       [0.55248195],\n",
       "       [0.54343328],\n",
       "       [0.50517063],\n",
       "       [0.52637021],\n",
       "       [0.54782837],\n",
       "       [0.54395036],\n",
       "       [0.53852122],\n",
       "       [0.52275078],\n",
       "       [0.54576007],\n",
       "       [0.54963808],\n",
       "       [0.57600831],\n",
       "       [0.53748707],\n",
       "       [0.54601866],\n",
       "       [0.57988623]])"
      ]
     },
     "execution_count": 49,
     "metadata": {},
     "output_type": "execute_result"
    }
   ],
   "source": [
    "#Normalizing the data using MinMaxScaler (making all the values between 0 and 1)\n",
    "scaler = MinMaxScaler(feature_range=(0,1))\n",
    "\n",
    "#fitting and scaling the features\n",
    "scaled_data = scaler.fit_transform(dataset)\n",
    "scaled_data"
   ]
  },
  {
   "cell_type": "code",
   "execution_count": 50,
   "metadata": {},
   "outputs": [],
   "source": [
    "#LSTM specifying the shape of the input (3 dimetional, number of samples, steps and features) \n",
    "#Creating the training dataset \n",
    "train_data = scaled_data[0:training_data_size, :]\n",
    "\n",
    "#splitting the data into x_train and y_train\n",
    "x_train = []\n",
    "y_train = []\n",
    "for i in range(60, len(train_data)):\n",
    "    x_train.append(train_data[i-30:i, 0])\n",
    "    y_train.append(train_data[i,0])\n",
    "    if i<=31:\n",
    "        print(x_train)\n",
    "        print(y_train)"
   ]
  },
  {
   "cell_type": "code",
   "execution_count": 51,
   "metadata": {},
   "outputs": [],
   "source": [
    "#converting y_train to a numpy array\n",
    "y_train = np.asarray(y_train)"
   ]
  },
  {
   "cell_type": "code",
   "execution_count": 52,
   "metadata": {},
   "outputs": [
    {
     "data": {
      "text/plain": [
       "(102, 30, 1)"
      ]
     },
     "execution_count": 52,
     "metadata": {},
     "output_type": "execute_result"
    }
   ],
   "source": [
    "#converting x_train to a numpy array\n",
    "x_train, Y_train = np.array(x_train), np.array(y_train)\n",
    "\n",
    "#reshaping the data into 3d\n",
    "x_train = np.reshape(x_train, (x_train.shape[0], x_train.shape[1], 1))\n",
    "x_train.shape"
   ]
  },
  {
   "cell_type": "markdown",
   "metadata": {},
   "source": [
    "### Building Compiling training and testing the LSTM model"
   ]
  },
  {
   "cell_type": "code",
   "execution_count": 53,
   "metadata": {},
   "outputs": [],
   "source": [
    "#Building the LSTM model using sequential\n",
    "model=Sequential()\n",
    "\n",
    "#Layer1\n",
    "model.add(LSTM(50, return_sequences=True, input_shape=(x_train.shape[1], 1)))\n",
    "\n",
    "#Layer2\n",
    "model.add(LSTM(50, return_sequences=False))\n",
    "\n",
    "#Layer3\n",
    "model.add(Dense(25))\n",
    "\n",
    "#Output Layer\n",
    "model.add(Dense(1))"
   ]
  },
  {
   "cell_type": "code",
   "execution_count": 54,
   "metadata": {},
   "outputs": [
    {
     "name": "stdout",
     "output_type": "stream",
     "text": [
      "Model: \"sequential_2\"\n",
      "_________________________________________________________________\n",
      "Layer (type)                 Output Shape              Param #   \n",
      "=================================================================\n",
      "lstm_4 (LSTM)                (None, 30, 50)            10400     \n",
      "_________________________________________________________________\n",
      "lstm_5 (LSTM)                (None, 50)                20200     \n",
      "_________________________________________________________________\n",
      "dense_4 (Dense)              (None, 25)                1275      \n",
      "_________________________________________________________________\n",
      "dense_5 (Dense)              (None, 1)                 26        \n",
      "=================================================================\n",
      "Total params: 31,901\n",
      "Trainable params: 31,901\n",
      "Non-trainable params: 0\n",
      "_________________________________________________________________\n"
     ]
    }
   ],
   "source": [
    "# Summarizing the model\n",
    "model.summary()"
   ]
  },
  {
   "cell_type": "code",
   "execution_count": 55,
   "metadata": {},
   "outputs": [],
   "source": [
    "#Compiling the model\n",
    "model.compile(optimizer='adam', loss='mean_squared_error')"
   ]
  },
  {
   "cell_type": "code",
   "execution_count": 56,
   "metadata": {},
   "outputs": [
    {
     "name": "stdout",
     "output_type": "stream",
     "text": [
      "Epoch 1/10\n",
      "21/21 [==============================] - 15s 102ms/step - loss: 0.0158\n",
      "Epoch 2/10\n",
      "21/21 [==============================] - 2s 96ms/step - loss: 0.0090: 0s - loss: 0.0\n",
      "Epoch 3/10\n",
      "21/21 [==============================] - 2s 102ms/step - loss: 0.0062\n",
      "Epoch 4/10\n",
      "21/21 [==============================] - 3s 130ms/step - loss: 0.0056\n",
      "Epoch 5/10\n",
      "21/21 [==============================] - 3s 123ms/step - loss: 0.0055\n",
      "Epoch 6/10\n",
      "21/21 [==============================] - 3s 121ms/step - loss: 0.0053\n",
      "Epoch 7/10\n",
      "21/21 [==============================] - 3s 121ms/step - loss: 0.0052\n",
      "Epoch 8/10\n",
      "21/21 [==============================] - 3s 127ms/step - loss: 0.0050\n",
      "Epoch 9/10\n",
      "21/21 [==============================] - 2s 119ms/step - loss: 0.0048\n",
      "Epoch 10/10\n",
      "21/21 [==============================] - 3s 125ms/step - loss: 0.0047\n"
     ]
    },
    {
     "data": {
      "text/plain": [
       "<tensorflow.python.keras.callbacks.History at 0x1f4a9c72fc8>"
      ]
     },
     "execution_count": 56,
     "metadata": {},
     "output_type": "execute_result"
    }
   ],
   "source": [
    "# Training the model\n",
    "# Using at least 10 epochs\n",
    "model.fit(x_train, y_train, batch_size=5, epochs=10, shuffle = False)"
   ]
  },
  {
   "cell_type": "code",
   "execution_count": 57,
   "metadata": {},
   "outputs": [],
   "source": [
    "#Using 30% of dataset for testing the model\n",
    "test_data = scaled_data[training_data_size - 30: , :]\n",
    "x_test = []\n",
    "y_test = dataset[training_data_size:, :]\n",
    "for i in range(30, len(test_data)):\n",
    "    x_test.append(test_data[i-30:i, 0])"
   ]
  },
  {
   "cell_type": "code",
   "execution_count": 58,
   "metadata": {},
   "outputs": [],
   "source": [
    "#Converting the x_test to a numpy array\n",
    "x_test = np.array(x_test)"
   ]
  },
  {
   "cell_type": "code",
   "execution_count": 59,
   "metadata": {},
   "outputs": [],
   "source": [
    "#Reshaping the data\n",
    "x_test = np.reshape(x_test, (x_test.shape[0], x_test.shape[1],1))"
   ]
  },
  {
   "cell_type": "code",
   "execution_count": 60,
   "metadata": {},
   "outputs": [],
   "source": [
    "#Making some predictions\n",
    "predictions = model.predict(x_test)\n",
    "\n",
    "#getting the values of prediction\n",
    "predictions = scaler.inverse_transform(predictions)"
   ]
  },
  {
   "cell_type": "code",
   "execution_count": 61,
   "metadata": {},
   "outputs": [
    {
     "data": {
      "text/plain": [
       "3.4761813067007754"
      ]
     },
     "execution_count": 61,
     "metadata": {},
     "output_type": "execute_result"
    }
   ],
   "source": [
    "#Evaluating the model using Root Mean Square Error\n",
    "rmse = np.sqrt(np.mean(predictions - y_test)**2)\n",
    "rmse"
   ]
  },
  {
   "cell_type": "code",
   "execution_count": 62,
   "metadata": {},
   "outputs": [
    {
     "data": {
      "text/plain": [
       "<function matplotlib.pyplot.show(close=None, block=None)>"
      ]
     },
     "execution_count": 62,
     "metadata": {},
     "output_type": "execute_result"
    },
    {
     "data": {
      "image/png": "[encoded data removed]",
      "text/plain": [
       "<Figure size 1152x576 with 1 Axes>"
      ]
     },
     "metadata": {
      "needs_background": "light"
     },
     "output_type": "display_data"
    }
   ],
   "source": [
    "#Plotting the prediction and the actual values data as a line chart\n",
    "train = data[:training_data_size]\n",
    "valid = data[training_data_size:]\n",
    "valid['predictions'] = predictions\n",
    "plt.figure(figsize=(16,8))\n",
    "plt.title('Delta Covid')\n",
    "plt.xlabel('Date', fontsize=18)\n",
    "plt.ylabel('close price in $', fontsize=18)\n",
    "plt.plot(train['Close'])\n",
    "plt.plot(valid[['Close', 'predictions']])\n",
    "plt.legend(['Train', 'Val', 'predictions'], loc='lower right')\n",
    "plt.show"
   ]
  },
  {
   "cell_type": "code",
   "execution_count": 63,
   "metadata": {},
   "outputs": [
    {
     "data": {
      "text/html": [
       "<div>\n",
       "<style scoped>\n",
       "    .dataframe tbody tr th:only-of-type {\n",
       "        vertical-align: middle;\n",
       "    }\n",
       "\n",
       "    .dataframe tbody tr th {\n",
       "        vertical-align: top;\n",
       "    }\n",
       "\n",
       "    .dataframe thead th {\n",
       "        text-align: right;\n",
       "    }\n",
       "</style>\n",
       "<table border=\"1\" class=\"dataframe\">\n",
       "  <thead>\n",
       "    <tr style=\"text-align: right;\">\n",
       "      <th></th>\n",
       "      <th>Close</th>\n",
       "      <th>predictions</th>\n",
       "    </tr>\n",
       "    <tr>\n",
       "      <th>Date</th>\n",
       "      <th></th>\n",
       "      <th></th>\n",
       "    </tr>\n",
       "  </thead>\n",
       "  <tbody>\n",
       "    <tr>\n",
       "      <th>2020-10-12</th>\n",
       "      <td>32.639999</td>\n",
       "      <td>30.860138</td>\n",
       "    </tr>\n",
       "    <tr>\n",
       "      <th>2020-10-13</th>\n",
       "      <td>31.770000</td>\n",
       "      <td>31.010710</td>\n",
       "    </tr>\n",
       "    <tr>\n",
       "      <th>2020-10-14</th>\n",
       "      <td>31.760000</td>\n",
       "      <td>31.077379</td>\n",
       "    </tr>\n",
       "    <tr>\n",
       "      <th>2020-10-15</th>\n",
       "      <td>31.340000</td>\n",
       "      <td>31.094328</td>\n",
       "    </tr>\n",
       "    <tr>\n",
       "      <th>2020-10-16</th>\n",
       "      <td>31.469999</td>\n",
       "      <td>31.055637</td>\n",
       "    </tr>\n",
       "    <tr>\n",
       "      <th>...</th>\n",
       "      <td>...</td>\n",
       "      <td>...</td>\n",
       "    </tr>\n",
       "    <tr>\n",
       "      <th>2021-01-13</th>\n",
       "      <td>40.450001</td>\n",
       "      <td>35.757431</td>\n",
       "    </tr>\n",
       "    <tr>\n",
       "      <th>2021-01-14</th>\n",
       "      <td>41.470001</td>\n",
       "      <td>35.803890</td>\n",
       "    </tr>\n",
       "    <tr>\n",
       "      <th>2021-01-15</th>\n",
       "      <td>39.980000</td>\n",
       "      <td>35.927849</td>\n",
       "    </tr>\n",
       "    <tr>\n",
       "      <th>2021-01-19</th>\n",
       "      <td>40.310001</td>\n",
       "      <td>35.976746</td>\n",
       "    </tr>\n",
       "    <tr>\n",
       "      <th>2021-01-20</th>\n",
       "      <td>41.619999</td>\n",
       "      <td>36.007965</td>\n",
       "    </tr>\n",
       "  </tbody>\n",
       "</table>\n",
       "<p>69 rows × 2 columns</p>\n",
       "</div>"
      ],
      "text/plain": [
       "                Close  predictions\n",
       "Date                              \n",
       "2020-10-12  32.639999    30.860138\n",
       "2020-10-13  31.770000    31.010710\n",
       "2020-10-14  31.760000    31.077379\n",
       "2020-10-15  31.340000    31.094328\n",
       "2020-10-16  31.469999    31.055637\n",
       "...               ...          ...\n",
       "2021-01-13  40.450001    35.757431\n",
       "2021-01-14  41.470001    35.803890\n",
       "2021-01-15  39.980000    35.927849\n",
       "2021-01-19  40.310001    35.976746\n",
       "2021-01-20  41.619999    36.007965\n",
       "\n",
       "[69 rows x 2 columns]"
      ]
     },
     "execution_count": 63,
     "metadata": {},
     "output_type": "execute_result"
    }
   ],
   "source": [
    "#Printing the data in a table\n",
    "valid"
   ]
  },
  {
   "cell_type": "code",
   "execution_count": 64,
   "metadata": {},
   "outputs": [],
   "source": [
    "#Slicing etsy to precovid times and creating a new dataframe"
   ]
  },
  {
   "cell_type": "code",
   "execution_count": 65,
   "metadata": {},
   "outputs": [
    {
     "data": {
      "text/html": [
       "<div>\n",
       "<style scoped>\n",
       "    .dataframe tbody tr th:only-of-type {\n",
       "        vertical-align: middle;\n",
       "    }\n",
       "\n",
       "    .dataframe tbody tr th {\n",
       "        vertical-align: top;\n",
       "    }\n",
       "\n",
       "    .dataframe thead th {\n",
       "        text-align: right;\n",
       "    }\n",
       "</style>\n",
       "<table border=\"1\" class=\"dataframe\">\n",
       "  <thead>\n",
       "    <tr style=\"text-align: right;\">\n",
       "      <th></th>\n",
       "      <th>Open</th>\n",
       "      <th>High</th>\n",
       "      <th>Low</th>\n",
       "      <th>Close</th>\n",
       "      <th>Adj Close</th>\n",
       "      <th>Volume</th>\n",
       "    </tr>\n",
       "    <tr>\n",
       "      <th>Date</th>\n",
       "      <th></th>\n",
       "      <th></th>\n",
       "      <th></th>\n",
       "      <th></th>\n",
       "      <th></th>\n",
       "      <th></th>\n",
       "    </tr>\n",
       "  </thead>\n",
       "  <tbody>\n",
       "    <tr>\n",
       "      <th>2020-02-21</th>\n",
       "      <td>54.180000</td>\n",
       "      <td>54.270000</td>\n",
       "      <td>52.840000</td>\n",
       "      <td>53.700001</td>\n",
       "      <td>53.700001</td>\n",
       "      <td>2006000</td>\n",
       "    </tr>\n",
       "    <tr>\n",
       "      <th>2020-02-24</th>\n",
       "      <td>50.970001</td>\n",
       "      <td>51.939999</td>\n",
       "      <td>50.060001</td>\n",
       "      <td>51.330002</td>\n",
       "      <td>51.330002</td>\n",
       "      <td>3818600</td>\n",
       "    </tr>\n",
       "    <tr>\n",
       "      <th>2020-02-25</th>\n",
       "      <td>52.049999</td>\n",
       "      <td>52.759998</td>\n",
       "      <td>49.200001</td>\n",
       "      <td>49.889999</td>\n",
       "      <td>49.889999</td>\n",
       "      <td>3998100</td>\n",
       "    </tr>\n",
       "    <tr>\n",
       "      <th>2020-02-26</th>\n",
       "      <td>50.290001</td>\n",
       "      <td>52.650002</td>\n",
       "      <td>50.000000</td>\n",
       "      <td>50.689999</td>\n",
       "      <td>50.689999</td>\n",
       "      <td>6523100</td>\n",
       "    </tr>\n",
       "    <tr>\n",
       "      <th>2020-02-27</th>\n",
       "      <td>55.424999</td>\n",
       "      <td>60.080002</td>\n",
       "      <td>53.810001</td>\n",
       "      <td>57.919998</td>\n",
       "      <td>57.919998</td>\n",
       "      <td>13157400</td>\n",
       "    </tr>\n",
       "  </tbody>\n",
       "</table>\n",
       "</div>"
      ],
      "text/plain": [
       "                 Open       High        Low      Close  Adj Close    Volume\n",
       "Date                                                                       \n",
       "2020-02-21  54.180000  54.270000  52.840000  53.700001  53.700001   2006000\n",
       "2020-02-24  50.970001  51.939999  50.060001  51.330002  51.330002   3818600\n",
       "2020-02-25  52.049999  52.759998  49.200001  49.889999  49.889999   3998100\n",
       "2020-02-26  50.290001  52.650002  50.000000  50.689999  50.689999   6523100\n",
       "2020-02-27  55.424999  60.080002  53.810001  57.919998  57.919998  13157400"
      ]
     },
     "execution_count": 65,
     "metadata": {},
     "output_type": "execute_result"
    }
   ],
   "source": [
    "etsy_covid = etsy['2020-02-21' :'2021-01-22']\n",
    "etsy_covid.head()"
   ]
  },
  {
   "cell_type": "code",
   "execution_count": 66,
   "metadata": {},
   "outputs": [
    {
     "data": {
      "text/plain": [
       "Text(0, 0.5, 'ETSY Close price in $')"
      ]
     },
     "execution_count": 66,
     "metadata": {},
     "output_type": "execute_result"
    },
    {
     "data": {
      "image/png": "[encoded data removed]",
      "text/plain": [
       "<Figure size 1152x576 with 1 Axes>"
      ]
     },
     "metadata": {
      "needs_background": "light"
     },
     "output_type": "display_data"
    }
   ],
   "source": [
    "#Plotting the historical close prices\n",
    "plt.figure(figsize=(16,8))\n",
    "plt.title(\"ETSY CLose Price\")\n",
    "plt.plot(etsy_covid[\"Close\"])\n",
    "plt.xlabel(\"Date\", fontsize=18)\n",
    "plt.ylabel(\"ETSY Close price in $\", fontsize=18)"
   ]
  },
  {
   "cell_type": "code",
   "execution_count": 67,
   "metadata": {},
   "outputs": [
    {
     "data": {
      "text/plain": [
       "231"
      ]
     },
     "execution_count": 67,
     "metadata": {},
     "output_type": "execute_result"
    }
   ],
   "source": [
    "#Creating a new dataframe with only the closing price\n",
    "data = etsy_covid.filter(['Close'])\n",
    "\n",
    "#converting data to a numpy array\n",
    "dataset = data.values\n",
    "len(dataset)"
   ]
  },
  {
   "cell_type": "code",
   "execution_count": 68,
   "metadata": {},
   "outputs": [
    {
     "data": {
      "text/plain": [
       "162"
      ]
     },
     "execution_count": 68,
     "metadata": {},
     "output_type": "execute_result"
    }
   ],
   "source": [
    "#Preparing the training data using 70% of the data for training\n",
    "training_data_size = math.ceil(len(dataset)*.7)\n",
    "training_data_size"
   ]
  },
  {
   "cell_type": "code",
   "execution_count": 69,
   "metadata": {},
   "outputs": [
    {
     "data": {
      "text/plain": [
       "array([[0.11607426],\n",
       "       [0.10357558],\n",
       "       [0.09598143],\n",
       "       [0.10020039],\n",
       "       [0.13832928],\n",
       "       [0.13774919],\n",
       "       [0.1431811 ],\n",
       "       [0.13985866],\n",
       "       [0.16227191],\n",
       "       [0.16053159],\n",
       "       [0.15272651],\n",
       "       [0.14138804],\n",
       "       [0.13859298],\n",
       "       [0.09777449],\n",
       "       [0.06513026],\n",
       "       [0.09134057],\n",
       "       [0.05252611],\n",
       "       [0.05500474],\n",
       "       [0.03986921],\n",
       "       [0.0156629 ],\n",
       "       [0.        ],\n",
       "       [0.00706676],\n",
       "       [0.03396267],\n",
       "       [0.05062757],\n",
       "       [0.05373906],\n",
       "       [0.03681045],\n",
       "       [0.03681045],\n",
       "       [0.0355975 ],\n",
       "       [0.01982913],\n",
       "       [0.01640122],\n",
       "       [0.03406814],\n",
       "       [0.07789262],\n",
       "       [0.08437928],\n",
       "       [0.10183525],\n",
       "       [0.11596878],\n",
       "       [0.12525049],\n",
       "       [0.13695813],\n",
       "       [0.13200085],\n",
       "       [0.14782197],\n",
       "       [0.15488873],\n",
       "       [0.17593083],\n",
       "       [0.15652357],\n",
       "       [0.16380129],\n",
       "       [0.16432865],\n",
       "       [0.18194285],\n",
       "       [0.19823858],\n",
       "       [0.18225926],\n",
       "       [0.19322857],\n",
       "       [0.17498156],\n",
       "       [0.17274022],\n",
       "       [0.1898534 ],\n",
       "       [0.21674929],\n",
       "       [0.24549097],\n",
       "       [0.23678935],\n",
       "       [0.25851703],\n",
       "       [0.25624934],\n",
       "       [0.24960446],\n",
       "       [0.26294696],\n",
       "       [0.26336883],\n",
       "       [0.28446365],\n",
       "       [0.24517456],\n",
       "       [0.23939985],\n",
       "       [0.22995991],\n",
       "       [0.22476531],\n",
       "       [0.24148298],\n",
       "       [0.22355238],\n",
       "       [0.23494356],\n",
       "       [0.24322328],\n",
       "       [0.25994095],\n",
       "       [0.24733676],\n",
       "       [0.2645818 ],\n",
       "       [0.25825337],\n",
       "       [0.25635483],\n",
       "       [0.24802237],\n",
       "       [0.23615653],\n",
       "       [0.23562917],\n",
       "       [0.25377069],\n",
       "       [0.2416939 ],\n",
       "       [0.25350703],\n",
       "       [0.27539291],\n",
       "       [0.27876808],\n",
       "       [0.28810252],\n",
       "       [0.29168864],\n",
       "       [0.33593503],\n",
       "       [0.34073412],\n",
       "       [0.36668074],\n",
       "       [0.35059592],\n",
       "       [0.36699715],\n",
       "       [0.37364203],\n",
       "       [0.37548782],\n",
       "       [0.39310201],\n",
       "       [0.41936504],\n",
       "       [0.41656999],\n",
       "       [0.42864678],\n",
       "       [0.42463875],\n",
       "       [0.42300391],\n",
       "       [0.43676829],\n",
       "       [0.41978695],\n",
       "       [0.38434764],\n",
       "       [0.37997046],\n",
       "       [0.37063602],\n",
       "       [0.37786097],\n",
       "       [0.37453855],\n",
       "       [0.39552791],\n",
       "       [0.38476955],\n",
       "       [0.3825546 ],\n",
       "       [0.37322012],\n",
       "       [0.36863198],\n",
       "       [0.39162534],\n",
       "       [0.37316737],\n",
       "       [0.40607532],\n",
       "       [0.42553527],\n",
       "       [0.4571775 ],\n",
       "       [0.50063286],\n",
       "       [0.51740325],\n",
       "       [0.54756885],\n",
       "       [0.52193864],\n",
       "       [0.54514291],\n",
       "       [0.54334987],\n",
       "       [0.50527371],\n",
       "       [0.47653203],\n",
       "       [0.51176035],\n",
       "       [0.5145554 ],\n",
       "       [0.51698134],\n",
       "       [0.5343318 ],\n",
       "       [0.52441729],\n",
       "       [0.51893259],\n",
       "       [0.52040922],\n",
       "       [0.51181313],\n",
       "       [0.49462084],\n",
       "       [0.50216224],\n",
       "       [0.47821962],\n",
       "       [0.46392788],\n",
       "       [0.46413879],\n",
       "       [0.49235315],\n",
       "       [0.48876703],\n",
       "       [0.44568082],\n",
       "       [0.42374223],\n",
       "       [0.41593713],\n",
       "       [0.4272756 ],\n",
       "       [0.41598988],\n",
       "       [0.4170446 ],\n",
       "       [0.42643183],\n",
       "       [0.41828393],\n",
       "       [0.40665544],\n",
       "       [0.40892313],\n",
       "       [0.42221285],\n",
       "       [0.44467885],\n",
       "       [0.462293  ],\n",
       "       [0.43982701],\n",
       "       [0.4323911 ],\n",
       "       [0.45665014],\n",
       "       [0.48518091],\n",
       "       [0.48275501],\n",
       "       [0.47431705],\n",
       "       [0.52737055],\n",
       "       [0.52705414],\n",
       "       [0.55373908],\n",
       "       [0.54250606],\n",
       "       [0.5852231 ],\n",
       "       [0.56876909],\n",
       "       [0.60637063],\n",
       "       [0.610115  ],\n",
       "       [0.64080792],\n",
       "       [0.62377388],\n",
       "       [0.62746545],\n",
       "       [0.61122243],\n",
       "       [0.61533592],\n",
       "       [0.59645604],\n",
       "       [0.5343318 ],\n",
       "       [0.5497838 ],\n",
       "       [0.5598302 ],\n",
       "       [0.5697711 ],\n",
       "       [0.60167704],\n",
       "       [0.56929649],\n",
       "       [0.53122033],\n",
       "       [0.47410609],\n",
       "       [0.4996836 ],\n",
       "       [0.52083113],\n",
       "       [0.55115493],\n",
       "       [0.59039131],\n",
       "       [0.60431389],\n",
       "       [0.47204935],\n",
       "       [0.46271491],\n",
       "       [0.52156944],\n",
       "       [0.50279506],\n",
       "       [0.49166754],\n",
       "       [0.49535916],\n",
       "       [0.51223504],\n",
       "       [0.50268961],\n",
       "       [0.54218965],\n",
       "       [0.57151144],\n",
       "       [0.57224975],\n",
       "       [0.55853817],\n",
       "       [0.59803817],\n",
       "       [0.67956969],\n",
       "       [0.68036071],\n",
       "       [0.64856028],\n",
       "       [0.64829657],\n",
       "       [0.64892947],\n",
       "       [0.65045881],\n",
       "       [0.66047882],\n",
       "       [0.69760575],\n",
       "       [0.67260836],\n",
       "       [0.70461979],\n",
       "       [0.72951169],\n",
       "       [0.72924798],\n",
       "       [0.77054111],\n",
       "       [0.79448369],\n",
       "       [0.82486029],\n",
       "       [0.83888828],\n",
       "       [0.83066132],\n",
       "       [0.87380027],\n",
       "       [0.83577682],\n",
       "       [0.83651513],\n",
       "       [0.77222865],\n",
       "       [0.76637484],\n",
       "       [0.79891359],\n",
       "       [0.77112122],\n",
       "       [0.74037551],\n",
       "       [0.75566922],\n",
       "       [0.71659112],\n",
       "       [0.73357238],\n",
       "       [0.75920259],\n",
       "       [0.79817527],\n",
       "       [0.9147769 ],\n",
       "       [0.92469149],\n",
       "       [0.94837046],\n",
       "       [0.91092712],\n",
       "       [1.        ],\n",
       "       [0.9703618 ]])"
      ]
     },
     "execution_count": 69,
     "metadata": {},
     "output_type": "execute_result"
    }
   ],
   "source": [
    "#Normalizing the data using MinMaxScaler (making all the values between 0 and 1)\n",
    "scaler = MinMaxScaler(feature_range=(0,1))\n",
    "\n",
    "#fitting and scaling the features\n",
    "scaled_data = scaler.fit_transform(dataset)\n",
    "scaled_data"
   ]
  },
  {
   "cell_type": "code",
   "execution_count": 70,
   "metadata": {},
   "outputs": [],
   "source": [
    "#LSTM specifying the shape of the input (3 dimetional, number of samples, steps and features) \n",
    "#Creating the training dataset \n",
    "train_data = scaled_data[0:training_data_size, :]\n",
    "\n",
    "#splitting the data into x_train and y_train\n",
    "x_train = []\n",
    "y_train = []\n",
    "for i in range(60, len(train_data)):\n",
    "    x_train.append(train_data[i-30:i, 0])\n",
    "    y_train.append(train_data[i,0])\n",
    "    if i<=31:\n",
    "        print(x_train)\n",
    "        print(y_train)"
   ]
  },
  {
   "cell_type": "code",
   "execution_count": 71,
   "metadata": {},
   "outputs": [],
   "source": [
    "#converting y_train to a numpy array\n",
    "y_train = np.asarray(y_train)"
   ]
  },
  {
   "cell_type": "code",
   "execution_count": 72,
   "metadata": {},
   "outputs": [
    {
     "data": {
      "text/plain": [
       "(102, 30, 1)"
      ]
     },
     "execution_count": 72,
     "metadata": {},
     "output_type": "execute_result"
    }
   ],
   "source": [
    "#converting x_train to a numpy array\n",
    "x_train, Y_train = np.array(x_train), np.array(y_train)\n",
    "\n",
    "#reshaping the data into 3d\n",
    "x_train = np.reshape(x_train, (x_train.shape[0], x_train.shape[1], 1))\n",
    "x_train.shape"
   ]
  },
  {
   "cell_type": "markdown",
   "metadata": {},
   "source": [
    "### Building Compiling training and testing the LSTM model"
   ]
  },
  {
   "cell_type": "code",
   "execution_count": 73,
   "metadata": {},
   "outputs": [],
   "source": [
    "#Building the LSTM model using sequential\n",
    "model=Sequential()\n",
    "\n",
    "#Layer1\n",
    "model.add(LSTM(50, return_sequences=True, input_shape=(x_train.shape[1], 1)))\n",
    "\n",
    "#Layer2\n",
    "model.add(LSTM(50, return_sequences=False))\n",
    "\n",
    "#Layer3\n",
    "model.add(Dense(25))\n",
    "\n",
    "#Output Layer\n",
    "model.add(Dense(1))"
   ]
  },
  {
   "cell_type": "code",
   "execution_count": 74,
   "metadata": {},
   "outputs": [
    {
     "name": "stdout",
     "output_type": "stream",
     "text": [
      "Model: \"sequential_3\"\n",
      "_________________________________________________________________\n",
      "Layer (type)                 Output Shape              Param #   \n",
      "=================================================================\n",
      "lstm_6 (LSTM)                (None, 30, 50)            10400     \n",
      "_________________________________________________________________\n",
      "lstm_7 (LSTM)                (None, 50)                20200     \n",
      "_________________________________________________________________\n",
      "dense_6 (Dense)              (None, 25)                1275      \n",
      "_________________________________________________________________\n",
      "dense_7 (Dense)              (None, 1)                 26        \n",
      "=================================================================\n",
      "Total params: 31,901\n",
      "Trainable params: 31,901\n",
      "Non-trainable params: 0\n",
      "_________________________________________________________________\n"
     ]
    }
   ],
   "source": [
    "# Summarizing the model\n",
    "model.summary()"
   ]
  },
  {
   "cell_type": "code",
   "execution_count": 75,
   "metadata": {},
   "outputs": [],
   "source": [
    "#Compiling the model\n",
    "model.compile(optimizer='adam', loss='mean_squared_error')"
   ]
  },
  {
   "cell_type": "code",
   "execution_count": 76,
   "metadata": {},
   "outputs": [
    {
     "name": "stdout",
     "output_type": "stream",
     "text": [
      "Epoch 1/10\n",
      "21/21 [==============================] - 15s 100ms/step - loss: 0.0192\n",
      "Epoch 2/10\n",
      "21/21 [==============================] - 2s 101ms/step - loss: 0.0077\n",
      "Epoch 3/10\n",
      "21/21 [==============================] - 2s 102ms/step - loss: 0.0035\n",
      "Epoch 4/10\n",
      "21/21 [==============================] - 2s 102ms/step - loss: 0.0021\n",
      "Epoch 5/10\n",
      "21/21 [==============================] - 2s 95ms/step - loss: 0.0018\n",
      "Epoch 6/10\n",
      "21/21 [==============================] - 2s 93ms/step - loss: 0.0018\n",
      "Epoch 7/10\n",
      "21/21 [==============================] - 2s 110ms/step - loss: 0.0018\n",
      "Epoch 8/10\n",
      "21/21 [==============================] - 3s 139ms/step - loss: 0.0017\n",
      "Epoch 9/10\n",
      "21/21 [==============================] - 3s 130ms/step - loss: 0.0016\n",
      "Epoch 10/10\n",
      "21/21 [==============================] - 2s 116ms/step - loss: 0.0015\n"
     ]
    },
    {
     "data": {
      "text/plain": [
       "<tensorflow.python.keras.callbacks.History at 0x1f4af4aeec8>"
      ]
     },
     "execution_count": 76,
     "metadata": {},
     "output_type": "execute_result"
    }
   ],
   "source": [
    "# Training the model\n",
    "# Using at least 10 epochs\n",
    "model.fit(x_train, y_train, batch_size=5, epochs=10, shuffle = False)"
   ]
  },
  {
   "cell_type": "code",
   "execution_count": 77,
   "metadata": {},
   "outputs": [],
   "source": [
    "#Using 30% of dataset for testing the model\n",
    "test_data = scaled_data[training_data_size - 30: , :]\n",
    "x_test = []\n",
    "y_test = dataset[training_data_size:, :]\n",
    "for i in range(30, len(test_data)):\n",
    "    x_test.append(test_data[i-30:i, 0])"
   ]
  },
  {
   "cell_type": "code",
   "execution_count": 78,
   "metadata": {},
   "outputs": [],
   "source": [
    "#Converting the x_test to a numpy array\n",
    "x_test = np.array(x_test)"
   ]
  },
  {
   "cell_type": "code",
   "execution_count": 79,
   "metadata": {},
   "outputs": [],
   "source": [
    "#Reshaping the data\n",
    "x_test = np.reshape(x_test, (x_test.shape[0], x_test.shape[1],1))"
   ]
  },
  {
   "cell_type": "code",
   "execution_count": 80,
   "metadata": {},
   "outputs": [],
   "source": [
    "#Making some predictions\n",
    "predictions = model.predict(x_test)\n",
    "\n",
    "#getting the values of prediction\n",
    "predictions = scaler.inverse_transform(predictions)"
   ]
  },
  {
   "cell_type": "code",
   "execution_count": 81,
   "metadata": {},
   "outputs": [
    {
     "data": {
      "text/plain": [
       "12.745665066484092"
      ]
     },
     "execution_count": 81,
     "metadata": {},
     "output_type": "execute_result"
    }
   ],
   "source": [
    "#Evaluating the model using Root Mean Square Error\n",
    "rmse = np.sqrt(np.mean(predictions - y_test)**2)\n",
    "rmse"
   ]
  },
  {
   "cell_type": "code",
   "execution_count": 82,
   "metadata": {},
   "outputs": [
    {
     "data": {
      "text/plain": [
       "<function matplotlib.pyplot.show(close=None, block=None)>"
      ]
     },
     "execution_count": 82,
     "metadata": {},
     "output_type": "execute_result"
    },
    {
     "data": {
      "image/png": "[encoded data removed]",
      "text/plain": [
       "<Figure size 1152x576 with 1 Axes>"
      ]
     },
     "metadata": {
      "needs_background": "light"
     },
     "output_type": "display_data"
    }
   ],
   "source": [
    "#Plotting the prediction and the actual values data as a line chart\n",
    "train = data[:training_data_size]\n",
    "valid = data[training_data_size:]\n",
    "valid['predictions'] = predictions\n",
    "plt.figure(figsize=(16,8))\n",
    "plt.title('ETSY Covid')\n",
    "plt.xlabel('Date', fontsize=18)\n",
    "plt.ylabel('close price in $', fontsize=18)\n",
    "plt.plot(train['Close'])\n",
    "plt.plot(valid[['Close', 'predictions']])\n",
    "plt.legend(['Train', 'Val', 'predictions'], loc='lower right')\n",
    "plt.show"
   ]
  },
  {
   "cell_type": "code",
   "execution_count": null,
   "metadata": {},
   "outputs": [],
   "source": []
  },
  {
   "cell_type": "code",
   "execution_count": 83,
   "metadata": {},
   "outputs": [
    {
     "data": {
      "text/html": [
       "<div>\n",
       "<style scoped>\n",
       "    .dataframe tbody tr th:only-of-type {\n",
       "        vertical-align: middle;\n",
       "    }\n",
       "\n",
       "    .dataframe tbody tr th {\n",
       "        vertical-align: top;\n",
       "    }\n",
       "\n",
       "    .dataframe thead th {\n",
       "        text-align: right;\n",
       "    }\n",
       "</style>\n",
       "<table border=\"1\" class=\"dataframe\">\n",
       "  <thead>\n",
       "    <tr style=\"text-align: right;\">\n",
       "      <th></th>\n",
       "      <th>Open</th>\n",
       "      <th>High</th>\n",
       "      <th>Low</th>\n",
       "      <th>Close</th>\n",
       "      <th>Adj Close</th>\n",
       "      <th>Volume</th>\n",
       "    </tr>\n",
       "    <tr>\n",
       "      <th>Date</th>\n",
       "      <th></th>\n",
       "      <th></th>\n",
       "      <th></th>\n",
       "      <th></th>\n",
       "      <th></th>\n",
       "      <th></th>\n",
       "    </tr>\n",
       "  </thead>\n",
       "  <tbody>\n",
       "    <tr>\n",
       "      <th>2020-02-21</th>\n",
       "      <td>121.720001</td>\n",
       "      <td>121.849998</td>\n",
       "      <td>118.529999</td>\n",
       "      <td>119.489998</td>\n",
       "      <td>119.489998</td>\n",
       "      <td>5894500</td>\n",
       "    </tr>\n",
       "    <tr>\n",
       "      <th>2020-02-24</th>\n",
       "      <td>114.290001</td>\n",
       "      <td>116.790001</td>\n",
       "      <td>113.519997</td>\n",
       "      <td>116.440002</td>\n",
       "      <td>116.440002</td>\n",
       "      <td>10139300</td>\n",
       "    </tr>\n",
       "    <tr>\n",
       "      <th>2020-02-25</th>\n",
       "      <td>115.669998</td>\n",
       "      <td>116.415001</td>\n",
       "      <td>109.330002</td>\n",
       "      <td>109.660004</td>\n",
       "      <td>109.660004</td>\n",
       "      <td>13636100</td>\n",
       "    </tr>\n",
       "    <tr>\n",
       "      <th>2020-02-26</th>\n",
       "      <td>109.809998</td>\n",
       "      <td>112.629997</td>\n",
       "      <td>108.599998</td>\n",
       "      <td>109.110001</td>\n",
       "      <td>109.110001</td>\n",
       "      <td>10301800</td>\n",
       "    </tr>\n",
       "    <tr>\n",
       "      <th>2020-02-27</th>\n",
       "      <td>106.300003</td>\n",
       "      <td>112.050003</td>\n",
       "      <td>106.300003</td>\n",
       "      <td>107.839996</td>\n",
       "      <td>107.839996</td>\n",
       "      <td>15461900</td>\n",
       "    </tr>\n",
       "  </tbody>\n",
       "</table>\n",
       "</div>"
      ],
      "text/plain": [
       "                  Open        High         Low       Close   Adj Close  \\\n",
       "Date                                                                     \n",
       "2020-02-21  121.720001  121.849998  118.529999  119.489998  119.489998   \n",
       "2020-02-24  114.290001  116.790001  113.519997  116.440002  116.440002   \n",
       "2020-02-25  115.669998  116.415001  109.330002  109.660004  109.660004   \n",
       "2020-02-26  109.809998  112.629997  108.599998  109.110001  109.110001   \n",
       "2020-02-27  106.300003  112.050003  106.300003  107.839996  107.839996   \n",
       "\n",
       "              Volume  \n",
       "Date                  \n",
       "2020-02-21   5894500  \n",
       "2020-02-24  10139300  \n",
       "2020-02-25  13636100  \n",
       "2020-02-26  10301800  \n",
       "2020-02-27  15461900  "
      ]
     },
     "execution_count": 83,
     "metadata": {},
     "output_type": "execute_result"
    }
   ],
   "source": [
    "#Slicing PP to covid times and creating a new dataframe\n",
    "covid_pp = PP['2020-02-21' :'2021-01-22']\n",
    "covid_pp.head()"
   ]
  },
  {
   "cell_type": "code",
   "execution_count": 84,
   "metadata": {},
   "outputs": [
    {
     "data": {
      "text/plain": [
       "Text(0.5, 0, 'Date')"
      ]
     },
     "execution_count": 84,
     "metadata": {},
     "output_type": "execute_result"
    },
    {
     "data": {
      "image/png": "[encoded data removed]",
      "text/plain": [
       "<Figure size 1152x576 with 1 Axes>"
      ]
     },
     "metadata": {
      "needs_background": "light"
     },
     "output_type": "display_data"
    }
   ],
   "source": [
    "#Plotting the historical close prices\n",
    "plt.figure(figsize=(16,8))\n",
    "plt.title(\"PAY PAL CLose Price\")\n",
    "plt.plot(covid_pp[\"Close\"])\n",
    "plt.xlabel(\"Date\", fontsize=18)"
   ]
  },
  {
   "cell_type": "code",
   "execution_count": 85,
   "metadata": {},
   "outputs": [
    {
     "data": {
      "text/plain": [
       "231"
      ]
     },
     "execution_count": 85,
     "metadata": {},
     "output_type": "execute_result"
    }
   ],
   "source": [
    "#Creating a new dataframe with only the closing price\n",
    "data = covid_pp.filter(['Close'])\n",
    "\n",
    "#converting data to a numpy array\n",
    "dataset = data.values\n",
    "len(dataset)"
   ]
  },
  {
   "cell_type": "code",
   "execution_count": 86,
   "metadata": {},
   "outputs": [
    {
     "data": {
      "text/plain": [
       "162"
      ]
     },
     "execution_count": 86,
     "metadata": {},
     "output_type": "execute_result"
    }
   ],
   "source": [
    "#Preparing the training data using 70% of the data for training\n",
    "training_data_size = math.ceil(len(dataset)*.7)\n",
    "training_data_size"
   ]
  },
  {
   "cell_type": "code",
   "execution_count": 87,
   "metadata": {},
   "outputs": [
    {
     "data": {
      "text/plain": [
       "array([[0.21130932],\n",
       "       [0.19248102],\n",
       "       [0.15062659],\n",
       "       [0.1472313 ],\n",
       "       [0.13939129],\n",
       "       [0.14031728],\n",
       "       [0.17038088],\n",
       "       [0.15124391],\n",
       "       [0.18544355],\n",
       "       [0.16618309],\n",
       "       [0.15821963],\n",
       "       [0.10105559],\n",
       "       [0.15112042],\n",
       "       [0.11506883],\n",
       "       [0.07222666],\n",
       "       [0.15365146],\n",
       "       [0.04605222],\n",
       "       [0.07784432],\n",
       "       [0.03827395],\n",
       "       [0.05204025],\n",
       "       [0.00876596],\n",
       "       [0.        ],\n",
       "       [0.07426384],\n",
       "       [0.06451014],\n",
       "       [0.09488237],\n",
       "       [0.05074388],\n",
       "       [0.07265879],\n",
       "       [0.06469533],\n",
       "       [0.03778008],\n",
       "       [0.05099077],\n",
       "       [0.04401505],\n",
       "       [0.10130253],\n",
       "       [0.09272175],\n",
       "       [0.12222974],\n",
       "       [0.12704485],\n",
       "       [0.12790914],\n",
       "       [0.15139825],\n",
       "       [0.14007034],\n",
       "       [0.14229271],\n",
       "       [0.16414591],\n",
       "       [0.16612134],\n",
       "       [0.13753935],\n",
       "       [0.1847645 ],\n",
       "       [0.18507313],\n",
       "       [0.21556885],\n",
       "       [0.21772947],\n",
       "       [0.19062904],\n",
       "       [0.23655781],\n",
       "       [0.23297733],\n",
       "       [0.21822334],\n",
       "       [0.23705168],\n",
       "       [0.24797826],\n",
       "       [0.26575712],\n",
       "       [0.3767516 ],\n",
       "       [0.3685413 ],\n",
       "       [0.36236808],\n",
       "       [0.34428049],\n",
       "       [0.36094817],\n",
       "       [0.36514601],\n",
       "       [0.3719365 ],\n",
       "       [0.37644302],\n",
       "       [0.37119574],\n",
       "       [0.40545713],\n",
       "       [0.38866597],\n",
       "       [0.40496327],\n",
       "       [0.38113463],\n",
       "       [0.37471452],\n",
       "       [0.39218465],\n",
       "       [0.43058209],\n",
       "       [0.42761897],\n",
       "       [0.44589175],\n",
       "       [0.44150872],\n",
       "       [0.42805114],\n",
       "       [0.43669362],\n",
       "       [0.43724918],\n",
       "       [0.44200259],\n",
       "       [0.46083093],\n",
       "       [0.41842084],\n",
       "       [0.4321254 ],\n",
       "       [0.44626213],\n",
       "       [0.46891783],\n",
       "       [0.48502994],\n",
       "       [0.51108094],\n",
       "       [0.48830174],\n",
       "       [0.52472371],\n",
       "       [0.54034195],\n",
       "       [0.51077226],\n",
       "       [0.53855176],\n",
       "       [0.52848938],\n",
       "       [0.51293293],\n",
       "       [0.5492314 ],\n",
       "       [0.56898569],\n",
       "       [0.56762767],\n",
       "       [0.56126916],\n",
       "       [0.56805974],\n",
       "       [0.59454291],\n",
       "       [0.60479039],\n",
       "       [0.57497372],\n",
       "       [0.53244023],\n",
       "       [0.53731713],\n",
       "       [0.53583552],\n",
       "       [0.52194578],\n",
       "       [0.54731772],\n",
       "       [0.57756656],\n",
       "       [0.55756529],\n",
       "       [0.57509721],\n",
       "       [0.54694734],\n",
       "       [0.53892213],\n",
       "       [0.57238098],\n",
       "       [0.56182482],\n",
       "       [0.61324776],\n",
       "       [0.66207787],\n",
       "       [0.68405461],\n",
       "       [0.69022783],\n",
       "       [0.69183284],\n",
       "       [0.72627942],\n",
       "       [0.73356377],\n",
       "       [0.69985804],\n",
       "       [0.66707826],\n",
       "       [0.64059509],\n",
       "       [0.65473181],\n",
       "       [0.66553495],\n",
       "       [0.65559606],\n",
       "       [0.68541263],\n",
       "       [0.67479478],\n",
       "       [0.66164579],\n",
       "       [0.69708002],\n",
       "       [0.68849924],\n",
       "       [0.70140135],\n",
       "       [0.71862459],\n",
       "       [0.72979811],\n",
       "       [0.73510708],\n",
       "       [0.73597133],\n",
       "       [0.73387245],\n",
       "       [0.76344214],\n",
       "       [0.77510962],\n",
       "       [0.73911973],\n",
       "       [0.65794182],\n",
       "       [0.62158156],\n",
       "       [0.67497997],\n",
       "       [0.64713869],\n",
       "       [0.60954379],\n",
       "       [0.62781657],\n",
       "       [0.62201373],\n",
       "       [0.59046856],\n",
       "       [0.55886161],\n",
       "       [0.5605902 ],\n",
       "       [0.60466699],\n",
       "       [0.63287856],\n",
       "       [0.5947898 ],\n",
       "       [0.59837028],\n",
       "       [0.62960676],\n",
       "       [0.65905305],\n",
       "       [0.67436261],\n",
       "       [0.68998085],\n",
       "       [0.68942528],\n",
       "       [0.65837399],\n",
       "       [0.68886972],\n",
       "       [0.65683069],\n",
       "       [0.67504167],\n",
       "       [0.66547316],\n",
       "       [0.69146246],\n",
       "       [0.71763685],\n",
       "       [0.75609609],\n",
       "       [0.73053896],\n",
       "       [0.72769923],\n",
       "       [0.73578614],\n",
       "       [0.7086857 ],\n",
       "       [0.72041488],\n",
       "       [0.78899936],\n",
       "       [0.73257604],\n",
       "       [0.72708187],\n",
       "       [0.69115378],\n",
       "       [0.71096976],\n",
       "       [0.66084324],\n",
       "       [0.67769611],\n",
       "       [0.62269278],\n",
       "       [0.63275507],\n",
       "       [0.58367798],\n",
       "       [0.67306619],\n",
       "       [0.7364652 ],\n",
       "       [0.72516819],\n",
       "       [0.61398852],\n",
       "       [0.60559294],\n",
       "       [0.66102843],\n",
       "       [0.64102726],\n",
       "       [0.63806404],\n",
       "       [0.65855918],\n",
       "       [0.66078154],\n",
       "       [0.64732387],\n",
       "       [0.65213898],\n",
       "       [0.66306561],\n",
       "       [0.71337741],\n",
       "       [0.74535465],\n",
       "       [0.79758014],\n",
       "       [0.7786283 ],\n",
       "       [0.79548117],\n",
       "       [0.81042035],\n",
       "       [0.78585096],\n",
       "       [0.79807391],\n",
       "       [0.81801348],\n",
       "       [0.81900113],\n",
       "       [0.8128897 ],\n",
       "       [0.77498613],\n",
       "       [0.80301251],\n",
       "       [0.79511079],\n",
       "       [0.83665654],\n",
       "       [0.84165693],\n",
       "       [0.89474657],\n",
       "       [0.92752636],\n",
       "       [0.9333292 ],\n",
       "       [0.94116921],\n",
       "       [0.97678872],\n",
       "       [0.95178716],\n",
       "       [0.94684857],\n",
       "       [0.92888447],\n",
       "       [0.89987035],\n",
       "       [0.90283347],\n",
       "       [0.91943945],\n",
       "       [0.90536452],\n",
       "       [0.92382248],\n",
       "       [0.87394285],\n",
       "       [0.92462493],\n",
       "       [0.97043031],\n",
       "       [0.9398111 ],\n",
       "       [0.94067535],\n",
       "       [0.98549289],\n",
       "       [0.96796097],\n",
       "       [0.95394773],\n",
       "       [1.        ],\n",
       "       [0.98154204]])"
      ]
     },
     "execution_count": 87,
     "metadata": {},
     "output_type": "execute_result"
    }
   ],
   "source": [
    "#Normalizing the data using MinMaxScaler (making all the values between 0 and 1)\n",
    "scaler = MinMaxScaler(feature_range=(0,1))\n",
    "\n",
    "#fitting and scaling the features\n",
    "scaled_data = scaler.fit_transform(dataset)\n",
    "scaled_data"
   ]
  },
  {
   "cell_type": "code",
   "execution_count": 88,
   "metadata": {},
   "outputs": [],
   "source": [
    "#LSTM specifying the shape of the input (3 dimetional, number of samples, steps and features) \n",
    "#Creating the training dataset\n",
    "train_data = scaled_data[0:training_data_size, :]\n",
    "\n",
    "#splitting the data into x_train and y_train\n",
    "x_train = []\n",
    "y_train = []\n",
    "for i in range(60, len(train_data)):\n",
    "    x_train.append(train_data[i-30:i, 0])\n",
    "    y_train.append(train_data[i,0])\n",
    "    if i<=31:\n",
    "        print(x_train)\n",
    "        print(y_train)"
   ]
  },
  {
   "cell_type": "code",
   "execution_count": 89,
   "metadata": {},
   "outputs": [],
   "source": [
    "#converting y_train to a numpy array\n",
    "y_train = np.asarray(y_train)"
   ]
  },
  {
   "cell_type": "code",
   "execution_count": 90,
   "metadata": {},
   "outputs": [
    {
     "data": {
      "text/plain": [
       "(102, 30, 1)"
      ]
     },
     "execution_count": 90,
     "metadata": {},
     "output_type": "execute_result"
    }
   ],
   "source": [
    "#converting x_train to a numpy array\n",
    "x_train, Y_train = np.array(x_train), np.array(y_train)\n",
    "\n",
    "#reshaping the data into 3d\n",
    "x_train = np.reshape(x_train, (x_train.shape[0], x_train.shape[1], 1))\n",
    "x_train.shape"
   ]
  },
  {
   "cell_type": "markdown",
   "metadata": {},
   "source": [
    "### Building Compiling training and testing the LSTM model"
   ]
  },
  {
   "cell_type": "code",
   "execution_count": 91,
   "metadata": {},
   "outputs": [],
   "source": [
    "#Building the LSTM model using sequential\n",
    "model=Sequential()\n",
    "\n",
    "#Layer1\n",
    "model.add(LSTM(50, return_sequences=True, input_shape=(x_train.shape[1], 1)))\n",
    "\n",
    "#Layer2\n",
    "model.add(LSTM(50, return_sequences=False))\n",
    "\n",
    "#Layer2\n",
    "model.add(Dense(25))\n",
    "\n",
    "#Output Layer\n",
    "model.add(Dense(1))"
   ]
  },
  {
   "cell_type": "code",
   "execution_count": 92,
   "metadata": {},
   "outputs": [
    {
     "name": "stdout",
     "output_type": "stream",
     "text": [
      "Model: \"sequential_4\"\n",
      "_________________________________________________________________\n",
      "Layer (type)                 Output Shape              Param #   \n",
      "=================================================================\n",
      "lstm_8 (LSTM)                (None, 30, 50)            10400     \n",
      "_________________________________________________________________\n",
      "lstm_9 (LSTM)                (None, 50)                20200     \n",
      "_________________________________________________________________\n",
      "dense_8 (Dense)              (None, 25)                1275      \n",
      "_________________________________________________________________\n",
      "dense_9 (Dense)              (None, 1)                 26        \n",
      "=================================================================\n",
      "Total params: 31,901\n",
      "Trainable params: 31,901\n",
      "Non-trainable params: 0\n",
      "_________________________________________________________________\n"
     ]
    }
   ],
   "source": [
    "# Summarizing the model\n",
    "model.summary()"
   ]
  },
  {
   "cell_type": "code",
   "execution_count": 93,
   "metadata": {},
   "outputs": [],
   "source": [
    "#Compiling the model\n",
    "model.compile(optimizer='adam', loss='mean_squared_error')"
   ]
  },
  {
   "cell_type": "code",
   "execution_count": 94,
   "metadata": {},
   "outputs": [
    {
     "name": "stdout",
     "output_type": "stream",
     "text": [
      "Epoch 1/10\n",
      "21/21 [==============================] - 17s 97ms/step - loss: 0.0473\n",
      "Epoch 2/10\n",
      "21/21 [==============================] - 2s 90ms/step - loss: 0.0026\n",
      "Epoch 3/10\n",
      "21/21 [==============================] - 2s 91ms/step - loss: 0.0017\n",
      "Epoch 4/10\n",
      "21/21 [==============================] - 2s 94ms/step - loss: 0.0021\n",
      "Epoch 5/10\n",
      "21/21 [==============================] - 2s 93ms/step - loss: 0.0022\n",
      "Epoch 6/10\n",
      "21/21 [==============================] - 2s 99ms/step - loss: 0.0029 ETA: 1s - lo\n",
      "Epoch 7/10\n",
      "21/21 [==============================] - 2s 96ms/step - loss: 0.0044\n",
      "Epoch 8/10\n",
      "21/21 [==============================] - 2s 96ms/step - loss: 0.0066\n",
      "Epoch 9/10\n",
      "21/21 [==============================] - 2s 95ms/step - loss: 0.0097\n",
      "Epoch 10/10\n",
      "21/21 [==============================] - 2s 98ms/step - loss: 0.0115\n"
     ]
    },
    {
     "data": {
      "text/plain": [
       "<tensorflow.python.keras.callbacks.History at 0x1f4b4fe8fc8>"
      ]
     },
     "execution_count": 94,
     "metadata": {},
     "output_type": "execute_result"
    }
   ],
   "source": [
    "# Training the model\n",
    "# Using at least 10 epochs\n",
    "model.fit(x_train, y_train, batch_size=5, epochs=10, shuffle = False)"
   ]
  },
  {
   "cell_type": "code",
   "execution_count": 95,
   "metadata": {},
   "outputs": [],
   "source": [
    "#Using 30% of dataset for testing the model\n",
    "test_data = scaled_data[training_data_size - 30: , :]\n",
    "x_test = []\n",
    "y_test = dataset[training_data_size:, :]\n",
    "for i in range(30, len(test_data)):\n",
    "    x_test.append(test_data[i-30:i, 0])"
   ]
  },
  {
   "cell_type": "code",
   "execution_count": 96,
   "metadata": {},
   "outputs": [],
   "source": [
    "#Converting the x_test to a numpy array\n",
    "x_test = np.array(x_test)"
   ]
  },
  {
   "cell_type": "code",
   "execution_count": 97,
   "metadata": {},
   "outputs": [],
   "source": [
    "#Reshaping the data\n",
    "x_test = np.reshape(x_test, (x_test.shape[0], x_test.shape[1],1))"
   ]
  },
  {
   "cell_type": "code",
   "execution_count": 98,
   "metadata": {},
   "outputs": [
    {
     "name": "stdout",
     "output_type": "stream",
     "text": [
      "WARNING:tensorflow:5 out of the last 13 calls to <function Model.make_predict_function.<locals>.predict_function at 0x000001F4A3D0DEE8> triggered tf.function retracing. Tracing is expensive and the excessive number of tracings could be due to (1) creating @tf.function repeatedly in a loop, (2) passing tensors with different shapes, (3) passing Python objects instead of tensors. For (1), please define your @tf.function outside of the loop. For (2), @tf.function has experimental_relax_shapes=True option that relaxes argument shapes that can avoid unnecessary retracing. For (3), please refer to https://www.tensorflow.org/guide/function#controlling_retracing and https://www.tensorflow.org/api_docs/python/tf/function for  more details.\n"
     ]
    }
   ],
   "source": [
    "#Making some predictions\n",
    "predictions = model.predict(x_test)\n",
    "\n",
    "#getting the values of prediction\n",
    "predictions = scaler.inverse_transform(predictions)"
   ]
  },
  {
   "cell_type": "code",
   "execution_count": 99,
   "metadata": {},
   "outputs": [
    {
     "data": {
      "text/plain": [
       "2.9072820691094883"
      ]
     },
     "execution_count": 99,
     "metadata": {},
     "output_type": "execute_result"
    }
   ],
   "source": [
    "#Evaluating the model using Root Mean Square Error\n",
    "rmse = np.sqrt(np.mean(predictions - y_test)**2)\n",
    "rmse"
   ]
  },
  {
   "cell_type": "code",
   "execution_count": 100,
   "metadata": {},
   "outputs": [
    {
     "data": {
      "text/plain": [
       "<function matplotlib.pyplot.show(close=None, block=None)>"
      ]
     },
     "execution_count": 100,
     "metadata": {},
     "output_type": "execute_result"
    },
    {
     "data": {
      "image/png": "[encoded data removed]",
      "text/plain": [
       "<Figure size 1152x576 with 1 Axes>"
      ]
     },
     "metadata": {
      "needs_background": "light"
     },
     "output_type": "display_data"
    }
   ],
   "source": [
    "#Plotting the prediction and the actual values data as a line chart\n",
    "train = data[:training_data_size]\n",
    "valid = data[training_data_size:]\n",
    "valid['predictions'] = predictions\n",
    "plt.figure(figsize=(16,8))\n",
    "plt.title('PAYPAL Covid')\n",
    "plt.xlabel('Date', fontsize=18)\n",
    "plt.ylabel('close price in $', fontsize=18)\n",
    "plt.plot(train['Close'])\n",
    "plt.plot(valid[['Close', 'predictions']])\n",
    "plt.legend(['Train', 'Val', 'predictions'], loc='lower right')\n",
    "plt.show"
   ]
  },
  {
   "cell_type": "code",
   "execution_count": 101,
   "metadata": {},
   "outputs": [
    {
     "data": {
      "text/html": [
       "<div>\n",
       "<style scoped>\n",
       "    .dataframe tbody tr th:only-of-type {\n",
       "        vertical-align: middle;\n",
       "    }\n",
       "\n",
       "    .dataframe tbody tr th {\n",
       "        vertical-align: top;\n",
       "    }\n",
       "\n",
       "    .dataframe thead th {\n",
       "        text-align: right;\n",
       "    }\n",
       "</style>\n",
       "<table border=\"1\" class=\"dataframe\">\n",
       "  <thead>\n",
       "    <tr style=\"text-align: right;\">\n",
       "      <th></th>\n",
       "      <th>Close</th>\n",
       "      <th>predictions</th>\n",
       "    </tr>\n",
       "    <tr>\n",
       "      <th>Date</th>\n",
       "      <th></th>\n",
       "      <th></th>\n",
       "    </tr>\n",
       "  </thead>\n",
       "  <tbody>\n",
       "    <tr>\n",
       "      <th>2020-10-12</th>\n",
       "      <td>201.509995</td>\n",
       "      <td>202.543671</td>\n",
       "    </tr>\n",
       "    <tr>\n",
       "      <th>2020-10-13</th>\n",
       "      <td>207.740005</td>\n",
       "      <td>203.045853</td>\n",
       "    </tr>\n",
       "    <tr>\n",
       "      <th>2020-10-14</th>\n",
       "      <td>203.600006</td>\n",
       "      <td>203.848907</td>\n",
       "    </tr>\n",
       "    <tr>\n",
       "      <th>2020-10-15</th>\n",
       "      <td>203.139999</td>\n",
       "      <td>204.570465</td>\n",
       "    </tr>\n",
       "    <tr>\n",
       "      <th>2020-10-16</th>\n",
       "      <td>204.449997</td>\n",
       "      <td>205.192566</td>\n",
       "    </tr>\n",
       "    <tr>\n",
       "      <th>...</th>\n",
       "      <td>...</td>\n",
       "      <td>...</td>\n",
       "    </tr>\n",
       "    <tr>\n",
       "      <th>2021-01-13</th>\n",
       "      <td>244.899994</td>\n",
       "      <td>223.581009</td>\n",
       "    </tr>\n",
       "    <tr>\n",
       "      <th>2021-01-14</th>\n",
       "      <td>242.059998</td>\n",
       "      <td>224.085251</td>\n",
       "    </tr>\n",
       "    <tr>\n",
       "      <th>2021-01-15</th>\n",
       "      <td>239.789993</td>\n",
       "      <td>224.544464</td>\n",
       "    </tr>\n",
       "    <tr>\n",
       "      <th>2021-01-19</th>\n",
       "      <td>247.250000</td>\n",
       "      <td>224.874268</td>\n",
       "    </tr>\n",
       "    <tr>\n",
       "      <th>2021-01-20</th>\n",
       "      <td>244.259995</td>\n",
       "      <td>225.395203</td>\n",
       "    </tr>\n",
       "  </tbody>\n",
       "</table>\n",
       "<p>69 rows × 2 columns</p>\n",
       "</div>"
      ],
      "text/plain": [
       "                 Close  predictions\n",
       "Date                               \n",
       "2020-10-12  201.509995   202.543671\n",
       "2020-10-13  207.740005   203.045853\n",
       "2020-10-14  203.600006   203.848907\n",
       "2020-10-15  203.139999   204.570465\n",
       "2020-10-16  204.449997   205.192566\n",
       "...                ...          ...\n",
       "2021-01-13  244.899994   223.581009\n",
       "2021-01-14  242.059998   224.085251\n",
       "2021-01-15  239.789993   224.544464\n",
       "2021-01-19  247.250000   224.874268\n",
       "2021-01-20  244.259995   225.395203\n",
       "\n",
       "[69 rows x 2 columns]"
      ]
     },
     "execution_count": 101,
     "metadata": {},
     "output_type": "execute_result"
    }
   ],
   "source": [
    "#Printing the data in a table\n",
    "valid"
   ]
  }
 ],
 "metadata": {
  "kernelspec": {
   "display_name": "deeplearning",
   "language": "python",
   "name": "deeplearning"
  },
  "language_info": {
   "codemirror_mode": {
    "name": "ipython",
    "version": 3
   },
   "file_extension": ".py",
   "mimetype": "text/x-python",
   "name": "python",
   "nbconvert_exporter": "python",
   "pygments_lexer": "ipython3",
   "version": "3.7.9"
  }
 },
 "nbformat": 4,
 "nbformat_minor": 4
}
